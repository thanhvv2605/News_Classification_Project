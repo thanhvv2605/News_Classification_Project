{
 "cells": [
  {
   "cell_type": "code",
   "execution_count": 1,
   "metadata": {},
   "outputs": [],
   "source": [
    "import pandas as pd\n",
    "import matplotlib.pyplot as plt\n",
    "import seaborn as sns\n",
    "from sklearn.utils import resample\n",
    "from sklearn.utils import shuffle\n",
    "\n",
    "from sklearn.model_selection import train_test_split\n",
    "from sklearn.preprocessing import LabelEncoder\n",
    "from sklearn.metrics import accuracy_score, confusion_matrix, classification_report\n",
    "from sklearn.feature_extraction.text import CountVectorizer, TfidfTransformer\n",
    "from sklearn.pipeline import Pipeline\n",
    "from sklearn.linear_model import SGDClassifier"
   ]
  },
  {
   "cell_type": "code",
   "execution_count": 2,
   "metadata": {},
   "outputs": [
    {
     "data": {
      "text/html": [
       "<div>\n",
       "<style scoped>\n",
       "    .dataframe tbody tr th:only-of-type {\n",
       "        vertical-align: middle;\n",
       "    }\n",
       "\n",
       "    .dataframe tbody tr th {\n",
       "        vertical-align: top;\n",
       "    }\n",
       "\n",
       "    .dataframe thead th {\n",
       "        text-align: right;\n",
       "    }\n",
       "</style>\n",
       "<table border=\"1\" class=\"dataframe\">\n",
       "  <thead>\n",
       "    <tr style=\"text-align: right;\">\n",
       "      <th></th>\n",
       "      <th>link</th>\n",
       "      <th>headline</th>\n",
       "      <th>category</th>\n",
       "      <th>short_description</th>\n",
       "      <th>authors</th>\n",
       "      <th>date</th>\n",
       "    </tr>\n",
       "  </thead>\n",
       "  <tbody>\n",
       "    <tr>\n",
       "      <th>0</th>\n",
       "      <td>https://www.huffpost.com/entry/covid-boosters-...</td>\n",
       "      <td>Over 4 Million Americans Roll Up Sleeves For O...</td>\n",
       "      <td>U.S. NEWS</td>\n",
       "      <td>Health experts said it is too early to predict...</td>\n",
       "      <td>Carla K. Johnson, AP</td>\n",
       "      <td>2022-09-23</td>\n",
       "    </tr>\n",
       "    <tr>\n",
       "      <th>1</th>\n",
       "      <td>https://www.huffpost.com/entry/american-airlin...</td>\n",
       "      <td>American Airlines Flyer Charged, Banned For Li...</td>\n",
       "      <td>U.S. NEWS</td>\n",
       "      <td>He was subdued by passengers and crew when he ...</td>\n",
       "      <td>Mary Papenfuss</td>\n",
       "      <td>2022-09-23</td>\n",
       "    </tr>\n",
       "    <tr>\n",
       "      <th>2</th>\n",
       "      <td>https://www.huffpost.com/entry/funniest-tweets...</td>\n",
       "      <td>23 Of The Funniest Tweets About Cats And Dogs ...</td>\n",
       "      <td>COMEDY</td>\n",
       "      <td>\"Until you have a dog you don't understand wha...</td>\n",
       "      <td>Elyse Wanshel</td>\n",
       "      <td>2022-09-23</td>\n",
       "    </tr>\n",
       "    <tr>\n",
       "      <th>3</th>\n",
       "      <td>https://www.huffpost.com/entry/funniest-parent...</td>\n",
       "      <td>The Funniest Tweets From Parents This Week (Se...</td>\n",
       "      <td>PARENTING</td>\n",
       "      <td>\"Accidentally put grown-up toothpaste on my to...</td>\n",
       "      <td>Caroline Bologna</td>\n",
       "      <td>2022-09-23</td>\n",
       "    </tr>\n",
       "    <tr>\n",
       "      <th>4</th>\n",
       "      <td>https://www.huffpost.com/entry/amy-cooper-lose...</td>\n",
       "      <td>Woman Who Called Cops On Black Bird-Watcher Lo...</td>\n",
       "      <td>U.S. NEWS</td>\n",
       "      <td>Amy Cooper accused investment firm Franklin Te...</td>\n",
       "      <td>Nina Golgowski</td>\n",
       "      <td>2022-09-22</td>\n",
       "    </tr>\n",
       "  </tbody>\n",
       "</table>\n",
       "</div>"
      ],
      "text/plain": [
       "                                                link  \\\n",
       "0  https://www.huffpost.com/entry/covid-boosters-...   \n",
       "1  https://www.huffpost.com/entry/american-airlin...   \n",
       "2  https://www.huffpost.com/entry/funniest-tweets...   \n",
       "3  https://www.huffpost.com/entry/funniest-parent...   \n",
       "4  https://www.huffpost.com/entry/amy-cooper-lose...   \n",
       "\n",
       "                                            headline   category  \\\n",
       "0  Over 4 Million Americans Roll Up Sleeves For O...  U.S. NEWS   \n",
       "1  American Airlines Flyer Charged, Banned For Li...  U.S. NEWS   \n",
       "2  23 Of The Funniest Tweets About Cats And Dogs ...     COMEDY   \n",
       "3  The Funniest Tweets From Parents This Week (Se...  PARENTING   \n",
       "4  Woman Who Called Cops On Black Bird-Watcher Lo...  U.S. NEWS   \n",
       "\n",
       "                                   short_description               authors  \\\n",
       "0  Health experts said it is too early to predict...  Carla K. Johnson, AP   \n",
       "1  He was subdued by passengers and crew when he ...        Mary Papenfuss   \n",
       "2  \"Until you have a dog you don't understand wha...         Elyse Wanshel   \n",
       "3  \"Accidentally put grown-up toothpaste on my to...      Caroline Bologna   \n",
       "4  Amy Cooper accused investment firm Franklin Te...        Nina Golgowski   \n",
       "\n",
       "        date  \n",
       "0 2022-09-23  \n",
       "1 2022-09-23  \n",
       "2 2022-09-23  \n",
       "3 2022-09-23  \n",
       "4 2022-09-22  "
      ]
     },
     "execution_count": 2,
     "metadata": {},
     "output_type": "execute_result"
    }
   ],
   "source": [
    "data = pd.read_json('./News_Category_Dataset_v3.json',lines=True) # lines for avoid the trailing error\n",
    "data.head()"
   ]
  },
  {
   "attachments": {},
   "cell_type": "markdown",
   "metadata": {},
   "source": [
    "Handling duplicate and null values"
   ]
  },
  {
   "cell_type": "code",
   "execution_count": 3,
   "metadata": {},
   "outputs": [
    {
     "data": {
      "text/plain": [
       "13"
      ]
     },
     "execution_count": 3,
     "metadata": {},
     "output_type": "execute_result"
    }
   ],
   "source": [
    "#delete the dublicate values\n",
    "data.duplicated().sum() # count the total duplicate samples"
   ]
  },
  {
   "cell_type": "code",
   "execution_count": 4,
   "metadata": {},
   "outputs": [],
   "source": [
    "data.drop_duplicates(keep='last',inplace=True)"
   ]
  },
  {
   "cell_type": "code",
   "execution_count": 5,
   "metadata": {},
   "outputs": [
    {
     "data": {
      "text/plain": [
       "476"
      ]
     },
     "execution_count": 5,
     "metadata": {},
     "output_type": "execute_result"
    }
   ],
   "source": [
    "#there can be dublicate of author names so check for the dublicate headline and short discription\n",
    "data.duplicated(subset=['headline', 'short_description']).sum()"
   ]
  },
  {
   "cell_type": "code",
   "execution_count": 6,
   "metadata": {},
   "outputs": [],
   "source": [
    "data.drop_duplicates(subset=['headline', 'short_description'],inplace=True,keep='last')"
   ]
  },
  {
   "cell_type": "code",
   "execution_count": 7,
   "metadata": {},
   "outputs": [
    {
     "name": "stdout",
     "output_type": "stream",
     "text": [
      "THe length of the datset after dublicate deletion------> (209038, 6)\n"
     ]
    }
   ],
   "source": [
    "print(\"THe length of the datset after dublicate deletion------>\",data.shape)"
   ]
  },
  {
   "attachments": {},
   "cell_type": "markdown",
   "metadata": {},
   "source": [
    "Handling null values"
   ]
  },
  {
   "cell_type": "code",
   "execution_count": 8,
   "metadata": {},
   "outputs": [
    {
     "data": {
      "text/plain": [
       "link                 0\n",
       "headline             0\n",
       "category             0\n",
       "short_description    0\n",
       "authors              0\n",
       "date                 0\n",
       "dtype: int64"
      ]
     },
     "execution_count": 8,
     "metadata": {},
     "output_type": "execute_result"
    }
   ],
   "source": [
    "data.isnull().sum()"
   ]
  },
  {
   "cell_type": "code",
   "execution_count": 9,
   "metadata": {},
   "outputs": [
    {
     "data": {
      "text/html": [
       "<div>\n",
       "<style scoped>\n",
       "    .dataframe tbody tr th:only-of-type {\n",
       "        vertical-align: middle;\n",
       "    }\n",
       "\n",
       "    .dataframe tbody tr th {\n",
       "        vertical-align: top;\n",
       "    }\n",
       "\n",
       "    .dataframe thead th {\n",
       "        text-align: right;\n",
       "    }\n",
       "</style>\n",
       "<table border=\"1\" class=\"dataframe\">\n",
       "  <thead>\n",
       "    <tr style=\"text-align: right;\">\n",
       "      <th></th>\n",
       "      <th>link</th>\n",
       "      <th>headline</th>\n",
       "      <th>category</th>\n",
       "      <th>short_description</th>\n",
       "      <th>authors</th>\n",
       "      <th>date</th>\n",
       "    </tr>\n",
       "  </thead>\n",
       "  <tbody>\n",
       "    <tr>\n",
       "      <th>95567</th>\n",
       "      <td>https://www.huffingtonpost.com/entry/post_9671...</td>\n",
       "      <td></td>\n",
       "      <td>RELIGION</td>\n",
       "      <td>Let everyone not wrapped in tired and disprove...</td>\n",
       "      <td>Matthew Fox, ContributorRadical theologian Mat...</td>\n",
       "      <td>2015-06-30</td>\n",
       "    </tr>\n",
       "    <tr>\n",
       "      <th>122145</th>\n",
       "      <td>https://www.huffingtonpost.com/entry/beverly-h...</td>\n",
       "      <td></td>\n",
       "      <td>QUEER VOICES</td>\n",
       "      <td></td>\n",
       "      <td>Gary Snyder, ContributorWriter and Media Strat...</td>\n",
       "      <td>2014-08-28</td>\n",
       "    </tr>\n",
       "  </tbody>\n",
       "</table>\n",
       "</div>"
      ],
      "text/plain": [
       "                                                     link headline  \\\n",
       "95567   https://www.huffingtonpost.com/entry/post_9671...            \n",
       "122145  https://www.huffingtonpost.com/entry/beverly-h...            \n",
       "\n",
       "            category                                  short_description  \\\n",
       "95567       RELIGION  Let everyone not wrapped in tired and disprove...   \n",
       "122145  QUEER VOICES                                                      \n",
       "\n",
       "                                                  authors       date  \n",
       "95567   Matthew Fox, ContributorRadical theologian Mat... 2015-06-30  \n",
       "122145  Gary Snyder, ContributorWriter and Media Strat... 2014-08-28  "
      ]
     },
     "execution_count": 9,
     "metadata": {},
     "output_type": "execute_result"
    }
   ],
   "source": [
    "# there is no null value instead of null they are blank so we need to check for the blank placess and delete that\n",
    "data[data['headline'] == '']"
   ]
  },
  {
   "cell_type": "code",
   "execution_count": 10,
   "metadata": {},
   "outputs": [
    {
     "name": "stdout",
     "output_type": "stream",
     "text": [
      "The length of the dataset ------> (209036, 6)\n"
     ]
    }
   ],
   "source": [
    "# drop the blank values\n",
    "headline_blank = data['headline'] == ''\n",
    "data = data[~headline_blank]\n",
    "print(\"The length of the dataset ------>\",data.shape)"
   ]
  },
  {
   "cell_type": "code",
   "execution_count": 11,
   "metadata": {},
   "outputs": [
    {
     "name": "stdout",
     "output_type": "stream",
     "text": [
      "the lenth of the blank description samples-----> 19610\n",
      "THe length of the datset ----------------------> (189426, 6)\n"
     ]
    }
   ],
   "source": [
    "#drop the blank short describtion column\n",
    "description_blank = data['short_description']==''\n",
    "print(\"the lenth of the blank description samples----->\",len(data[description_blank]))\n",
    "data = data[~description_blank]\n",
    "print(\"THe length of the datset ---------------------->\",data.shape)"
   ]
  },
  {
   "cell_type": "code",
   "execution_count": 12,
   "metadata": {},
   "outputs": [
    {
     "name": "stdout",
     "output_type": "stream",
     "text": [
      "the lenth of the blank auhtor samples----------> 32853\n",
      "THe length of the datset ----------------------> (156573, 6)\n"
     ]
    }
   ],
   "source": [
    "#drop the null author samples\n",
    "author_blank = data['authors']==''\n",
    "print(\"the lenth of the blank auhtor samples---------->\",len(data[author_blank]))\n",
    "data = data[~author_blank]\n",
    "print(\"THe length of the datset ---------------------->\",data.shape)"
   ]
  },
  {
   "cell_type": "code",
   "execution_count": 13,
   "metadata": {},
   "outputs": [
    {
     "data": {
      "text/html": [
       "<div>\n",
       "<style scoped>\n",
       "    .dataframe tbody tr th:only-of-type {\n",
       "        vertical-align: middle;\n",
       "    }\n",
       "\n",
       "    .dataframe tbody tr th {\n",
       "        vertical-align: top;\n",
       "    }\n",
       "\n",
       "    .dataframe thead th {\n",
       "        text-align: right;\n",
       "    }\n",
       "</style>\n",
       "<table border=\"1\" class=\"dataframe\">\n",
       "  <thead>\n",
       "    <tr style=\"text-align: right;\">\n",
       "      <th></th>\n",
       "      <th>link</th>\n",
       "      <th>headline</th>\n",
       "      <th>category</th>\n",
       "      <th>short_description</th>\n",
       "      <th>authors</th>\n",
       "      <th>date</th>\n",
       "    </tr>\n",
       "  </thead>\n",
       "  <tbody>\n",
       "    <tr>\n",
       "      <th>0</th>\n",
       "      <td>https://www.huffpost.com/entry/covid-boosters-...</td>\n",
       "      <td>Over 4 Million Americans Roll Up Sleeves For O...</td>\n",
       "      <td>U.S. NEWS</td>\n",
       "      <td>Health experts said it is too early to predict...</td>\n",
       "      <td>Carla K. Johnson, AP</td>\n",
       "      <td>2022-09-23</td>\n",
       "    </tr>\n",
       "    <tr>\n",
       "      <th>1</th>\n",
       "      <td>https://www.huffpost.com/entry/american-airlin...</td>\n",
       "      <td>American Airlines Flyer Charged, Banned For Li...</td>\n",
       "      <td>U.S. NEWS</td>\n",
       "      <td>He was subdued by passengers and crew when he ...</td>\n",
       "      <td>Mary Papenfuss</td>\n",
       "      <td>2022-09-23</td>\n",
       "    </tr>\n",
       "    <tr>\n",
       "      <th>2</th>\n",
       "      <td>https://www.huffpost.com/entry/funniest-tweets...</td>\n",
       "      <td>23 Of The Funniest Tweets About Cats And Dogs ...</td>\n",
       "      <td>COMEDY</td>\n",
       "      <td>\"Until you have a dog you don't understand wha...</td>\n",
       "      <td>Elyse Wanshel</td>\n",
       "      <td>2022-09-23</td>\n",
       "    </tr>\n",
       "    <tr>\n",
       "      <th>3</th>\n",
       "      <td>https://www.huffpost.com/entry/funniest-parent...</td>\n",
       "      <td>The Funniest Tweets From Parents This Week (Se...</td>\n",
       "      <td>PARENTING</td>\n",
       "      <td>\"Accidentally put grown-up toothpaste on my to...</td>\n",
       "      <td>Caroline Bologna</td>\n",
       "      <td>2022-09-23</td>\n",
       "    </tr>\n",
       "    <tr>\n",
       "      <th>4</th>\n",
       "      <td>https://www.huffpost.com/entry/amy-cooper-lose...</td>\n",
       "      <td>Woman Who Called Cops On Black Bird-Watcher Lo...</td>\n",
       "      <td>U.S. NEWS</td>\n",
       "      <td>Amy Cooper accused investment firm Franklin Te...</td>\n",
       "      <td>Nina Golgowski</td>\n",
       "      <td>2022-09-22</td>\n",
       "    </tr>\n",
       "  </tbody>\n",
       "</table>\n",
       "</div>"
      ],
      "text/plain": [
       "                                                link  \\\n",
       "0  https://www.huffpost.com/entry/covid-boosters-...   \n",
       "1  https://www.huffpost.com/entry/american-airlin...   \n",
       "2  https://www.huffpost.com/entry/funniest-tweets...   \n",
       "3  https://www.huffpost.com/entry/funniest-parent...   \n",
       "4  https://www.huffpost.com/entry/amy-cooper-lose...   \n",
       "\n",
       "                                            headline   category  \\\n",
       "0  Over 4 Million Americans Roll Up Sleeves For O...  U.S. NEWS   \n",
       "1  American Airlines Flyer Charged, Banned For Li...  U.S. NEWS   \n",
       "2  23 Of The Funniest Tweets About Cats And Dogs ...     COMEDY   \n",
       "3  The Funniest Tweets From Parents This Week (Se...  PARENTING   \n",
       "4  Woman Who Called Cops On Black Bird-Watcher Lo...  U.S. NEWS   \n",
       "\n",
       "                                   short_description               authors  \\\n",
       "0  Health experts said it is too early to predict...  Carla K. Johnson, AP   \n",
       "1  He was subdued by passengers and crew when he ...        Mary Papenfuss   \n",
       "2  \"Until you have a dog you don't understand wha...         Elyse Wanshel   \n",
       "3  \"Accidentally put grown-up toothpaste on my to...      Caroline Bologna   \n",
       "4  Amy Cooper accused investment firm Franklin Te...        Nina Golgowski   \n",
       "\n",
       "        date  \n",
       "0 2022-09-23  \n",
       "1 2022-09-23  \n",
       "2 2022-09-23  \n",
       "3 2022-09-23  \n",
       "4 2022-09-22  "
      ]
     },
     "execution_count": 13,
     "metadata": {},
     "output_type": "execute_result"
    }
   ],
   "source": [
    "data.head(5)"
   ]
  },
  {
   "cell_type": "code",
   "execution_count": 14,
   "metadata": {},
   "outputs": [
    {
     "data": {
      "image/png": "[encoded data removed]",
      "text/plain": [
       "<Figure size 2500x1800 with 1 Axes>"
      ]
     },
     "metadata": {},
     "output_type": "display_data"
    },
    {
     "data": {
      "text/plain": [
       "<Figure size 640x480 with 0 Axes>"
      ]
     },
     "metadata": {},
     "output_type": "display_data"
    }
   ],
   "source": [
    "#author\n",
    "#auhtor plot\n",
    "auhtor_count = data['authors'].value_counts()\n",
    "\n",
    "plt.figure(figsize=(25,18))\n",
    "sns.barplot(y=auhtor_count[:25].index,x=auhtor_count[:25].values)\n",
    "plt.title(\"The distribution of authors\")\n",
    "plt.xlabel(\"Author Name\")\n",
    "plt.ylabel(\"The number of samples\")\n",
    "\n",
    "plt.yticks(rotation=0,fontsize = 18)\n",
    "plt.show()\n",
    "plt.savefig(r\"./author_bar.png\")"
   ]
  },
  {
   "attachments": {},
   "cell_type": "markdown",
   "metadata": {},
   "source": [
    "Balance the category data"
   ]
  },
  {
   "cell_type": "code",
   "execution_count": 15,
   "metadata": {},
   "outputs": [
    {
     "data": {
      "text/plain": [
       "['POLITICS',\n",
       " 'ENTERTAINMENT',\n",
       " 'WELLNESS',\n",
       " 'TRAVEL',\n",
       " 'STYLE & BEAUTY',\n",
       " 'PARENTING',\n",
       " 'HEALTHY LIVING',\n",
       " 'QUEER VOICES',\n",
       " 'FOOD & DRINK',\n",
       " 'BUSINESS',\n",
       " 'COMEDY',\n",
       " 'SPORTS',\n",
       " 'HOME & LIVING',\n",
       " 'PARENTS',\n",
       " 'BLACK VOICES',\n",
       " 'IMPACT',\n",
       " 'WOMEN',\n",
       " 'WORLD NEWS',\n",
       " 'THE WORLDPOST',\n",
       " 'MEDIA',\n",
       " 'CRIME',\n",
       " 'WEIRD NEWS',\n",
       " 'TASTE',\n",
       " 'RELIGION',\n",
       " 'WEDDINGS',\n",
       " 'DIVORCE',\n",
       " 'GREEN',\n",
       " 'TECH',\n",
       " 'MONEY',\n",
       " 'STYLE',\n",
       " 'SCIENCE',\n",
       " 'ARTS & CULTURE',\n",
       " 'WORLDPOST',\n",
       " 'U.S. NEWS',\n",
       " 'FIFTY',\n",
       " 'GOOD NEWS',\n",
       " 'EDUCATION',\n",
       " 'LATINO VOICES',\n",
       " 'ARTS',\n",
       " 'COLLEGE',\n",
       " 'ENVIRONMENT',\n",
       " 'CULTURE & ARTS']"
      ]
     },
     "execution_count": 15,
     "metadata": {},
     "output_type": "execute_result"
    }
   ],
   "source": [
    "category = data['category'].value_counts()\n",
    "list(category.index)"
   ]
  },
  {
   "cell_type": "code",
   "execution_count": 16,
   "metadata": {},
   "outputs": [],
   "source": [
    "cateo_keep = (data['category'] == 'POLITICS') | (data['category'] == 'WELLNESS' )| (data['category'] == 'ENTERTAINMENT') | (data['category'] == 'TRAVEL') | \\\n",
    "            (data['category'] == 'STYLE & BEAUTY') | (data['category'] == 'PARENTING' )| (data['category'] == 'HEALTHY LIVING') | (data['category'] == 'QUEER VOICES') | \\\n",
    "              (data['category'] == 'FOOD & DRINK') | (data['category'] == 'BUSINESS' )| (data['category'] == 'COMEDY') | (data['category'] == 'PARENTS') | (data['category'] == 'SPORTS') | (data['category'] == 'HOME & LIVING' )| (data['category'] == 'BLACK VOICES')\n",
    "data = data[cateo_keep]\n"
   ]
  },
  {
   "cell_type": "code",
   "execution_count": 17,
   "metadata": {},
   "outputs": [
    {
     "data": {
      "text/plain": [
       "POLITICS          29673\n",
       "ENTERTAINMENT     13461\n",
       "WELLNESS          12944\n",
       "TRAVEL             8021\n",
       "STYLE & BEAUTY     7173\n",
       "PARENTING          6517\n",
       "HEALTHY LIVING     5071\n",
       "QUEER VOICES       4699\n",
       "FOOD & DRINK       4527\n",
       "BUSINESS           4372\n",
       "COMEDY             3934\n",
       "SPORTS             3608\n",
       "HOME & LIVING      3490\n",
       "PARENTS            3451\n",
       "BLACK VOICES       3310\n",
       "Name: category, dtype: int64"
      ]
     },
     "execution_count": 17,
     "metadata": {},
     "output_type": "execute_result"
    }
   ],
   "source": [
    "category = data['category'].value_counts()\n",
    "category"
   ]
  },
  {
   "cell_type": "code",
   "execution_count": 18,
   "metadata": {},
   "outputs": [
    {
     "data": {
      "text/plain": [
       "POLITICS          3000\n",
       "WELLNESS          3000\n",
       "ENTERTAINMENT     3000\n",
       "TRAVEL            3000\n",
       "STYLE & BEAUTY    3000\n",
       "PARENTING         3000\n",
       "HEALTHY LIVING    3000\n",
       "QUEER VOICES      3000\n",
       "FOOD & DRINK      3000\n",
       "BUSINESS          3000\n",
       "COMEDY            3000\n",
       "PARENTS           3000\n",
       "SPORTS            3000\n",
       "HOME & LIVING     3000\n",
       "BLACK VOICES      3000\n",
       "Name: category, dtype: int64"
      ]
     },
     "execution_count": 18,
     "metadata": {},
     "output_type": "execute_result"
    }
   ],
   "source": [
    "data_1 = data[data['category'] == 'POLITICS']\n",
    "data_1 = resample(data_1, replace=False, n_samples=3000, random_state=123)\n",
    "data_2 = data[data['category'] == 'WELLNESS']\n",
    "data_2 = resample(data_2, replace=False, n_samples=3000, random_state=123)\n",
    "data_3 = data[data['category'] == 'ENTERTAINMENT']\n",
    "data_3 = resample(data_3, replace=False, n_samples=3000, random_state=123)\n",
    "data_4 = data[data['category'] == 'TRAVEL']\n",
    "data_4 = resample(data_4, replace=False, n_samples=3000, random_state=123)\n",
    "data_5 = data[data['category'] == 'STYLE & BEAUTY']\n",
    "data_5 = resample(data_5, replace=False, n_samples=3000, random_state=123)\n",
    "data_6 = data[data['category'] == 'PARENTING']\n",
    "data_6 = resample(data_6, replace=False, n_samples=3000, random_state=123)\n",
    "data_7 = data[data['category'] == 'HEALTHY LIVING']\n",
    "data_7 = resample(data_7, replace=False, n_samples=3000, random_state=123)\n",
    "data_8 = data[data['category'] == 'QUEER VOICES']\n",
    "data_8 = resample(data_8, replace=False, n_samples=3000, random_state=123)\n",
    "data_9 = data[data['category'] == 'FOOD & DRINK']\n",
    "data_9 = resample(data_9, replace=False, n_samples=3000, random_state=123)\n",
    "data_10 = data[data['category'] == 'BUSINESS']\n",
    "data_10 = resample(data_10, replace=False, n_samples=3000, random_state=123)\n",
    "data_11 = data[data['category'] == 'COMEDY']\n",
    "data_11 = resample(data_11, replace=False, n_samples=3000, random_state=123)\n",
    "data_12= data[data['category'] == 'PARENTS']\n",
    "data_12 = resample(data_12, replace=False, n_samples=3000, random_state=123)\n",
    "data_13= data[data['category'] == 'SPORTS']\n",
    "data_13 = resample(data_13, replace=False, n_samples=3000, random_state=123)\n",
    "data_14 = data[data['category'] == 'HOME & LIVING']\n",
    "data_14 = resample(data_14, replace=False, n_samples=3000, random_state=123)\n",
    "data_15 = data[data['category'] == 'BLACK VOICES']\n",
    "data_15 = resample(data_15, replace=False, n_samples=3000, random_state=123)\n",
    "\n",
    "cato_list = [data_1 , data_2 , data_3 , data_4 ,data_5 , data_6 , data_7, data_8 , data_9 , data_10, data_11 , data_12 , data_13, data_14 ,data_15]\n",
    "\n",
    "data = pd.concat(cato_list)\n",
    "data['category'].value_counts()"
   ]
  },
  {
   "attachments": {},
   "cell_type": "markdown",
   "metadata": {},
   "source": [
    "Column Combining"
   ]
  },
  {
   "cell_type": "code",
   "execution_count": 19,
   "metadata": {},
   "outputs": [],
   "source": [
    "data['text'] = data['headline']+' '+data['short_description']\n",
    "#drop the other columns\n",
    "data.drop(['authors','headline','short_description'],axis=1,inplace=True)\n"
   ]
  },
  {
   "cell_type": "code",
   "execution_count": 20,
   "metadata": {},
   "outputs": [
    {
     "data": {
      "text/html": [
       "<div>\n",
       "<style scoped>\n",
       "    .dataframe tbody tr th:only-of-type {\n",
       "        vertical-align: middle;\n",
       "    }\n",
       "\n",
       "    .dataframe tbody tr th {\n",
       "        vertical-align: top;\n",
       "    }\n",
       "\n",
       "    .dataframe thead th {\n",
       "        text-align: right;\n",
       "    }\n",
       "</style>\n",
       "<table border=\"1\" class=\"dataframe\">\n",
       "  <thead>\n",
       "    <tr style=\"text-align: right;\">\n",
       "      <th></th>\n",
       "      <th>link</th>\n",
       "      <th>category</th>\n",
       "      <th>date</th>\n",
       "      <th>text</th>\n",
       "    </tr>\n",
       "  </thead>\n",
       "  <tbody>\n",
       "    <tr>\n",
       "      <th>0</th>\n",
       "      <td>https://www.huffingtonpost.com/entry/etsy-shop...</td>\n",
       "      <td>HOME &amp; LIVING</td>\n",
       "      <td>2012-05-10</td>\n",
       "      <td>Etsy Shop Tour: The Story Behind Designer Ursu...</td>\n",
       "    </tr>\n",
       "    <tr>\n",
       "      <th>1</th>\n",
       "      <td>https://www.huffingtonpost.com/entry/how-do-mo...</td>\n",
       "      <td>BLACK VOICES</td>\n",
       "      <td>2014-12-30</td>\n",
       "      <td>How Do Mothers of Slain, Unarmed Black Daughte...</td>\n",
       "    </tr>\n",
       "    <tr>\n",
       "      <th>2</th>\n",
       "      <td>https://www.huffingtonpost.com/entry/beckerman...</td>\n",
       "      <td>STYLE &amp; BEAUTY</td>\n",
       "      <td>2012-04-12</td>\n",
       "      <td>Beckerman Sisters' Anniversary: One Year In Ou...</td>\n",
       "    </tr>\n",
       "    <tr>\n",
       "      <th>3</th>\n",
       "      <td>https://www.huffingtonpost.com/entry/aumf-war-...</td>\n",
       "      <td>POLITICS</td>\n",
       "      <td>2018-04-16</td>\n",
       "      <td>Senators Unveil Bipartisan War Authorization B...</td>\n",
       "    </tr>\n",
       "  </tbody>\n",
       "</table>\n",
       "</div>"
      ],
      "text/plain": [
       "                                                link        category  \\\n",
       "0  https://www.huffingtonpost.com/entry/etsy-shop...   HOME & LIVING   \n",
       "1  https://www.huffingtonpost.com/entry/how-do-mo...    BLACK VOICES   \n",
       "2  https://www.huffingtonpost.com/entry/beckerman...  STYLE & BEAUTY   \n",
       "3  https://www.huffingtonpost.com/entry/aumf-war-...        POLITICS   \n",
       "\n",
       "        date                                               text  \n",
       "0 2012-05-10  Etsy Shop Tour: The Story Behind Designer Ursu...  \n",
       "1 2014-12-30  How Do Mothers of Slain, Unarmed Black Daughte...  \n",
       "2 2012-04-12  Beckerman Sisters' Anniversary: One Year In Ou...  \n",
       "3 2018-04-16  Senators Unveil Bipartisan War Authorization B...  "
      ]
     },
     "execution_count": 20,
     "metadata": {},
     "output_type": "execute_result"
    }
   ],
   "source": [
    "data = shuffle(data)\n",
    "data.reset_index(inplace=True, drop=True)\n",
    "data.head(4)"
   ]
  },
  {
   "attachments": {},
   "cell_type": "markdown",
   "metadata": {},
   "source": [
    "Test cleaning"
   ]
  },
  {
   "cell_type": "code",
   "execution_count": 21,
   "metadata": {},
   "outputs": [
    {
     "data": {
      "text/plain": [
       "\"corpus=[]\\nfor i in range(100000):\\n    text = data.iloc[i,1]\\n\\n    text = text.lower()\\n    text = re.sub('[^a-z0-9]',' ',text)\\n    text = text.split()\\n\\n    s = PorterStemmer()\\n    text = [s.stem(word) for word in text if not word in set(stopwords.words('english')) ]\\n    text = ' '.join(text)\\n    corpus.append(text)\\n\\n    if i%1000==0:\\n        print(i,end='->')\""
      ]
     },
     "execution_count": 21,
     "metadata": {},
     "output_type": "execute_result"
    }
   ],
   "source": [
    "\"\"\"corpus=[]\n",
    "for i in range(100000):\n",
    "    text = data.iloc[i,1]\n",
    "\n",
    "    text = text.lower()\n",
    "    text = re.sub('[^a-z0-9]',' ',text)\n",
    "    text = text.split()\n",
    "\n",
    "    s = PorterStemmer()\n",
    "    text = [s.stem(word) for word in text if not word in set(stopwords.words('english')) ]\n",
    "    text = ' '.join(text)\n",
    "    corpus.append(text)\n",
    "\n",
    "    if i%1000==0:\n",
    "        print(i,end='->')\"\"\"\n"
   ]
  },
  {
   "cell_type": "code",
   "execution_count": 22,
   "metadata": {},
   "outputs": [
    {
     "data": {
      "text/plain": [
       "\"corpus = pd.read_csv('../input/corpus/corpus.csv')\\ncorpus\""
      ]
     },
     "execution_count": 22,
     "metadata": {},
     "output_type": "execute_result"
    }
   ],
   "source": [
    "\"\"\"corpus = pd.read_csv('../input/corpus/corpus.csv')\n",
    "corpus\"\"\""
   ]
  },
  {
   "attachments": {},
   "cell_type": "markdown",
   "metadata": {},
   "source": [
    "Model SVM"
   ]
  },
  {
   "cell_type": "code",
   "execution_count": 23,
   "metadata": {},
   "outputs": [],
   "source": [
    "X_TRAIN, X_TEST, Y_TRAIN, Y_TEST = train_test_split(data['text'], data['category'], test_size=0.3, random_state=32)"
   ]
  },
  {
   "cell_type": "code",
   "execution_count": 24,
   "metadata": {},
   "outputs": [
    {
     "name": "stdout",
     "output_type": "stream",
     "text": [
      "accuracy 0.6303703703703704 : \n",
      "                precision    recall  f1-score   support\n",
      "\n",
      "  BLACK VOICES       0.65      0.64      0.64       928\n",
      "      BUSINESS       0.69      0.67      0.68       911\n",
      "        COMEDY       0.65      0.58      0.61       906\n",
      " ENTERTAINMENT       0.65      0.46      0.54       884\n",
      "  FOOD & DRINK       0.65      0.84      0.73       879\n",
      "HEALTHY LIVING       0.51      0.32      0.39       884\n",
      " HOME & LIVING       0.60      0.81      0.69       894\n",
      "     PARENTING       0.52      0.43      0.47       931\n",
      "       PARENTS       0.52      0.38      0.44       925\n",
      "      POLITICS       0.68      0.72      0.70       937\n",
      "  QUEER VOICES       0.68      0.81      0.74       857\n",
      "        SPORTS       0.71      0.83      0.77       914\n",
      "STYLE & BEAUTY       0.67      0.79      0.73       887\n",
      "        TRAVEL       0.64      0.76      0.69       877\n",
      "      WELLNESS       0.51      0.43      0.46       886\n",
      "\n",
      "      accuracy                           0.63     13500\n",
      "     macro avg       0.62      0.63      0.62     13500\n",
      "  weighted avg       0.62      0.63      0.62     13500\n",
      "\n"
     ]
    }
   ],
   "source": [
    "sgd = Pipeline([\n",
    "    ('vect', CountVectorizer()),\n",
    "    ('tfidf', TfidfTransformer()),\n",
    "    ('clf', SGDClassifier(loss='hinge', penalty='l2', alpha=1e-3, random_state=42, max_iter=5, tol=None))\n",
    "])\n",
    "\n",
    "sgd.fit(X_TRAIN, Y_TRAIN)\n",
    "Y_PRED = sgd.predict(X_TEST)\n",
    "\n",
    "print('accuracy %s : ' % accuracy_score(Y_PRED, Y_TEST))\n",
    "print(classification_report(Y_TEST, Y_PRED))"
   ]
  }
 ],
 "metadata": {
  "kernelspec": {
   "display_name": "Python 3",
   "language": "python",
   "name": "python3"
  },
  "language_info": {
   "codemirror_mode": {
    "name": "ipython",
    "version": 3
   },
   "file_extension": ".py",
   "mimetype": "text/x-python",
   "name": "python",
   "nbconvert_exporter": "python",
   "pygments_lexer": "ipython3",
   "version": "3.10.5"
  },
  "orig_nbformat": 4
 },
 "nbformat": 4,
 "nbformat_minor": 2
}
