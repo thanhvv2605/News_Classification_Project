{
  "cells": [
    {
      "attachments": {},
      "cell_type": "markdown",
      "metadata": {
        "id": "DXeW_2NVLBtD"
      },
      "source": [
        "## 1. Import library"
      ]
    },
    {
      "cell_type": "code",
      "execution_count": 1,
      "metadata": {
        "colab": {
          "base_uri": "https://localhost:8080/"
        },
        "id": "2aDSxH2ZVY_B",
        "outputId": "811a537e-f9e1-4514-8da8-6c1bcdd23c7d"
      },
      "outputs": [
        {
          "name": "stderr",
          "output_type": "stream",
          "text": [
            "[nltk_data] Downloading package stopwords to\n",
            "[nltk_data]     C:\\Users\\DELL\\AppData\\Roaming\\nltk_data...\n",
            "[nltk_data]   Package stopwords is already up-to-date!\n"
          ]
        },
        {
          "data": {
            "text/plain": [
              "True"
            ]
          },
          "execution_count": 1,
          "metadata": {},
          "output_type": "execute_result"
        }
      ],
      "source": [
        "import nltk\n",
        "nltk.download(\"stopwords\")"
      ]
    },
    {
      "cell_type": "code",
      "execution_count": 2,
      "metadata": {
        "colab": {
          "base_uri": "https://localhost:8080/"
        },
        "id": "tJ3KrNnKrs5j",
        "outputId": "cd734ce9-5047-41c9-9766-1799ad624709"
      },
      "outputs": [
        {
          "name": "stdout",
          "output_type": "stream",
          "text": [
            "Defaulting to user installation because normal site-packages is not writeable\n",
            "Requirement already satisfied: wandb in c:\\users\\dell\\appdata\\roaming\\python\\python310\\site-packages (0.13.5)\n",
            "Requirement already satisfied: six>=1.13.0 in c:\\users\\dell\\appdata\\roaming\\python\\python310\\site-packages (from wandb) (1.16.0)\n",
            "Requirement already satisfied: Click!=8.0.0,>=7.0 in c:\\users\\dell\\appdata\\roaming\\python\\python310\\site-packages (from wandb) (8.1.3)\n",
            "Requirement already satisfied: setproctitle in c:\\users\\dell\\appdata\\roaming\\python\\python310\\site-packages (from wandb) (1.3.2)\n",
            "Requirement already satisfied: setuptools in c:\\users\\dell\\appdata\\roaming\\python\\python310\\site-packages (from wandb) (65.5.0)\n",
            "Requirement already satisfied: shortuuid>=0.5.0 in c:\\users\\dell\\appdata\\roaming\\python\\python310\\site-packages (from wandb) (1.0.11)\n",
            "Requirement already satisfied: promise<3,>=2.0 in c:\\users\\dell\\appdata\\roaming\\python\\python310\\site-packages (from wandb) (2.3)\n",
            "Requirement already satisfied: sentry-sdk>=1.0.0 in c:\\users\\dell\\appdata\\roaming\\python\\python310\\site-packages (from wandb) (1.11.1)\n",
            "Requirement already satisfied: requests<3,>=2.0.0 in c:\\users\\dell\\appdata\\roaming\\python\\python310\\site-packages (from wandb) (2.28.1)\n",
            "Requirement already satisfied: psutil>=5.0.0 in c:\\users\\dell\\appdata\\roaming\\python\\python310\\site-packages (from wandb) (5.9.1)\n",
            "Requirement already satisfied: PyYAML in c:\\users\\dell\\appdata\\roaming\\python\\python310\\site-packages (from wandb) (6.0)\n",
            "Requirement already satisfied: GitPython>=1.0.0 in c:\\users\\dell\\appdata\\roaming\\python\\python310\\site-packages (from wandb) (3.1.29)\n",
            "Requirement already satisfied: pathtools in c:\\users\\dell\\appdata\\roaming\\python\\python310\\site-packages (from wandb) (0.1.2)\n",
            "Requirement already satisfied: docker-pycreds>=0.4.0 in c:\\users\\dell\\appdata\\roaming\\python\\python310\\site-packages (from wandb) (0.4.0)\n",
            "Requirement already satisfied: protobuf!=4.0.*,!=4.21.0,<5,>=3.12.0 in c:\\users\\dell\\appdata\\roaming\\python\\python310\\site-packages (from wandb) (3.19.6)\n",
            "Requirement already satisfied: colorama in c:\\users\\dell\\appdata\\roaming\\python\\python310\\site-packages (from Click!=8.0.0,>=7.0->wandb) (0.4.5)\n",
            "Requirement already satisfied: gitdb<5,>=4.0.1 in c:\\users\\dell\\appdata\\roaming\\python\\python310\\site-packages (from GitPython>=1.0.0->wandb) (4.0.10)\n",
            "Requirement already satisfied: certifi>=2017.4.17 in c:\\users\\dell\\appdata\\roaming\\python\\python310\\site-packages (from requests<3,>=2.0.0->wandb) (2022.9.24)\n",
            "Requirement already satisfied: idna<4,>=2.5 in c:\\users\\dell\\appdata\\roaming\\python\\python310\\site-packages (from requests<3,>=2.0.0->wandb) (3.4)\n",
            "Requirement already satisfied: urllib3<1.27,>=1.21.1 in c:\\users\\dell\\appdata\\roaming\\python\\python310\\site-packages (from requests<3,>=2.0.0->wandb) (1.26.12)\n",
            "Requirement already satisfied: charset-normalizer<3,>=2 in c:\\users\\dell\\appdata\\roaming\\python\\python310\\site-packages (from requests<3,>=2.0.0->wandb) (2.1.1)\n",
            "Requirement already satisfied: smmap<6,>=3.0.1 in c:\\users\\dell\\appdata\\roaming\\python\\python310\\site-packages (from gitdb<5,>=4.0.1->GitPython>=1.0.0->wandb) (5.0.0)\n"
          ]
        },
        {
          "name": "stderr",
          "output_type": "stream",
          "text": [
            "\n",
            "[notice] A new release of pip available: 22.3.1 -> 23.1.2\n",
            "[notice] To update, run: python.exe -m pip install --upgrade pip\n"
          ]
        },
        {
          "name": "stdout",
          "output_type": "stream",
          "text": [
            "Defaulting to user installation because normal site-packages is not writeable\n",
            "Requirement already satisfied: torchmetrics in c:\\users\\dell\\appdata\\roaming\\python\\python310\\site-packages (0.10.3)\n",
            "Requirement already satisfied: torch>=1.3.1 in c:\\users\\dell\\appdata\\roaming\\python\\python310\\site-packages (from torchmetrics) (1.12.1)\n",
            "Requirement already satisfied: packaging in c:\\users\\dell\\appdata\\roaming\\python\\python310\\site-packages (from torchmetrics) (21.3)\n",
            "Requirement already satisfied: numpy>=1.17.2 in c:\\users\\dell\\appdata\\roaming\\python\\python310\\site-packages (from torchmetrics) (1.23.4)\n",
            "Requirement already satisfied: typing-extensions in c:\\users\\dell\\appdata\\roaming\\python\\python310\\site-packages (from torch>=1.3.1->torchmetrics) (4.4.0)\n",
            "Requirement already satisfied: pyparsing!=3.0.5,>=2.0.2 in c:\\users\\dell\\appdata\\roaming\\python\\python310\\site-packages (from packaging->torchmetrics) (3.0.9)\n"
          ]
        },
        {
          "name": "stderr",
          "output_type": "stream",
          "text": [
            "\n",
            "[notice] A new release of pip available: 22.3.1 -> 23.1.2\n",
            "[notice] To update, run: python.exe -m pip install --upgrade pip\n"
          ]
        }
      ],
      "source": [
        "!pip install wandb\n",
        "!pip install torchmetrics"
      ]
    },
    {
      "cell_type": "code",
      "execution_count": 3,
      "metadata": {
        "id": "A8K7zmKfVm6Z"
      },
      "outputs": [],
      "source": [
        "import json\n",
        "import re\n",
        "from nltk.corpus import stopwords\n",
        "import numpy as np\n",
        "import pandas as pd\n",
        "import seaborn as sns\n",
        "import matplotlib.pyplot as plt\n",
        "import tensorflow as tf\n",
        "%matplotlib inline\n",
        "\n",
        "from keras.preprocessing.text import Tokenizer\n",
        "from keras.utils import pad_sequences\n",
        "from keras.utils import to_categorical\n",
        "from keras import regularizers\n",
        "\n",
        "from sklearn.model_selection import train_test_split\n",
        "from sklearn.preprocessing import LabelEncoder\n",
        "from sklearn.metrics import accuracy_score, confusion_matrix, classification_report\n",
        "from sklearn.feature_extraction.text import CountVectorizer, TfidfTransformer\n",
        "from sklearn.pipeline import Pipeline\n",
        "from sklearn.linear_model import SGDClassifier\n",
        "\n",
        "from keras.models import Sequential\n",
        "from keras.layers import Embedding\n",
        "from keras.layers import Flatten, Dense, Dropout\n",
        "\n",
        "pd.set_option('display.max_colwidth', 200)"
      ]
    },
    {
      "cell_type": "code",
      "execution_count": 4,
      "metadata": {
        "colab": {
          "base_uri": "https://localhost:8080/"
        },
        "id": "jPlajGofThhu",
        "outputId": "4be0e6ff-8039-4c72-ea12-380447ce5fcb"
      },
      "outputs": [
        {
          "name": "stderr",
          "output_type": "stream",
          "text": [
            "Failed to detect the name of this notebook, you can set it manually with the WANDB_NOTEBOOK_NAME environment variable to enable code saving.\n",
            "\u001b[34m\u001b[1mwandb\u001b[0m: Currently logged in as: \u001b[33mthanh-bv\u001b[0m. Use \u001b[1m`wandb login --relogin`\u001b[0m to force relogin\n"
          ]
        },
        {
          "data": {
            "text/plain": [
              "True"
            ]
          },
          "execution_count": 4,
          "metadata": {},
          "output_type": "execute_result"
        }
      ],
      "source": [
        "import wandb\n",
        "wandb.login()"
      ]
    },
    {
      "cell_type": "markdown",
      "metadata": {
        "id": "AQzpEFk0LLZY"
      },
      "source": [
        "Read data"
      ]
    },
    {
      "cell_type": "code",
      "execution_count": 5,
      "metadata": {
        "id": "Hgppeo1cVoqH"
      },
      "outputs": [],
      "source": [
        "news_text = []\n",
        "news_label = []\n",
        "\n",
        "with open('./News_Category_Dataset_v3.json') as file:\n",
        "    for news in file:\n",
        "        j_news = json.loads(news)\n",
        "        news_label.append(j_news['category'])\n",
        "        news_text.append(j_news['headline'] + ' ' + j_news['short_description'])"
      ]
    },
    {
      "cell_type": "code",
      "execution_count": 6,
      "metadata": {
        "id": "kSqG88kWWEh8"
      },
      "outputs": [],
      "source": [
        "news_df = pd.DataFrame(data=list(zip(news_text, news_label)), columns=['text', 'cat'])"
      ]
    },
    {
      "cell_type": "code",
      "execution_count": 7,
      "metadata": {
        "colab": {
          "base_uri": "https://localhost:8080/",
          "height": 319
        },
        "id": "ccb3soduWNhb",
        "outputId": "657d6929-2b7f-401a-8abb-34ecd63d1abf"
      },
      "outputs": [
        {
          "data": {
            "text/html": [
              "<div>\n",
              "<style scoped>\n",
              "    .dataframe tbody tr th:only-of-type {\n",
              "        vertical-align: middle;\n",
              "    }\n",
              "\n",
              "    .dataframe tbody tr th {\n",
              "        vertical-align: top;\n",
              "    }\n",
              "\n",
              "    .dataframe thead th {\n",
              "        text-align: right;\n",
              "    }\n",
              "</style>\n",
              "<table border=\"1\" class=\"dataframe\">\n",
              "  <thead>\n",
              "    <tr style=\"text-align: right;\">\n",
              "      <th></th>\n",
              "      <th>text</th>\n",
              "      <th>cat</th>\n",
              "    </tr>\n",
              "  </thead>\n",
              "  <tbody>\n",
              "    <tr>\n",
              "      <th>0</th>\n",
              "      <td>Over 4 Million Americans Roll Up Sleeves For Omicron-Targeted COVID Boosters Health experts said it is too early to predict whether demand would match up with the 171 million doses of the new boos...</td>\n",
              "      <td>U.S. NEWS</td>\n",
              "    </tr>\n",
              "    <tr>\n",
              "      <th>1</th>\n",
              "      <td>American Airlines Flyer Charged, Banned For Life After Punching Flight Attendant On Video He was subdued by passengers and crew when he fled to the back of the aircraft after the confrontation, ac...</td>\n",
              "      <td>U.S. NEWS</td>\n",
              "    </tr>\n",
              "    <tr>\n",
              "      <th>2</th>\n",
              "      <td>23 Of The Funniest Tweets About Cats And Dogs This Week (Sept. 17-23) \"Until you have a dog you don't understand what could be eaten.\"</td>\n",
              "      <td>COMEDY</td>\n",
              "    </tr>\n",
              "    <tr>\n",
              "      <th>3</th>\n",
              "      <td>The Funniest Tweets From Parents This Week (Sept. 17-23) \"Accidentally put grown-up toothpaste on my toddler’s toothbrush and he screamed like I was cleaning his teeth with a Carolina Reaper dippe...</td>\n",
              "      <td>PARENTING</td>\n",
              "    </tr>\n",
              "    <tr>\n",
              "      <th>4</th>\n",
              "      <td>Woman Who Called Cops On Black Bird-Watcher Loses Lawsuit Against Ex-Employer Amy Cooper accused investment firm Franklin Templeton of unfairly firing her and branding her a racist after video of ...</td>\n",
              "      <td>U.S. NEWS</td>\n",
              "    </tr>\n",
              "  </tbody>\n",
              "</table>\n",
              "</div>"
            ],
            "text/plain": [
              "                                                                                                                                                                                                      text  \\\n",
              "0  Over 4 Million Americans Roll Up Sleeves For Omicron-Targeted COVID Boosters Health experts said it is too early to predict whether demand would match up with the 171 million doses of the new boos...   \n",
              "1  American Airlines Flyer Charged, Banned For Life After Punching Flight Attendant On Video He was subdued by passengers and crew when he fled to the back of the aircraft after the confrontation, ac...   \n",
              "2                                                                   23 Of The Funniest Tweets About Cats And Dogs This Week (Sept. 17-23) \"Until you have a dog you don't understand what could be eaten.\"   \n",
              "3  The Funniest Tweets From Parents This Week (Sept. 17-23) \"Accidentally put grown-up toothpaste on my toddler’s toothbrush and he screamed like I was cleaning his teeth with a Carolina Reaper dippe...   \n",
              "4  Woman Who Called Cops On Black Bird-Watcher Loses Lawsuit Against Ex-Employer Amy Cooper accused investment firm Franklin Templeton of unfairly firing her and branding her a racist after video of ...   \n",
              "\n",
              "         cat  \n",
              "0  U.S. NEWS  \n",
              "1  U.S. NEWS  \n",
              "2     COMEDY  \n",
              "3  PARENTING  \n",
              "4  U.S. NEWS  "
            ]
          },
          "execution_count": 7,
          "metadata": {},
          "output_type": "execute_result"
        }
      ],
      "source": [
        "news_df.head()"
      ]
    },
    {
      "cell_type": "markdown",
      "metadata": {
        "id": "kpJsz2VILUP_"
      },
      "source": [
        "##2. Data cleaning and preprocessing"
      ]
    },
    {
      "cell_type": "markdown",
      "metadata": {
        "id": "n4FC0gieLZgT"
      },
      "source": [
        "### 2.1 Removing similar categories"
      ]
    },
    {
      "cell_type": "code",
      "execution_count": 8,
      "metadata": {
        "id": "ILWkp8FyWQT3"
      },
      "outputs": [],
      "source": [
        "# it looks like THE WORLDPOST and WORLDPOST are similar categories, so lets convert THE WORLDPOST to WORLDPOST\n",
        "news_df.loc[news_df[\"cat\"] == \"THE WORLDPOST\", \"cat\"] = \"WORLDPOST\""
      ]
    },
    {
      "cell_type": "code",
      "execution_count": 9,
      "metadata": {
        "id": "vgZsCwp2ezwk"
      },
      "outputs": [],
      "source": [
        "news_df.loc[news_df['cat'] == 'CULTURE & ARTS', 'cat'] = 'ARTS & CULTURE'"
      ]
    },
    {
      "cell_type": "code",
      "execution_count": 10,
      "metadata": {
        "colab": {
          "base_uri": "https://localhost:8080/",
          "height": 395
        },
        "id": "H8Fw2AF1e4PM",
        "outputId": "a2c7af8a-8c3c-4c7d-8d30-4e060251a2cb"
      },
      "outputs": [
        {
          "data": {
            "image/png": "[encoded data removed]",
            "text/plain": [
              "<Figure size 2000x500 with 1 Axes>"
            ]
          },
          "metadata": {},
          "output_type": "display_data"
        }
      ],
      "source": [
        "news_count = news_df['cat'].value_counts()\n",
        "news_percent = [len(news_df[news_df['cat'] == news_cat]) / len(news_df) * 100 for news_cat in news_count.index]\n",
        "\n",
        "ax = news_count.plot(kind='bar', figsize=(20, 5))\n",
        "for idx, p in enumerate(ax.patches):\n",
        "    h = p.get_height()\n",
        "    x, y = p.get_xy()\n",
        "    ax.annotate('{:.1f}%'.format(news_percent[idx]), (x, y + h + 0.01))"
      ]
    },
    {
      "cell_type": "markdown",
      "metadata": {
        "id": "oNbtCkbQfiJt"
      },
      "source": [
        "### 2.2 Clean Text"
      ]
    },
    {
      "cell_type": "code",
      "execution_count": 11,
      "metadata": {
        "id": "e4lmdn0vfaD9"
      },
      "outputs": [],
      "source": [
        "# lets do some text preprocessing\n",
        "REPLACE_BY_SPACE_RE = re.compile('[/(){}\\[\\]\\|@,;]')\n",
        "BAD_SYMBOLS_RE = re.compile('[^0-9a-z #+_]')\n",
        "STOPWORDS = set(stopwords.words('english'))"
      ]
    },
    {
      "cell_type": "code",
      "execution_count": 12,
      "metadata": {
        "id": "B27XaM7rfnan"
      },
      "outputs": [],
      "source": [
        "def clean_text(text):\n",
        "\n",
        "    text = text.lower()\n",
        "    text = REPLACE_BY_SPACE_RE.sub(' ', text) # replace REPLACE_BY_SPACE_RE symbols by space in text\n",
        "    text = BAD_SYMBOLS_RE.sub('', text) # remove BAD_SYMBOLS_RE symbols in text\n",
        "    text = ' '.join(word for word in text.split(' ') if word not in STOPWORDS) # remove stopwords from text\n",
        "\n",
        "    return text"
      ]
    },
    {
      "cell_type": "code",
      "execution_count": 13,
      "metadata": {
        "id": "Re-_luH_fpH5"
      },
      "outputs": [],
      "source": [
        "news_df['text'] = news_df['text'].apply(clean_text)"
      ]
    },
    {
      "cell_type": "markdown",
      "metadata": {
        "id": "kJ_QA538f5wd"
      },
      "source": [
        "### 2.3. Tokenization"
      ]
    },
    {
      "cell_type": "code",
      "execution_count": 14,
      "metadata": {
        "id": "qhVnNp6cfqv9"
      },
      "outputs": [],
      "source": [
        "# tokenizing is the process of splitting the text into tokens. It create word_index for each token\n",
        "# which can be used to convert text sequence into integer sequence\n",
        "max_words = 10000\n",
        "tok = Tokenizer(num_words=max_words)\n",
        "tok.fit_on_texts(news_df['text'])\n",
        "sequence = tok.texts_to_sequences(news_df['text'])"
      ]
    },
    {
      "cell_type": "code",
      "execution_count": 15,
      "metadata": {
        "colab": {
          "base_uri": "https://localhost:8080/"
        },
        "id": "uVN1LskWfvGI",
        "outputId": "361bcfb9-09e7-48eb-fa5a-4bb2bc81c4b7"
      },
      "outputs": [
        {
          "data": {
            "text/plain": [
              "('4 million americans roll sleeves omicrontargeted covid boosters health experts said early predict whether demand would match 171 million doses new boosters us ordered fall',\n",
              " 25)"
            ]
          },
          "execution_count": 15,
          "metadata": {},
          "output_type": "execute_result"
        }
      ],
      "source": [
        "# each of text in the news_df is converted to a sequence of words.\n",
        "news_df['text'][0], len(news_df['text'][0].split())"
      ]
    },
    {
      "cell_type": "code",
      "execution_count": 16,
      "metadata": {
        "colab": {
          "base_uri": "https://localhost:8080/"
        },
        "id": "ucStPdw2gAxT",
        "outputId": "b715e20f-57a0-4168-f795-2f79c449a676"
      },
      "outputs": [
        {
          "name": "stdout",
          "output_type": "stream",
          "text": [
            "Found 115317 unique tokens.\n"
          ]
        }
      ],
      "source": [
        "word_index = tok.word_index\n",
        "print(f'Found { len(word_index) } unique tokens.')"
      ]
    },
    {
      "cell_type": "code",
      "execution_count": 17,
      "metadata": {
        "id": "a6SXqHlUgFkL"
      },
      "outputs": [],
      "source": [
        "news_df['word_seq'] = sequence\n",
        "news_df['num_words'] = news_df['word_seq'].str.len()"
      ]
    },
    {
      "cell_type": "code",
      "execution_count": 18,
      "metadata": {
        "id": "SVGV6XfVgT4P"
      },
      "outputs": [],
      "source": [
        "# articles having few words are not providing sufficient information for classifying it into any group.\n",
        "# also the number of such samples is less, so we can just not consider them\n",
        "news_df = news_df[news_df['num_words'] > 3]"
      ]
    },
    {
      "cell_type": "code",
      "execution_count": 19,
      "metadata": {
        "colab": {
          "base_uri": "https://localhost:8080/",
          "height": 371
        },
        "id": "WL_GiuqFgI_U",
        "outputId": "92261e25-cf91-4135-f976-58fc2ebce0af"
      },
      "outputs": [
        {
          "data": {
            "text/html": [
              "<div>\n",
              "<style scoped>\n",
              "    .dataframe tbody tr th:only-of-type {\n",
              "        vertical-align: middle;\n",
              "    }\n",
              "\n",
              "    .dataframe tbody tr th {\n",
              "        vertical-align: top;\n",
              "    }\n",
              "\n",
              "    .dataframe thead th {\n",
              "        text-align: right;\n",
              "    }\n",
              "</style>\n",
              "<table border=\"1\" class=\"dataframe\">\n",
              "  <thead>\n",
              "    <tr style=\"text-align: right;\">\n",
              "      <th></th>\n",
              "      <th>text</th>\n",
              "      <th>cat</th>\n",
              "      <th>word_seq</th>\n",
              "      <th>num_words</th>\n",
              "    </tr>\n",
              "  </thead>\n",
              "  <tbody>\n",
              "    <tr>\n",
              "      <th>0</th>\n",
              "      <td>4 million americans roll sleeves omicrontargeted covid boosters health experts said early predict whether demand would match 171 million doses new boosters us ordered fall</td>\n",
              "      <td>U.S. NEWS</td>\n",
              "      <td>[284, 169, 163, 2103, 6445, 38, 765, 15, 435, 4284, 197, 1848, 22, 2047, 169, 1, 3, 3071, 292]</td>\n",
              "      <td>19</td>\n",
              "    </tr>\n",
              "    <tr>\n",
              "      <th>1</th>\n",
              "      <td>american airlines flyer charged  banned life punching flight attendant video subdued passengers crew fled back aircraft confrontation  according us attorneys office los angeles</td>\n",
              "      <td>U.S. NEWS</td>\n",
              "      <td>[81, 1406, 1280, 2942, 12, 9773, 946, 5908, 19, 2669, 3086, 6638, 35, 6549, 8877, 257, 3, 4723, 332, 1073, 1178]</td>\n",
              "      <td>21</td>\n",
              "    </tr>\n",
              "    <tr>\n",
              "      <th>2</th>\n",
              "      <td>23 funniest tweets cats dogs week  sept 1723  dog dont understand could eaten</td>\n",
              "      <td>COMEDY</td>\n",
              "      <td>[2148, 1614, 624, 2284, 903, 29, 3977, 477, 14, 566, 23, 6639]</td>\n",
              "      <td>12</td>\n",
              "    </tr>\n",
              "    <tr>\n",
              "      <th>3</th>\n",
              "      <td>funniest tweets parents week  sept 1723  accidentally put grownup toothpaste toddlers toothbrush screamed like cleaning teeth carolina reaper dipped tabasco sauce</td>\n",
              "      <td>PARENTING</td>\n",
              "      <td>[1614, 624, 90, 29, 3977, 3951, 201, 7709, 2972, 7, 2383, 3630, 1099, 2858]</td>\n",
              "      <td>14</td>\n",
              "    </tr>\n",
              "    <tr>\n",
              "      <th>4</th>\n",
              "      <td>woman called cops black birdwatcher loses lawsuit exemployer amy cooper accused investment firm franklin templeton unfairly firing branding racist video central park encounter went viral</td>\n",
              "      <td>U.S. NEWS</td>\n",
              "      <td>[113, 249, 1123, 76, 2721, 1224, 1773, 3566, 599, 2556, 2824, 6123, 3611, 8144, 1158, 19, 1416, 757, 3612, 501, 1450]</td>\n",
              "      <td>21</td>\n",
              "    </tr>\n",
              "  </tbody>\n",
              "</table>\n",
              "</div>"
            ],
            "text/plain": [
              "                                                                                                                                                                                         text  \\\n",
              "0                 4 million americans roll sleeves omicrontargeted covid boosters health experts said early predict whether demand would match 171 million doses new boosters us ordered fall   \n",
              "1            american airlines flyer charged  banned life punching flight attendant video subdued passengers crew fled back aircraft confrontation  according us attorneys office los angeles   \n",
              "2                                                                                                               23 funniest tweets cats dogs week  sept 1723  dog dont understand could eaten   \n",
              "3                          funniest tweets parents week  sept 1723  accidentally put grownup toothpaste toddlers toothbrush screamed like cleaning teeth carolina reaper dipped tabasco sauce   \n",
              "4  woman called cops black birdwatcher loses lawsuit exemployer amy cooper accused investment firm franklin templeton unfairly firing branding racist video central park encounter went viral   \n",
              "\n",
              "         cat  \\\n",
              "0  U.S. NEWS   \n",
              "1  U.S. NEWS   \n",
              "2     COMEDY   \n",
              "3  PARENTING   \n",
              "4  U.S. NEWS   \n",
              "\n",
              "                                                                                                                word_seq  \\\n",
              "0                         [284, 169, 163, 2103, 6445, 38, 765, 15, 435, 4284, 197, 1848, 22, 2047, 169, 1, 3, 3071, 292]   \n",
              "1       [81, 1406, 1280, 2942, 12, 9773, 946, 5908, 19, 2669, 3086, 6638, 35, 6549, 8877, 257, 3, 4723, 332, 1073, 1178]   \n",
              "2                                                         [2148, 1614, 624, 2284, 903, 29, 3977, 477, 14, 566, 23, 6639]   \n",
              "3                                            [1614, 624, 90, 29, 3977, 3951, 201, 7709, 2972, 7, 2383, 3630, 1099, 2858]   \n",
              "4  [113, 249, 1123, 76, 2721, 1224, 1773, 3566, 599, 2556, 2824, 6123, 3611, 8144, 1158, 19, 1416, 757, 3612, 501, 1450]   \n",
              "\n",
              "   num_words  \n",
              "0         19  \n",
              "1         21  \n",
              "2         12  \n",
              "3         14  \n",
              "4         21  "
            ]
          },
          "execution_count": 19,
          "metadata": {},
          "output_type": "execute_result"
        }
      ],
      "source": [
        "news_df.head()"
      ]
    },
    {
      "cell_type": "markdown",
      "metadata": {
        "id": "qMYVKKoggev1"
      },
      "source": [
        "### 2.4. Preprocessing for Deep Learning"
      ]
    },
    {
      "cell_type": "code",
      "execution_count": 20,
      "metadata": {
        "id": "0IOuu6SHgUOw"
      },
      "outputs": [],
      "source": [
        "# our model expects the lenght of all sequence to be same. Now the lenght of the sequences are different corresponding\n",
        "# to the length of the actual text. We can generalize it to a specific length of 60 by padding.\n",
        "max_len = 30\n",
        "data = pad_sequences(news_df['word_seq'], maxlen=max_len)"
      ]
    },
    {
      "cell_type": "code",
      "execution_count": 21,
      "metadata": {
        "colab": {
          "base_uri": "https://localhost:8080/"
        },
        "id": "nseqfhvqgkmU",
        "outputId": "4ce0a327-2826-44ad-c071-d977c3cbadb2"
      },
      "outputs": [
        {
          "data": {
            "text/plain": [
              "array([   0,    0,    0,    0,    0,    0,    0,    0,    0,    0,    0,\n",
              "        284,  169,  163, 2103, 6445,   38,  765,   15,  435, 4284,  197,\n",
              "       1848,   22, 2047,  169,    1,    3, 3071,  292])"
            ]
          },
          "execution_count": 21,
          "metadata": {},
          "output_type": "execute_result"
        }
      ],
      "source": [
        "data[0]"
      ]
    },
    {
      "cell_type": "code",
      "execution_count": 22,
      "metadata": {
        "id": "8aEiuClugoeU"
      },
      "outputs": [],
      "source": [
        "# one hot encode the labels\n",
        "encoder = LabelEncoder()\n",
        "encoder.fit(news_df['cat'])\n",
        "labels = encoder.transform(news_df['cat'])\n",
        "n_classes = max(labels) + 1\n",
        "labels = to_categorical(labels, n_classes)"
      ]
    },
    {
      "cell_type": "code",
      "execution_count": 23,
      "metadata": {
        "colab": {
          "base_uri": "https://localhost:8080/"
        },
        "id": "_9566a6pgrBa",
        "outputId": "09c204ca-d275-4d9e-ccdb-b57a64e7e27c"
      },
      "outputs": [
        {
          "data": {
            "text/plain": [
              "array(['ARTS', 'ARTS & CULTURE', 'BLACK VOICES', 'BUSINESS', 'COLLEGE',\n",
              "       'COMEDY', 'CRIME', 'DIVORCE', 'EDUCATION', 'ENTERTAINMENT',\n",
              "       'ENVIRONMENT', 'FIFTY', 'FOOD & DRINK', 'GOOD NEWS', 'GREEN',\n",
              "       'HEALTHY LIVING', 'HOME & LIVING', 'IMPACT', 'LATINO VOICES',\n",
              "       'MEDIA', 'MONEY', 'PARENTING', 'PARENTS', 'POLITICS',\n",
              "       'QUEER VOICES', 'RELIGION', 'SCIENCE', 'SPORTS', 'STYLE',\n",
              "       'STYLE & BEAUTY', 'TASTE', 'TECH', 'TRAVEL', 'U.S. NEWS',\n",
              "       'WEDDINGS', 'WEIRD NEWS', 'WELLNESS', 'WOMEN', 'WORLD NEWS',\n",
              "       'WORLDPOST'], dtype=object)"
            ]
          },
          "execution_count": 23,
          "metadata": {},
          "output_type": "execute_result"
        }
      ],
      "source": [
        "encoder.inverse_transform(np.asarray(range(40)))"
      ]
    },
    {
      "cell_type": "markdown",
      "metadata": {
        "id": "oSmGJFtRgyKp"
      },
      "source": [
        "### 2.5 Spliting the data"
      ]
    },
    {
      "cell_type": "code",
      "execution_count": 24,
      "metadata": {
        "id": "PCwBcX3QguL4"
      },
      "outputs": [],
      "source": [
        "x_train, x_test, y_train, y_test = train_test_split(data, labels, test_size=0.25, random_state=20)"
      ]
    },
    {
      "cell_type": "code",
      "execution_count": 25,
      "metadata": {
        "colab": {
          "base_uri": "https://localhost:8080/"
        },
        "id": "mtw6gzzKg3v1",
        "outputId": "56a9066d-73ce-48f2-b39f-06b50b0ab3d7"
      },
      "outputs": [
        {
          "data": {
            "text/plain": [
              "((154674, 30), (51558, 30))"
            ]
          },
          "execution_count": 25,
          "metadata": {},
          "output_type": "execute_result"
        }
      ],
      "source": [
        "x_train.shape, x_test.shape"
      ]
    },
    {
      "cell_type": "code",
      "execution_count": 26,
      "metadata": {
        "id": "k6T8ernYg4F_"
      },
      "outputs": [],
      "source": [
        "x_train, x_val, y_train, y_val = train_test_split(x_train, y_train, test_size=0.2, random_state=20)"
      ]
    },
    {
      "cell_type": "code",
      "execution_count": 27,
      "metadata": {
        "colab": {
          "base_uri": "https://localhost:8080/"
        },
        "id": "KQ9Msmk4g6ie",
        "outputId": "fc1b0a6c-612b-4451-9b24-2beb595547b1"
      },
      "outputs": [
        {
          "data": {
            "text/plain": [
              "((123739, 30), (30935, 30))"
            ]
          },
          "execution_count": 27,
          "metadata": {},
          "output_type": "execute_result"
        }
      ],
      "source": [
        "x_train.shape, x_val.shape"
      ]
    },
    {
      "cell_type": "markdown",
      "metadata": {
        "id": "VucUoQX1qwp6"
      },
      "source": [
        "##3. Util"
      ]
    },
    {
      "cell_type": "code",
      "execution_count": 28,
      "metadata": {
        "id": "k6W7Tobyq9Ns"
      },
      "outputs": [
        {
          "name": "stderr",
          "output_type": "stream",
          "text": [
            "C:\\Users\\DELL\\AppData\\Roaming\\Python\\Python310\\site-packages\\tqdm\\auto.py:22: TqdmWarning: IProgress not found. Please update jupyter and ipywidgets. See https://ipywidgets.readthedocs.io/en/stable/user_install.html\n",
            "  from .autonotebook import tqdm as notebook_tqdm\n"
          ]
        }
      ],
      "source": [
        "from torchmetrics.functional.classification import multiclass_precision, multiclass_accuracy, multiclass_recall, multiclass_f1_score, multiclass_auroc\n",
        "import torch"
      ]
    },
    {
      "cell_type": "markdown",
      "metadata": {
        "id": "mMPf4_TRBqER"
      },
      "source": [
        "Hyperparameters\n"
      ]
    },
    {
      "cell_type": "code",
      "execution_count": 29,
      "metadata": {
        "id": "fvToK_O5hMwo"
      },
      "outputs": [],
      "source": [
        "METRICS = [tf.keras.metrics.CategoricalAccuracy()]\n",
        "BATCH_SIZE = 128\n",
        "NUM_EPOCHS = 15\n",
        "NUM_CLASSES = 40"
      ]
    },
    {
      "cell_type": "code",
      "execution_count": 30,
      "metadata": {
        "id": "wMiBf62tAIu-"
      },
      "outputs": [],
      "source": [
        "def log(history, epochs):\n",
        "  wandb.init(project=\"News Classification\")\n",
        "  acc = history.history['categorical_accuracy']\n",
        "  val_acc = history.history['val_categorical_accuracy']\n",
        "  loss = history.history['loss']\n",
        "  val_loss = history.history['val_loss']\n",
        "  for e in range(epochs):\n",
        "    # Logging with WnB\n",
        "    wandb.log({\"train_loss\": loss[e],\n",
        "               \"train_accuracy\": acc[e],\n",
        "               \"val_loss\": val_loss[e],\n",
        "               \"val_accuracy\": val_acc[e]\n",
        "               })"
      ]
    },
    {
      "cell_type": "code",
      "execution_count": 31,
      "metadata": {
        "id": "9I7LKAgPDoiQ"
      },
      "outputs": [],
      "source": [
        "def train(model, train_data, val_data, loss, optimizer, metrics, epochs=NUM_EPOCHS, batch_size=BATCH_SIZE, isGlove=False, embedding_dim=None, embedding_matrix=None):\n",
        "  if isGlove:\n",
        "    model.layers[0].set_weights([embedding_matrix])\n",
        "    model.layers[0].trainable = False\n",
        "  model.compile(loss=loss, optimizer=optimizer, metrics=metrics)\n",
        "  X_train, Y_train = train_data\n",
        "  history = model.fit(\n",
        "    x = X_train,\n",
        "    y = Y_train,\n",
        "    batch_size = batch_size,\n",
        "    epochs = epochs,\n",
        "    validation_data = val_data\n",
        "  )\n",
        "  log(history, epochs)"
      ]
    },
    {
      "cell_type": "code",
      "execution_count": 32,
      "metadata": {
        "id": "3jmq84pNJSUI"
      },
      "outputs": [],
      "source": [
        "def test(model, x_test, y_test, n_classes=NUM_CLASSES):\n",
        "  y_pred = model.predict(x_test, batch_size=BATCH_SIZE)\n",
        "  y_pred = torch.argmax(torch.Tensor(y_pred), dim = 1)\n",
        "  y_test = torch.argmax(torch.Tensor(y_test), dim = 1)\n",
        "\n",
        "  print(\"For each class: \")\n",
        "  print(\"Accuracy: \", multiclass_accuracy(y_pred, y_test, num_classes=n_classes, average=None))\n",
        "  print(\"Precision: \", multiclass_precision(y_pred, y_test, num_classes=n_classes, average=None))\n",
        "  print(\"Recall: \", multiclass_recall(y_pred, y_test, num_classes=n_classes, average=None))\n",
        "  print(\"F1-score: \", multiclass_f1_score(y_pred, y_test, num_classes=n_classes, average=None))\n",
        "  for a in ['micro', 'macro', 'weighted']:\n",
        "    print(\"Type: \", a)\n",
        "    print(\"Accuracy: \", multiclass_accuracy(y_pred, y_test, num_classes=n_classes, average=a))\n",
        "    print(\"Precision: \", multiclass_precision(y_pred, y_test, num_classes=n_classes, average=a))\n",
        "    print(\"Recall: \", multiclass_recall(y_pred, y_test, num_classes=n_classes, average=a))\n",
        "    print(\"F1-score: \", multiclass_f1_score(y_pred, y_test, num_classes=n_classes, average=a))"
      ]
    },
    {
      "cell_type": "code",
      "execution_count": 33,
      "metadata": {
        "id": "TO2GbAjIpSCj"
      },
      "outputs": [],
      "source": [
        "class FocalLoss(tf.keras.losses.Loss):\n",
        "  def __init__(self, gamma=2.0):\n",
        "    super().__init__()\n",
        "    self.gamma = gamma\n",
        "  def call(self, y_true, y_pred):\n",
        "    cce = tf.keras.losses.CategoricalCrossentropy()(y_true, y_pred)\n",
        "    return 0.25*tf.math.pow(1-tf.math.exp(cce), self.gamma) * cce"
      ]
    },
    {
      "cell_type": "markdown",
      "metadata": {
        "id": "YAyJTOu5hB0G"
      },
      "source": [
        "## 4. Model\n",
        "\n"
      ]
    },
    {
      "cell_type": "markdown",
      "metadata": {
        "id": "G2zH_mLCMZu9"
      },
      "source": [
        "### 4.1 Basic ANN Model"
      ]
    },
    {
      "cell_type": "code",
      "execution_count": 34,
      "metadata": {
        "id": "duDbF2kYg8Uz"
      },
      "outputs": [],
      "source": [
        "def ANNModel(input_dim = max_words, output_dim=64, input_length = max_len, n_classes = 40):\n",
        "  model = Sequential()\n",
        "  model.add(Embedding(input_dim, output_dim, input_length= input_length))\n",
        "  model.add(Flatten())\n",
        "  model.add(Dense(64, activation=\"relu\", kernel_regularizer=regularizers.l2(0.01)))\n",
        "  model.add(Dense(64, activation=\"relu\", kernel_regularizer=regularizers.l2(0.01)))\n",
        "  model.add(Dense(n_classes, activation='softmax'))\n",
        "  return model"
      ]
    },
    {
      "cell_type": "markdown",
      "metadata": {
        "id": "4Vhg_v5jurUR"
      },
      "source": [
        "### 4.2 ANNModel with Dropout"
      ]
    },
    {
      "cell_type": "code",
      "execution_count": 35,
      "metadata": {
        "id": "a_nHNBM7up8m"
      },
      "outputs": [],
      "source": [
        "def ANNDropout(input_dim = max_words, output_dim=64, input_length = max_len, dropout_rate = 0.3, n_classes=40):\n",
        "  model = Sequential()\n",
        "  model.add(Embedding(input_dim, output_dim, input_length=input_length))\n",
        "  model.add(Flatten())\n",
        "  model.add(Dense(64, activation=\"relu\", kernel_regularizer=regularizers.l2(0.01)))\n",
        "  model.add(Dropout(dropout_rate))\n",
        "  model.add(Dense(64, activation=\"relu\", kernel_regularizer=regularizers.l2(0.01)))\n",
        "  model.add(Dense(n_classes, activation='softmax'))\n",
        "  return model"
      ]
    },
    {
      "cell_type": "markdown",
      "metadata": {
        "id": "673y6HsPYSzx"
      },
      "source": [
        "### 4.3. ANN with more dropout layer"
      ]
    },
    {
      "cell_type": "code",
      "execution_count": 36,
      "metadata": {
        "id": "8wdL125AYfjY"
      },
      "outputs": [],
      "source": [
        "def ANNDropout2(input_dim = max_words,output_dim =64, input_length = max_len, dropout_rate = 0.3, n_classes=40):\n",
        "  model = Sequential()\n",
        "  model.add(Embedding(input_dim, output_dim, input_length=input_length))\n",
        "  model.add(Flatten())\n",
        "  model.add(Dense(64, activation=\"relu\", kernel_regularizer=regularizers.l2(0.01)))\n",
        "  model.add(Dropout(dropout_rate))\n",
        "  model.add(Dense(64, activation=\"relu\", kernel_regularizer=regularizers.l2(0.01)))\n",
        "  model.add(Dropout(dropout_rate))\n",
        "  model.add(Dense(n_classes, activation='softmax'))\n",
        "  return model"
      ]
    },
    {
      "cell_type": "markdown",
      "metadata": {
        "id": "BwmYjdCEzhaK"
      },
      "source": [
        "### Another way of Embedding"
      ]
    },
    {
      "cell_type": "markdown",
      "metadata": {
        "id": "1rcUNfsa0Gdv"
      },
      "source": [
        "GloVe word embedding"
      ]
    },
    {
      "cell_type": "code",
      "execution_count": 37,
      "metadata": {
        "colab": {
          "base_uri": "https://localhost:8080/"
        },
        "id": "T7MtP_YiyhI4",
        "outputId": "786a15e4-90ff-4c3b-d0a8-3843a84d1ba2"
      },
      "outputs": [],
      "source": [
        "# lets now try using pretrained word embedding - GloVe word embedding\n",
        "# !curl -LO http://nlp.stanford.edu/data/glove.6B.zip"
      ]
    },
    {
      "cell_type": "code",
      "execution_count": 38,
      "metadata": {
        "colab": {
          "base_uri": "https://localhost:8080/"
        },
        "id": "CSQ3s4Uzz85g",
        "outputId": "efeb088f-5c29-4706-d6fe-e34d329d7a1a"
      },
      "outputs": [],
      "source": [
        "# !unzip glove.6B.zip"
      ]
    },
    {
      "cell_type": "code",
      "execution_count": 39,
      "metadata": {
        "id": "GPpRssGjz-ZD"
      },
      "outputs": [],
      "source": [
        "# embeddings_index = {}\n",
        "\n",
        "# with open(\"glove.6B.100d.txt\", \"r\") as file:\n",
        "#     for line in file:\n",
        "#         values = line.split()\n",
        "#         word = values[0]\n",
        "#         coeffs = np.asarray(values[1:], dtype='float32')\n",
        "#         embeddings_index[word] = coeffs"
      ]
    },
    {
      "cell_type": "code",
      "execution_count": 40,
      "metadata": {
        "colab": {
          "base_uri": "https://localhost:8080/"
        },
        "id": "aFkTCQig0BBn",
        "outputId": "b2257c81-d3bc-4558-c4cf-6d8102166d73"
      },
      "outputs": [],
      "source": [
        "# print(f\"there are {len(embeddings_index)} tokens.\")"
      ]
    },
    {
      "cell_type": "code",
      "execution_count": 41,
      "metadata": {
        "id": "aXILlTUu0C4Q"
      },
      "outputs": [],
      "source": [
        "# embedding_dim = 100\n",
        "\n",
        "# embedding_matrix = np.zeros((max_words, embedding_dim))\n",
        "# for word, i in word_index.items():\n",
        "#     if i < max_words:\n",
        "#         embedding_vector = embeddings_index.get(word)\n",
        "#         if embedding_vector is not None:\n",
        "#             embedding_matrix[i] = embedding_vector"
      ]
    },
    {
      "attachments": {},
      "cell_type": "markdown",
      "metadata": {
        "id": "57ZlZDyv0KKH"
      },
      "source": [
        "## 5. Training and test"
      ]
    },
    {
      "attachments": {},
      "cell_type": "markdown",
      "metadata": {},
      "source": [
        "### 5.1 Imbalance data"
      ]
    },
    {
      "cell_type": "code",
      "execution_count": 42,
      "metadata": {
        "colab": {
          "background_save": true
        },
        "id": "6wFvC_hWxhXW"
      },
      "outputs": [
        {
          "name": "stdout",
          "output_type": "stream",
          "text": [
            "Epoch 1/10\n",
            "967/967 [==============================] - 11s 10ms/step - loss: 2.9099 - categorical_accuracy: 0.2971 - val_loss: 2.5583 - val_categorical_accuracy: 0.3615\n",
            "Epoch 2/10\n",
            "967/967 [==============================] - 9s 9ms/step - loss: 2.4643 - categorical_accuracy: 0.3782 - val_loss: 2.4502 - val_categorical_accuracy: 0.3864\n",
            "Epoch 3/10\n",
            "967/967 [==============================] - 8s 9ms/step - loss: 2.3045 - categorical_accuracy: 0.4224 - val_loss: 2.3190 - val_categorical_accuracy: 0.4264\n",
            "Epoch 4/10\n",
            "967/967 [==============================] - 9s 9ms/step - loss: 2.1733 - categorical_accuracy: 0.4558 - val_loss: 2.2622 - val_categorical_accuracy: 0.4398\n",
            "Epoch 5/10\n",
            "967/967 [==============================] - 9s 10ms/step - loss: 2.0781 - categorical_accuracy: 0.4795 - val_loss: 2.2608 - val_categorical_accuracy: 0.4466\n",
            "Epoch 6/10\n",
            "967/967 [==============================] - 14s 15ms/step - loss: 1.9729 - categorical_accuracy: 0.5056 - val_loss: 2.3159 - val_categorical_accuracy: 0.4437\n",
            "Epoch 7/10\n",
            "967/967 [==============================] - 16s 17ms/step - loss: 1.8554 - categorical_accuracy: 0.5346 - val_loss: 2.4228 - val_categorical_accuracy: 0.4368\n",
            "Epoch 8/10\n",
            "967/967 [==============================] - 17s 18ms/step - loss: 1.7360 - categorical_accuracy: 0.5664 - val_loss: 2.5524 - val_categorical_accuracy: 0.4267\n",
            "Epoch 9/10\n",
            "967/967 [==============================] - 18s 18ms/step - loss: 1.6210 - categorical_accuracy: 0.5994 - val_loss: 2.7266 - val_categorical_accuracy: 0.4111\n",
            "Epoch 10/10\n",
            "967/967 [==============================] - 11s 12ms/step - loss: 1.5088 - categorical_accuracy: 0.6339 - val_loss: 2.9315 - val_categorical_accuracy: 0.4014\n"
          ]
        },
        {
          "data": {
            "text/html": [
              "wandb version 0.15.4 is available!  To upgrade, please run:\n",
              " $ pip install wandb --upgrade"
            ],
            "text/plain": [
              "<IPython.core.display.HTML object>"
            ]
          },
          "metadata": {},
          "output_type": "display_data"
        },
        {
          "data": {
            "text/html": [
              "Tracking run with wandb version 0.13.5"
            ],
            "text/plain": [
              "<IPython.core.display.HTML object>"
            ]
          },
          "metadata": {},
          "output_type": "display_data"
        },
        {
          "data": {
            "text/html": [
              "Run data is saved locally in <code>d:\\Study\\20222\\ML &DM\\Project\\20222_DMML_Project\\wandb\\run-20230614_183355-2r8oebrt</code>"
            ],
            "text/plain": [
              "<IPython.core.display.HTML object>"
            ]
          },
          "metadata": {},
          "output_type": "display_data"
        },
        {
          "data": {
            "text/html": [
              "Syncing run <strong><a href=\"https://wandb.ai/thanh-bv/News%20Classification/runs/2r8oebrt\" target=\"_blank\">lunar-dew-60</a></strong> to <a href=\"https://wandb.ai/thanh-bv/News%20Classification\" target=\"_blank\">Weights & Biases</a> (<a href=\"https://wandb.me/run\" target=\"_blank\">docs</a>)<br/>"
            ],
            "text/plain": [
              "<IPython.core.display.HTML object>"
            ]
          },
          "metadata": {},
          "output_type": "display_data"
        },
        {
          "name": "stdout",
          "output_type": "stream",
          "text": [
            "403/403 [==============================] - 1s 2ms/step\n",
            "For each class: \n",
            "Accuracy:  tensor([0.0000, 0.0000, 0.0121, 0.2324, 0.0000, 0.2704, 0.1879, 0.4610, 0.0000,\n",
            "        0.6076, 0.0084, 0.0000, 0.5310, 0.0000, 0.0051, 0.1907, 0.2253, 0.0732,\n",
            "        0.0000, 0.0213, 0.0090, 0.4578, 0.0667, 0.7563, 0.4861, 0.0405, 0.0000,\n",
            "        0.2271, 0.0349, 0.6068, 0.0534, 0.0000, 0.4890, 0.0000, 0.5807, 0.0062,\n",
            "        0.5481, 0.1244, 0.0000, 0.3845])\n",
            "Precision:  tensor([0.0000, 0.0000, 0.0513, 0.1816, 0.0000, 0.2630, 0.1822, 0.7325, 0.0000,\n",
            "        0.4116, 0.0375, 0.0000, 0.3804, 0.0000, 0.0857, 0.1619, 0.2821, 0.0862,\n",
            "        0.0000, 0.1481, 0.1290, 0.3249, 0.0957, 0.6240, 0.4710, 0.0695, 0.0000,\n",
            "        0.1702, 0.0614, 0.5884, 0.1250, 0.0000, 0.3387, 0.0000, 0.6812, 0.0702,\n",
            "        0.5183, 0.0469, 0.0000, 0.2962])\n",
            "Recall:  tensor([0.0000, 0.0000, 0.0121, 0.2324, 0.0000, 0.2704, 0.1879, 0.4610, 0.0000,\n",
            "        0.6076, 0.0084, 0.0000, 0.5310, 0.0000, 0.0051, 0.1907, 0.2253, 0.0732,\n",
            "        0.0000, 0.0213, 0.0090, 0.4578, 0.0667, 0.7563, 0.4861, 0.0405, 0.0000,\n",
            "        0.2271, 0.0349, 0.6068, 0.0534, 0.0000, 0.4890, 0.0000, 0.5807, 0.0062,\n",
            "        0.5481, 0.1244, 0.0000, 0.3845])\n",
            "F1-score:  tensor([0.0000, 0.0000, 0.0195, 0.2039, 0.0000, 0.2667, 0.1850, 0.5659, 0.0000,\n",
            "        0.4907, 0.0137, 0.0000, 0.4433, 0.0000, 0.0095, 0.1751, 0.2505, 0.0792,\n",
            "        0.0000, 0.0373, 0.0168, 0.3801, 0.0786, 0.6838, 0.4784, 0.0512, 0.0000,\n",
            "        0.1946, 0.0445, 0.5975, 0.0748, 0.0000, 0.4002, 0.0000, 0.6270, 0.0114,\n",
            "        0.5328, 0.0681, 0.0000, 0.3347])\n",
            "Type:  micro\n",
            "Accuracy:  tensor(0.3983)\n",
            "Precision:  tensor(0.3983)\n",
            "Recall:  tensor(0.3983)\n",
            "F1-score:  tensor(0.3983)\n",
            "Type:  macro\n",
            "Accuracy:  tensor(0.1924)\n",
            "Precision:  tensor(0.1904)\n",
            "Recall:  tensor(0.1924)\n",
            "F1-score:  tensor(0.1829)\n",
            "Type:  weighted\n",
            "Accuracy:  tensor(0.3983)\n",
            "Precision:  tensor(0.3456)\n",
            "Recall:  tensor(0.3983)\n",
            "F1-score:  tensor(0.3639)\n",
            "Epoch 1/10\n",
            "967/967 [==============================] - 10s 10ms/step - loss: 2.9791 - categorical_accuracy: 0.3011 - val_loss: 2.5782 - val_categorical_accuracy: 0.3557\n",
            "Epoch 2/10\n",
            "967/967 [==============================] - 10s 10ms/step - loss: 2.5262 - categorical_accuracy: 0.3627 - val_loss: 2.4913 - val_categorical_accuracy: 0.3623\n",
            "Epoch 3/10\n",
            "967/967 [==============================] - 9s 9ms/step - loss: 2.4332 - categorical_accuracy: 0.3766 - val_loss: 2.4194 - val_categorical_accuracy: 0.3845\n",
            "Epoch 4/10\n",
            "967/967 [==============================] - 13s 14ms/step - loss: 2.3177 - categorical_accuracy: 0.4123 - val_loss: 2.3123 - val_categorical_accuracy: 0.4225\n",
            "Epoch 5/10\n",
            "967/967 [==============================] - 19s 19ms/step - loss: 2.2003 - categorical_accuracy: 0.4484 - val_loss: 2.2741 - val_categorical_accuracy: 0.4454\n",
            "Epoch 6/10\n",
            "967/967 [==============================] - 18s 19ms/step - loss: 2.0945 - categorical_accuracy: 0.4812 - val_loss: 2.2656 - val_categorical_accuracy: 0.4598\n",
            "Epoch 7/10\n",
            "967/967 [==============================] - 19s 20ms/step - loss: 1.9884 - categorical_accuracy: 0.5111 - val_loss: 2.2692 - val_categorical_accuracy: 0.4720\n",
            "Epoch 8/10\n",
            "967/967 [==============================] - 19s 20ms/step - loss: 1.8777 - categorical_accuracy: 0.5404 - val_loss: 2.3015 - val_categorical_accuracy: 0.4781\n",
            "Epoch 9/10\n",
            "967/967 [==============================] - 18s 18ms/step - loss: 1.7841 - categorical_accuracy: 0.5647 - val_loss: 2.3723 - val_categorical_accuracy: 0.4709\n",
            "Epoch 10/10\n",
            "967/967 [==============================] - 19s 19ms/step - loss: 1.6983 - categorical_accuracy: 0.5865 - val_loss: 2.4660 - val_categorical_accuracy: 0.4660\n"
          ]
        },
        {
          "data": {
            "text/html": [
              "Finishing last run (ID:2r8oebrt) before initializing another..."
            ],
            "text/plain": [
              "<IPython.core.display.HTML object>"
            ]
          },
          "metadata": {},
          "output_type": "display_data"
        },
        {
          "data": {
            "text/html": [
              "Waiting for W&B process to finish... <strong style=\"color:green\">(success).</strong>"
            ],
            "text/plain": [
              "<IPython.core.display.HTML object>"
            ]
          },
          "metadata": {},
          "output_type": "display_data"
        },
        {
          "data": {
            "text/html": [
              "<style>\n",
              "    table.wandb td:nth-child(1) { padding: 0 10px; text-align: left ; width: auto;} td:nth-child(2) {text-align: left ; width: 100%}\n",
              "    .wandb-row { display: flex; flex-direction: row; flex-wrap: wrap; justify-content: flex-start; width: 100% }\n",
              "    .wandb-col { display: flex; flex-direction: column; flex-basis: 100%; flex: 1; padding: 10px; }\n",
              "    </style>\n",
              "<div class=\"wandb-row\"><div class=\"wandb-col\"><h3>Run history:</h3><br/><table class=\"wandb\"><tr><td>train_accuracy</td><td>▁▃▄▄▅▅▆▇▇█</td></tr><tr><td>train_loss</td><td>█▆▅▄▄▃▃▂▂▁</td></tr><tr><td>val_accuracy</td><td>▁▃▆▇██▇▆▅▄</td></tr><tr><td>val_loss</td><td>▄▃▂▁▁▂▃▄▆█</td></tr></table><br/></div><div class=\"wandb-col\"><h3>Run summary:</h3><br/><table class=\"wandb\"><tr><td>train_accuracy</td><td>0.63385</td></tr><tr><td>train_loss</td><td>1.50879</td></tr><tr><td>val_accuracy</td><td>0.40139</td></tr><tr><td>val_loss</td><td>2.93149</td></tr></table><br/></div></div>"
            ],
            "text/plain": [
              "<IPython.core.display.HTML object>"
            ]
          },
          "metadata": {},
          "output_type": "display_data"
        },
        {
          "data": {
            "text/html": [
              "Synced <strong style=\"color:#cdcd00\">lunar-dew-60</strong>: <a href=\"https://wandb.ai/thanh-bv/News%20Classification/runs/2r8oebrt\" target=\"_blank\">https://wandb.ai/thanh-bv/News%20Classification/runs/2r8oebrt</a><br/>Synced 5 W&B file(s), 0 media file(s), 0 artifact file(s) and 0 other file(s)"
            ],
            "text/plain": [
              "<IPython.core.display.HTML object>"
            ]
          },
          "metadata": {},
          "output_type": "display_data"
        },
        {
          "data": {
            "text/html": [
              "Find logs at: <code>.\\wandb\\run-20230614_183355-2r8oebrt\\logs</code>"
            ],
            "text/plain": [
              "<IPython.core.display.HTML object>"
            ]
          },
          "metadata": {},
          "output_type": "display_data"
        },
        {
          "data": {
            "text/html": [
              "Successfully finished last run (ID:2r8oebrt). Initializing new run:<br/>"
            ],
            "text/plain": [
              "<IPython.core.display.HTML object>"
            ]
          },
          "metadata": {},
          "output_type": "display_data"
        },
        {
          "data": {
            "text/html": [
              "wandb version 0.15.4 is available!  To upgrade, please run:\n",
              " $ pip install wandb --upgrade"
            ],
            "text/plain": [
              "<IPython.core.display.HTML object>"
            ]
          },
          "metadata": {},
          "output_type": "display_data"
        },
        {
          "data": {
            "text/html": [
              "Tracking run with wandb version 0.13.5"
            ],
            "text/plain": [
              "<IPython.core.display.HTML object>"
            ]
          },
          "metadata": {},
          "output_type": "display_data"
        },
        {
          "data": {
            "text/html": [
              "Run data is saved locally in <code>d:\\Study\\20222\\ML &DM\\Project\\20222_DMML_Project\\wandb\\run-20230614_183631-2o5srbwy</code>"
            ],
            "text/plain": [
              "<IPython.core.display.HTML object>"
            ]
          },
          "metadata": {},
          "output_type": "display_data"
        },
        {
          "data": {
            "text/html": [
              "Syncing run <strong><a href=\"https://wandb.ai/thanh-bv/News%20Classification/runs/2o5srbwy\" target=\"_blank\">frosty-terrain-61</a></strong> to <a href=\"https://wandb.ai/thanh-bv/News%20Classification\" target=\"_blank\">Weights & Biases</a> (<a href=\"https://wandb.me/run\" target=\"_blank\">docs</a>)<br/>"
            ],
            "text/plain": [
              "<IPython.core.display.HTML object>"
            ]
          },
          "metadata": {},
          "output_type": "display_data"
        },
        {
          "name": "stdout",
          "output_type": "stream",
          "text": [
            "403/403 [==============================] - 2s 5ms/step\n",
            "For each class: \n",
            "Accuracy:  tensor([0.0000, 0.0289, 0.0388, 0.3942, 0.0000, 0.1220, 0.2158, 0.5548, 0.0000,\n",
            "        0.6731, 0.0111, 0.0000, 0.6764, 0.0000, 0.0690, 0.0789, 0.3643, 0.0413,\n",
            "        0.0000, 0.0000, 0.0000, 0.5393, 0.0719, 0.7991, 0.6101, 0.0016, 0.0133,\n",
            "        0.4884, 0.0019, 0.7236, 0.0375, 0.0056, 0.6562, 0.0000, 0.7038, 0.0556,\n",
            "        0.6690, 0.1035, 0.0000, 0.5953])\n",
            "Precision:  tensor([0.0000, 0.2099, 0.1948, 0.1928, 0.0000, 0.4618, 0.2325, 0.7958, 0.0000,\n",
            "        0.4496, 0.1000, 0.0000, 0.5005, 0.0000, 0.1010, 0.1768, 0.4144, 0.0850,\n",
            "        0.0000, 0.0000, 0.0000, 0.4047, 0.1462, 0.6350, 0.5407, 0.5000, 0.0667,\n",
            "        0.3539, 0.1667, 0.6659, 0.1681, 0.1111, 0.4678, 0.0000, 0.6558, 0.0739,\n",
            "        0.5369, 0.1224, 0.0000, 0.2692])\n",
            "Recall:  tensor([0.0000, 0.0289, 0.0388, 0.3942, 0.0000, 0.1220, 0.2158, 0.5548, 0.0000,\n",
            "        0.6731, 0.0111, 0.0000, 0.6764, 0.0000, 0.0690, 0.0789, 0.3643, 0.0413,\n",
            "        0.0000, 0.0000, 0.0000, 0.5393, 0.0719, 0.7991, 0.6101, 0.0016, 0.0133,\n",
            "        0.4884, 0.0019, 0.7236, 0.0375, 0.0056, 0.6562, 0.0000, 0.7038, 0.0556,\n",
            "        0.6690, 0.1035, 0.0000, 0.5953])\n",
            "F1-score:  tensor([0.0000, 0.0508, 0.0647, 0.2589, 0.0000, 0.1930, 0.2238, 0.6538, 0.0000,\n",
            "        0.5391, 0.0201, 0.0000, 0.5753, 0.0000, 0.0820, 0.1091, 0.3878, 0.0556,\n",
            "        0.0000, 0.0000, 0.0000, 0.4624, 0.0964, 0.7077, 0.5733, 0.0031, 0.0222,\n",
            "        0.4104, 0.0038, 0.6936, 0.0614, 0.0107, 0.5462, 0.0000, 0.6790, 0.0635,\n",
            "        0.5957, 0.1122, 0.0000, 0.3707])\n",
            "Type:  micro\n",
            "Accuracy:  tensor(0.4644)\n",
            "Precision:  tensor(0.4644)\n",
            "Recall:  tensor(0.4644)\n",
            "F1-score:  tensor(0.4644)\n",
            "Type:  macro\n",
            "Accuracy:  tensor(0.2336)\n",
            "Precision:  tensor(0.2450)\n",
            "Recall:  tensor(0.2336)\n",
            "F1-score:  tensor(0.2157)\n",
            "Type:  weighted\n",
            "Accuracy:  tensor(0.4644)\n",
            "Precision:  tensor(0.3988)\n",
            "Recall:  tensor(0.4644)\n",
            "F1-score:  tensor(0.4117)\n",
            "Epoch 1/10\n",
            "967/967 [==============================] - 21s 20ms/step - loss: 3.0223 - categorical_accuracy: 0.3104 - val_loss: 2.5864 - val_categorical_accuracy: 0.3509\n",
            "Epoch 2/10\n",
            "967/967 [==============================] - 19s 20ms/step - loss: 2.5595 - categorical_accuracy: 0.3563 - val_loss: 2.4846 - val_categorical_accuracy: 0.3613\n",
            "Epoch 3/10\n",
            "967/967 [==============================] - 19s 19ms/step - loss: 2.4551 - categorical_accuracy: 0.3757 - val_loss: 2.4045 - val_categorical_accuracy: 0.3860\n",
            "Epoch 4/10\n",
            "967/967 [==============================] - 17s 18ms/step - loss: 2.3454 - categorical_accuracy: 0.4066 - val_loss: 2.3196 - val_categorical_accuracy: 0.4210\n",
            "Epoch 5/10\n",
            "967/967 [==============================] - 18s 19ms/step - loss: 2.2413 - categorical_accuracy: 0.4432 - val_loss: 2.2752 - val_categorical_accuracy: 0.4476\n",
            "Epoch 6/10\n",
            "967/967 [==============================] - 18s 18ms/step - loss: 2.1341 - categorical_accuracy: 0.4764 - val_loss: 2.2586 - val_categorical_accuracy: 0.4619\n",
            "Epoch 7/10\n",
            "967/967 [==============================] - 17s 18ms/step - loss: 2.0327 - categorical_accuracy: 0.5031 - val_loss: 2.2583 - val_categorical_accuracy: 0.4702\n",
            "Epoch 8/10\n",
            "967/967 [==============================] - 18s 18ms/step - loss: 1.9355 - categorical_accuracy: 0.5259 - val_loss: 2.3251 - val_categorical_accuracy: 0.4671\n",
            "Epoch 9/10\n",
            "967/967 [==============================] - 17s 18ms/step - loss: 1.8503 - categorical_accuracy: 0.5481 - val_loss: 2.3688 - val_categorical_accuracy: 0.4695\n",
            "Epoch 10/10\n",
            "967/967 [==============================] - 18s 18ms/step - loss: 1.7706 - categorical_accuracy: 0.5674 - val_loss: 2.4486 - val_categorical_accuracy: 0.4658\n"
          ]
        },
        {
          "data": {
            "text/html": [
              "Finishing last run (ID:2o5srbwy) before initializing another..."
            ],
            "text/plain": [
              "<IPython.core.display.HTML object>"
            ]
          },
          "metadata": {},
          "output_type": "display_data"
        },
        {
          "data": {
            "text/html": [
              "Waiting for W&B process to finish... <strong style=\"color:green\">(success).</strong>"
            ],
            "text/plain": [
              "<IPython.core.display.HTML object>"
            ]
          },
          "metadata": {},
          "output_type": "display_data"
        },
        {
          "data": {
            "text/html": [
              "<style>\n",
              "    table.wandb td:nth-child(1) { padding: 0 10px; text-align: left ; width: auto;} td:nth-child(2) {text-align: left ; width: 100%}\n",
              "    .wandb-row { display: flex; flex-direction: row; flex-wrap: wrap; justify-content: flex-start; width: 100% }\n",
              "    .wandb-col { display: flex; flex-direction: column; flex-basis: 100%; flex: 1; padding: 10px; }\n",
              "    </style>\n",
              "<div class=\"wandb-row\"><div class=\"wandb-col\"><h3>Run history:</h3><br/><table class=\"wandb\"><tr><td>train_accuracy</td><td>▁▃▃▄▅▅▆▇▇█</td></tr><tr><td>train_loss</td><td>█▆▅▄▄▃▃▂▁▁</td></tr><tr><td>val_accuracy</td><td>▁▁▃▅▆▇███▇</td></tr><tr><td>val_loss</td><td>█▆▄▂▁▁▁▂▃▅</td></tr></table><br/></div><div class=\"wandb-col\"><h3>Run summary:</h3><br/><table class=\"wandb\"><tr><td>train_accuracy</td><td>0.58651</td></tr><tr><td>train_loss</td><td>1.69828</td></tr><tr><td>val_accuracy</td><td>0.46601</td></tr><tr><td>val_loss</td><td>2.46597</td></tr></table><br/></div></div>"
            ],
            "text/plain": [
              "<IPython.core.display.HTML object>"
            ]
          },
          "metadata": {},
          "output_type": "display_data"
        },
        {
          "data": {
            "text/html": [
              "Synced <strong style=\"color:#cdcd00\">frosty-terrain-61</strong>: <a href=\"https://wandb.ai/thanh-bv/News%20Classification/runs/2o5srbwy\" target=\"_blank\">https://wandb.ai/thanh-bv/News%20Classification/runs/2o5srbwy</a><br/>Synced 5 W&B file(s), 0 media file(s), 0 artifact file(s) and 0 other file(s)"
            ],
            "text/plain": [
              "<IPython.core.display.HTML object>"
            ]
          },
          "metadata": {},
          "output_type": "display_data"
        },
        {
          "data": {
            "text/html": [
              "Find logs at: <code>.\\wandb\\run-20230614_183631-2o5srbwy\\logs</code>"
            ],
            "text/plain": [
              "<IPython.core.display.HTML object>"
            ]
          },
          "metadata": {},
          "output_type": "display_data"
        },
        {
          "data": {
            "text/html": [
              "Successfully finished last run (ID:2o5srbwy). Initializing new run:<br/>"
            ],
            "text/plain": [
              "<IPython.core.display.HTML object>"
            ]
          },
          "metadata": {},
          "output_type": "display_data"
        },
        {
          "data": {
            "text/html": [
              "wandb version 0.15.4 is available!  To upgrade, please run:\n",
              " $ pip install wandb --upgrade"
            ],
            "text/plain": [
              "<IPython.core.display.HTML object>"
            ]
          },
          "metadata": {},
          "output_type": "display_data"
        },
        {
          "data": {
            "text/html": [
              "Tracking run with wandb version 0.13.5"
            ],
            "text/plain": [
              "<IPython.core.display.HTML object>"
            ]
          },
          "metadata": {},
          "output_type": "display_data"
        },
        {
          "data": {
            "text/html": [
              "Run data is saved locally in <code>d:\\Study\\20222\\ML &DM\\Project\\20222_DMML_Project\\wandb\\run-20230614_183946-2xpvjsmz</code>"
            ],
            "text/plain": [
              "<IPython.core.display.HTML object>"
            ]
          },
          "metadata": {},
          "output_type": "display_data"
        },
        {
          "data": {
            "text/html": [
              "Syncing run <strong><a href=\"https://wandb.ai/thanh-bv/News%20Classification/runs/2xpvjsmz\" target=\"_blank\">radiant-armadillo-62</a></strong> to <a href=\"https://wandb.ai/thanh-bv/News%20Classification\" target=\"_blank\">Weights & Biases</a> (<a href=\"https://wandb.me/run\" target=\"_blank\">docs</a>)<br/>"
            ],
            "text/plain": [
              "<IPython.core.display.HTML object>"
            ]
          },
          "metadata": {},
          "output_type": "display_data"
        },
        {
          "name": "stdout",
          "output_type": "stream",
          "text": [
            "403/403 [==============================] - 2s 5ms/step\n",
            "For each class: \n",
            "Accuracy:  tensor([0.0000, 0.0000, 0.0155, 0.3788, 0.0000, 0.0645, 0.2320, 0.5277, 0.0000,\n",
            "        0.7058, 0.0111, 0.0000, 0.7092, 0.0000, 0.0303, 0.0802, 0.3058, 0.0543,\n",
            "        0.0000, 0.0000, 0.0000, 0.5853, 0.0459, 0.8042, 0.6286, 0.0062, 0.0228,\n",
            "        0.3868, 0.0155, 0.7534, 0.0020, 0.0037, 0.6212, 0.0000, 0.6458, 0.0448,\n",
            "        0.6873, 0.0733, 0.0000, 0.5556])\n",
            "Precision:  tensor([0.0000, 0.0000, 0.1047, 0.2279, 0.0000, 0.5390, 0.1756, 0.7023, 0.0000,\n",
            "        0.4217, 0.0784, 0.0000, 0.4928, 0.0000, 0.1091, 0.1676, 0.4664, 0.0870,\n",
            "        0.0000, 0.0000, 0.0000, 0.3665, 0.1384, 0.6218, 0.5853, 0.2353, 0.0870,\n",
            "        0.3255, 0.5714, 0.6191, 0.3333, 0.0833, 0.4886, 0.0000, 0.7137, 0.0863,\n",
            "        0.5204, 0.0949, 0.0000, 0.2833])\n",
            "Recall:  tensor([0.0000, 0.0000, 0.0155, 0.3788, 0.0000, 0.0645, 0.2320, 0.5277, 0.0000,\n",
            "        0.7058, 0.0111, 0.0000, 0.7092, 0.0000, 0.0303, 0.0802, 0.3058, 0.0543,\n",
            "        0.0000, 0.0000, 0.0000, 0.5853, 0.0459, 0.8042, 0.6286, 0.0062, 0.0228,\n",
            "        0.3868, 0.0155, 0.7534, 0.0020, 0.0037, 0.6212, 0.0000, 0.6458, 0.0448,\n",
            "        0.6873, 0.0733, 0.0000, 0.5556])\n",
            "F1-score:  tensor([0.0000, 0.0000, 0.0270, 0.2846, 0.0000, 0.1152, 0.1999, 0.6026, 0.0000,\n",
            "        0.5280, 0.0195, 0.0000, 0.5815, 0.0000, 0.0474, 0.1084, 0.3694, 0.0669,\n",
            "        0.0000, 0.0000, 0.0000, 0.4507, 0.0689, 0.7013, 0.6062, 0.0121, 0.0361,\n",
            "        0.3535, 0.0302, 0.6796, 0.0039, 0.0072, 0.5470, 0.0000, 0.6780, 0.0590,\n",
            "        0.5923, 0.0827, 0.0000, 0.3752])\n",
            "Type:  micro\n",
            "Accuracy:  tensor(0.4626)\n",
            "Precision:  tensor(0.4626)\n",
            "Recall:  tensor(0.4626)\n",
            "F1-score:  tensor(0.4626)\n",
            "Type:  macro\n",
            "Accuracy:  tensor(0.2249)\n",
            "Precision:  tensor(0.2432)\n",
            "Recall:  tensor(0.2249)\n",
            "F1-score:  tensor(0.2059)\n",
            "Type:  weighted\n",
            "Accuracy:  tensor(0.4626)\n",
            "Precision:  tensor(0.3903)\n",
            "Recall:  tensor(0.4626)\n",
            "F1-score:  tensor(0.4025)\n",
            "Epoch 1/10\n",
            "967/967 [==============================] - 19s 18ms/step - loss: 146.0400 - categorical_accuracy: 0.3769 - val_loss: 27.5874 - val_categorical_accuracy: 0.4791\n",
            "Epoch 2/10\n",
            "967/967 [==============================] - 16s 17ms/step - loss: 15.6478 - categorical_accuracy: 0.5283 - val_loss: 16.6300 - val_categorical_accuracy: 0.5260\n",
            "Epoch 3/10\n",
            "967/967 [==============================] - 9s 9ms/step - loss: 9.3553 - categorical_accuracy: 0.5795 - val_loss: 14.5696 - val_categorical_accuracy: 0.5339\n",
            "Epoch 4/10\n",
            "967/967 [==============================] - 9s 9ms/step - loss: 6.8009 - categorical_accuracy: 0.6123 - val_loss: 13.3335 - val_categorical_accuracy: 0.5400\n",
            "Epoch 5/10\n",
            "967/967 [==============================] - 9s 10ms/step - loss: 5.0241 - categorical_accuracy: 0.6433 - val_loss: 13.5245 - val_categorical_accuracy: 0.5387\n",
            "Epoch 6/10\n",
            "967/967 [==============================] - 9s 10ms/step - loss: 3.8155 - categorical_accuracy: 0.6752 - val_loss: 15.0544 - val_categorical_accuracy: 0.5278\n",
            "Epoch 7/10\n",
            "967/967 [==============================] - 9s 9ms/step - loss: 3.0442 - categorical_accuracy: 0.7028 - val_loss: 16.2778 - val_categorical_accuracy: 0.5256\n",
            "Epoch 8/10\n",
            "967/967 [==============================] - 9s 9ms/step - loss: 2.4411 - categorical_accuracy: 0.7273 - val_loss: 18.3969 - val_categorical_accuracy: 0.5137\n",
            "Epoch 9/10\n",
            "967/967 [==============================] - 9s 10ms/step - loss: 1.9900 - categorical_accuracy: 0.7486 - val_loss: 20.4883 - val_categorical_accuracy: 0.5077\n",
            "Epoch 10/10\n",
            "967/967 [==============================] - 9s 10ms/step - loss: 1.6360 - categorical_accuracy: 0.7660 - val_loss: 21.9013 - val_categorical_accuracy: 0.5056\n"
          ]
        },
        {
          "data": {
            "text/html": [
              "Finishing last run (ID:2xpvjsmz) before initializing another..."
            ],
            "text/plain": [
              "<IPython.core.display.HTML object>"
            ]
          },
          "metadata": {},
          "output_type": "display_data"
        },
        {
          "data": {
            "text/html": [
              "Waiting for W&B process to finish... <strong style=\"color:green\">(success).</strong>"
            ],
            "text/plain": [
              "<IPython.core.display.HTML object>"
            ]
          },
          "metadata": {},
          "output_type": "display_data"
        },
        {
          "data": {
            "text/html": [
              "<style>\n",
              "    table.wandb td:nth-child(1) { padding: 0 10px; text-align: left ; width: auto;} td:nth-child(2) {text-align: left ; width: 100%}\n",
              "    .wandb-row { display: flex; flex-direction: row; flex-wrap: wrap; justify-content: flex-start; width: 100% }\n",
              "    .wandb-col { display: flex; flex-direction: column; flex-basis: 100%; flex: 1; padding: 10px; }\n",
              "    </style>\n",
              "<div class=\"wandb-row\"><div class=\"wandb-col\"><h3>Run history:</h3><br/><table class=\"wandb\"><tr><td>train_accuracy</td><td>▁▂▃▄▅▆▆▇▇█</td></tr><tr><td>train_loss</td><td>█▅▅▄▄▃▂▂▁▁</td></tr><tr><td>val_accuracy</td><td>▁▂▃▅▇█████</td></tr><tr><td>val_loss</td><td>█▆▄▂▁▁▁▂▃▅</td></tr></table><br/></div><div class=\"wandb-col\"><h3>Run summary:</h3><br/><table class=\"wandb\"><tr><td>train_accuracy</td><td>0.56742</td></tr><tr><td>train_loss</td><td>1.77057</td></tr><tr><td>val_accuracy</td><td>0.46585</td></tr><tr><td>val_loss</td><td>2.44859</td></tr></table><br/></div></div>"
            ],
            "text/plain": [
              "<IPython.core.display.HTML object>"
            ]
          },
          "metadata": {},
          "output_type": "display_data"
        },
        {
          "data": {
            "text/html": [
              "Synced <strong style=\"color:#cdcd00\">radiant-armadillo-62</strong>: <a href=\"https://wandb.ai/thanh-bv/News%20Classification/runs/2xpvjsmz\" target=\"_blank\">https://wandb.ai/thanh-bv/News%20Classification/runs/2xpvjsmz</a><br/>Synced 5 W&B file(s), 0 media file(s), 0 artifact file(s) and 0 other file(s)"
            ],
            "text/plain": [
              "<IPython.core.display.HTML object>"
            ]
          },
          "metadata": {},
          "output_type": "display_data"
        },
        {
          "data": {
            "text/html": [
              "Find logs at: <code>.\\wandb\\run-20230614_183946-2xpvjsmz\\logs</code>"
            ],
            "text/plain": [
              "<IPython.core.display.HTML object>"
            ]
          },
          "metadata": {},
          "output_type": "display_data"
        },
        {
          "data": {
            "text/html": [
              "Successfully finished last run (ID:2xpvjsmz). Initializing new run:<br/>"
            ],
            "text/plain": [
              "<IPython.core.display.HTML object>"
            ]
          },
          "metadata": {},
          "output_type": "display_data"
        },
        {
          "data": {
            "text/html": [
              "wandb version 0.15.4 is available!  To upgrade, please run:\n",
              " $ pip install wandb --upgrade"
            ],
            "text/plain": [
              "<IPython.core.display.HTML object>"
            ]
          },
          "metadata": {},
          "output_type": "display_data"
        },
        {
          "data": {
            "text/html": [
              "Tracking run with wandb version 0.13.5"
            ],
            "text/plain": [
              "<IPython.core.display.HTML object>"
            ]
          },
          "metadata": {},
          "output_type": "display_data"
        },
        {
          "data": {
            "text/html": [
              "Run data is saved locally in <code>d:\\Study\\20222\\ML &DM\\Project\\20222_DMML_Project\\wandb\\run-20230614_184148-3gi8ysbn</code>"
            ],
            "text/plain": [
              "<IPython.core.display.HTML object>"
            ]
          },
          "metadata": {},
          "output_type": "display_data"
        },
        {
          "data": {
            "text/html": [
              "Syncing run <strong><a href=\"https://wandb.ai/thanh-bv/News%20Classification/runs/3gi8ysbn\" target=\"_blank\">visionary-donkey-63</a></strong> to <a href=\"https://wandb.ai/thanh-bv/News%20Classification\" target=\"_blank\">Weights & Biases</a> (<a href=\"https://wandb.me/run\" target=\"_blank\">docs</a>)<br/>"
            ],
            "text/plain": [
              "<IPython.core.display.HTML object>"
            ]
          },
          "metadata": {},
          "output_type": "display_data"
        },
        {
          "name": "stdout",
          "output_type": "stream",
          "text": [
            "403/403 [==============================] - 1s 2ms/step\n",
            "For each class: \n",
            "Accuracy:  tensor([0.0229, 0.2959, 0.2997, 0.3197, 0.0638, 0.3481, 0.4223, 0.5706, 0.2091,\n",
            "        0.6367, 0.2061, 0.0059, 0.6245, 0.0088, 0.1818, 0.2689, 0.5369, 0.1157,\n",
            "        0.0034, 0.1467, 0.1955, 0.5455, 0.1908, 0.7810, 0.6058, 0.2897, 0.2258,\n",
            "        0.4938, 0.2345, 0.7509, 0.0455, 0.2004, 0.6103, 0.0191, 0.6771, 0.1360,\n",
            "        0.6713, 0.1919, 0.3214, 0.3995])\n",
            "Precision:  tensor([0.4444, 0.2762, 0.2617, 0.3681, 0.3673, 0.3593, 0.3788, 0.6352, 0.3571,\n",
            "        0.4990, 0.2741, 0.2857, 0.5253, 0.0789, 0.2842, 0.2971, 0.5761, 0.1922,\n",
            "        0.5000, 0.4490, 0.3750, 0.4295, 0.2842, 0.6429, 0.5302, 0.3470, 0.3165,\n",
            "        0.5024, 0.4321, 0.6753, 0.3194, 0.3702, 0.6183, 0.1186, 0.6640, 0.2100,\n",
            "        0.5251, 0.2811, 0.3242, 0.4436])\n",
            "Recall:  tensor([0.0229, 0.2959, 0.2997, 0.3197, 0.0638, 0.3481, 0.4223, 0.5706, 0.2091,\n",
            "        0.6367, 0.2061, 0.0059, 0.6245, 0.0088, 0.1818, 0.2689, 0.5369, 0.1157,\n",
            "        0.0034, 0.1467, 0.1955, 0.5455, 0.1908, 0.7810, 0.6058, 0.2897, 0.2258,\n",
            "        0.4938, 0.2345, 0.7509, 0.0455, 0.2004, 0.6103, 0.0191, 0.6771, 0.1360,\n",
            "        0.6713, 0.1919, 0.3214, 0.3995])\n",
            "F1-score:  tensor([0.0436, 0.2857, 0.2794, 0.3422, 0.1088, 0.3536, 0.3993, 0.6012, 0.2638,\n",
            "        0.5595, 0.2353, 0.0115, 0.5706, 0.0159, 0.2218, 0.2823, 0.5558, 0.1444,\n",
            "        0.0068, 0.2211, 0.2570, 0.4806, 0.2283, 0.7053, 0.5655, 0.3158, 0.2636,\n",
            "        0.4980, 0.3040, 0.7111, 0.0796, 0.2600, 0.6143, 0.0329, 0.6705, 0.1651,\n",
            "        0.5893, 0.2281, 0.3228, 0.4204])\n",
            "Type:  micro\n",
            "Accuracy:  tensor(0.5048)\n",
            "Precision:  tensor(0.5048)\n",
            "Recall:  tensor(0.5048)\n",
            "F1-score:  tensor(0.5048)\n",
            "Type:  macro\n",
            "Accuracy:  tensor(0.3218)\n",
            "Precision:  tensor(0.3955)\n",
            "Recall:  tensor(0.3218)\n",
            "F1-score:  tensor(0.3304)\n",
            "Type:  weighted\n",
            "Accuracy:  tensor(0.5048)\n",
            "Precision:  tensor(0.4799)\n",
            "Recall:  tensor(0.5048)\n",
            "F1-score:  tensor(0.4805)\n",
            "Epoch 1/10\n",
            "967/967 [==============================] - 10s 10ms/step - loss: 182.0572 - categorical_accuracy: 0.3597 - val_loss: 36.6122 - val_categorical_accuracy: 0.4402\n",
            "Epoch 2/10\n",
            "967/967 [==============================] - 10s 10ms/step - loss: 24.6611 - categorical_accuracy: 0.4788 - val_loss: 20.4003 - val_categorical_accuracy: 0.5031\n",
            "Epoch 3/10\n",
            "967/967 [==============================] - 10s 10ms/step - loss: 14.2534 - categorical_accuracy: 0.5374 - val_loss: 16.0838 - val_categorical_accuracy: 0.5310\n",
            "Epoch 4/10\n",
            "967/967 [==============================] - 9s 10ms/step - loss: 9.8194 - categorical_accuracy: 0.5767 - val_loss: 14.2801 - val_categorical_accuracy: 0.5423\n",
            "Epoch 5/10\n",
            "967/967 [==============================] - 10s 10ms/step - loss: 7.1294 - categorical_accuracy: 0.6085 - val_loss: 13.9175 - val_categorical_accuracy: 0.5408\n",
            "Epoch 6/10\n",
            "967/967 [==============================] - 10s 11ms/step - loss: 5.3512 - categorical_accuracy: 0.6380 - val_loss: 14.6548 - val_categorical_accuracy: 0.5373\n",
            "Epoch 7/10\n",
            "967/967 [==============================] - 10s 11ms/step - loss: 4.1780 - categorical_accuracy: 0.6634 - val_loss: 15.7714 - val_categorical_accuracy: 0.5311\n",
            "Epoch 8/10\n",
            "967/967 [==============================] - 9s 9ms/step - loss: 3.3355 - categorical_accuracy: 0.6854 - val_loss: 17.9334 - val_categorical_accuracy: 0.5205\n",
            "Epoch 9/10\n",
            "967/967 [==============================] - 9s 9ms/step - loss: 2.6986 - categorical_accuracy: 0.7060 - val_loss: 19.1509 - val_categorical_accuracy: 0.5184\n",
            "Epoch 10/10\n",
            "967/967 [==============================] - 10s 10ms/step - loss: 2.2209 - categorical_accuracy: 0.7243 - val_loss: 21.5608 - val_categorical_accuracy: 0.5112\n"
          ]
        },
        {
          "data": {
            "text/html": [
              "Finishing last run (ID:3gi8ysbn) before initializing another..."
            ],
            "text/plain": [
              "<IPython.core.display.HTML object>"
            ]
          },
          "metadata": {},
          "output_type": "display_data"
        },
        {
          "data": {
            "text/html": [
              "Waiting for W&B process to finish... <strong style=\"color:green\">(success).</strong>"
            ],
            "text/plain": [
              "<IPython.core.display.HTML object>"
            ]
          },
          "metadata": {},
          "output_type": "display_data"
        },
        {
          "data": {
            "text/html": [
              "<style>\n",
              "    table.wandb td:nth-child(1) { padding: 0 10px; text-align: left ; width: auto;} td:nth-child(2) {text-align: left ; width: 100%}\n",
              "    .wandb-row { display: flex; flex-direction: row; flex-wrap: wrap; justify-content: flex-start; width: 100% }\n",
              "    .wandb-col { display: flex; flex-direction: column; flex-basis: 100%; flex: 1; padding: 10px; }\n",
              "    </style>\n",
              "<div class=\"wandb-row\"><div class=\"wandb-col\"><h3>Run history:</h3><br/><table class=\"wandb\"><tr><td>train_accuracy</td><td>▁▄▅▅▆▆▇▇██</td></tr><tr><td>train_loss</td><td>█▂▁▁▁▁▁▁▁▁</td></tr><tr><td>val_accuracy</td><td>▁▆▇██▇▆▅▄▄</td></tr><tr><td>val_loss</td><td>█▃▂▁▁▂▂▃▅▅</td></tr></table><br/></div><div class=\"wandb-col\"><h3>Run summary:</h3><br/><table class=\"wandb\"><tr><td>train_accuracy</td><td>0.76605</td></tr><tr><td>train_loss</td><td>1.63598</td></tr><tr><td>val_accuracy</td><td>0.50561</td></tr><tr><td>val_loss</td><td>21.90126</td></tr></table><br/></div></div>"
            ],
            "text/plain": [
              "<IPython.core.display.HTML object>"
            ]
          },
          "metadata": {},
          "output_type": "display_data"
        },
        {
          "data": {
            "text/html": [
              "Synced <strong style=\"color:#cdcd00\">visionary-donkey-63</strong>: <a href=\"https://wandb.ai/thanh-bv/News%20Classification/runs/3gi8ysbn\" target=\"_blank\">https://wandb.ai/thanh-bv/News%20Classification/runs/3gi8ysbn</a><br/>Synced 5 W&B file(s), 0 media file(s), 0 artifact file(s) and 0 other file(s)"
            ],
            "text/plain": [
              "<IPython.core.display.HTML object>"
            ]
          },
          "metadata": {},
          "output_type": "display_data"
        },
        {
          "data": {
            "text/html": [
              "Find logs at: <code>.\\wandb\\run-20230614_184148-3gi8ysbn\\logs</code>"
            ],
            "text/plain": [
              "<IPython.core.display.HTML object>"
            ]
          },
          "metadata": {},
          "output_type": "display_data"
        },
        {
          "data": {
            "text/html": [
              "Successfully finished last run (ID:3gi8ysbn). Initializing new run:<br/>"
            ],
            "text/plain": [
              "<IPython.core.display.HTML object>"
            ]
          },
          "metadata": {},
          "output_type": "display_data"
        },
        {
          "data": {
            "text/html": [
              "wandb version 0.15.4 is available!  To upgrade, please run:\n",
              " $ pip install wandb --upgrade"
            ],
            "text/plain": [
              "<IPython.core.display.HTML object>"
            ]
          },
          "metadata": {},
          "output_type": "display_data"
        },
        {
          "data": {
            "text/html": [
              "Tracking run with wandb version 0.13.5"
            ],
            "text/plain": [
              "<IPython.core.display.HTML object>"
            ]
          },
          "metadata": {},
          "output_type": "display_data"
        },
        {
          "data": {
            "text/html": [
              "Run data is saved locally in <code>d:\\Study\\20222\\ML &DM\\Project\\20222_DMML_Project\\wandb\\run-20230614_184334-1c9523rw</code>"
            ],
            "text/plain": [
              "<IPython.core.display.HTML object>"
            ]
          },
          "metadata": {},
          "output_type": "display_data"
        },
        {
          "data": {
            "text/html": [
              "Syncing run <strong><a href=\"https://wandb.ai/thanh-bv/News%20Classification/runs/1c9523rw\" target=\"_blank\">sparkling-wave-64</a></strong> to <a href=\"https://wandb.ai/thanh-bv/News%20Classification\" target=\"_blank\">Weights & Biases</a> (<a href=\"https://wandb.me/run\" target=\"_blank\">docs</a>)<br/>"
            ],
            "text/plain": [
              "<IPython.core.display.HTML object>"
            ]
          },
          "metadata": {},
          "output_type": "display_data"
        },
        {
          "name": "stdout",
          "output_type": "stream",
          "text": [
            "403/403 [==============================] - 1s 2ms/step\n",
            "For each class: \n",
            "Accuracy:  tensor([0.0000, 0.1939, 0.2351, 0.3365, 0.0461, 0.3263, 0.4269, 0.6169, 0.1407,\n",
            "        0.6551, 0.1671, 0.0000, 0.6422, 0.0177, 0.2458, 0.2973, 0.5570, 0.1192,\n",
            "        0.0205, 0.1933, 0.1438, 0.5427, 0.2461, 0.8023, 0.5947, 0.3318, 0.2732,\n",
            "        0.4977, 0.2209, 0.7363, 0.0435, 0.2397, 0.6509, 0.0000, 0.7003, 0.1716,\n",
            "        0.6523, 0.1581, 0.1933, 0.4821])\n",
            "Precision:  tensor([0.0000, 0.3167, 0.3223, 0.3494, 0.4483, 0.4294, 0.3608, 0.7027, 0.3426,\n",
            "        0.4947, 0.3409, 0.0000, 0.5336, 0.2500, 0.3126, 0.2592, 0.5486, 0.2428,\n",
            "        0.4615, 0.3984, 0.3951, 0.4879, 0.2800, 0.6302, 0.6117, 0.4269, 0.3871,\n",
            "        0.5332, 0.3986, 0.7020, 0.2444, 0.3377, 0.6015, 0.0000, 0.7204, 0.1572,\n",
            "        0.5437, 0.1997, 0.3134, 0.4014])\n",
            "Recall:  tensor([0.0000, 0.1939, 0.2351, 0.3365, 0.0461, 0.3263, 0.4269, 0.6169, 0.1407,\n",
            "        0.6551, 0.1671, 0.0000, 0.6422, 0.0177, 0.2458, 0.2973, 0.5570, 0.1192,\n",
            "        0.0205, 0.1933, 0.1438, 0.5427, 0.2461, 0.8023, 0.5947, 0.3318, 0.2732,\n",
            "        0.4977, 0.2209, 0.7363, 0.0435, 0.2397, 0.6509, 0.0000, 0.7003, 0.1716,\n",
            "        0.6523, 0.1581, 0.1933, 0.4821])\n",
            "F1-score:  tensor([0.0000, 0.2405, 0.2719, 0.3428, 0.0836, 0.3709, 0.3911, 0.6570, 0.1995,\n",
            "        0.5637, 0.2243, 0.0000, 0.5829, 0.0331, 0.2752, 0.2769, 0.5528, 0.1599,\n",
            "        0.0392, 0.2603, 0.2109, 0.5138, 0.2619, 0.7059, 0.6031, 0.3734, 0.3204,\n",
            "        0.5148, 0.2843, 0.7187, 0.0738, 0.2804, 0.6252, 0.0000, 0.7102, 0.1641,\n",
            "        0.5931, 0.1765, 0.2391, 0.4381])\n",
            "Type:  micro\n",
            "Accuracy:  tensor(0.5124)\n",
            "Precision:  tensor(0.5124)\n",
            "Recall:  tensor(0.5124)\n",
            "F1-score:  tensor(0.5124)\n",
            "Type:  macro\n",
            "Accuracy:  tensor(0.3230)\n",
            "Precision:  tensor(0.3872)\n",
            "Recall:  tensor(0.3230)\n",
            "F1-score:  tensor(0.3333)\n",
            "Type:  weighted\n",
            "Accuracy:  tensor(0.5124)\n",
            "Precision:  tensor(0.4819)\n",
            "Recall:  tensor(0.5124)\n",
            "F1-score:  tensor(0.4869)\n",
            "Epoch 1/10\n",
            "967/967 [==============================] - 11s 10ms/step - loss: 223.4738 - categorical_accuracy: 0.3412 - val_loss: 40.8188 - val_categorical_accuracy: 0.4290\n",
            "Epoch 2/10\n",
            "967/967 [==============================] - 11s 11ms/step - loss: 29.4792 - categorical_accuracy: 0.4645 - val_loss: 20.4017 - val_categorical_accuracy: 0.5091\n",
            "Epoch 3/10\n",
            "967/967 [==============================] - 16s 17ms/step - loss: 16.6142 - categorical_accuracy: 0.5223 - val_loss: 16.7477 - val_categorical_accuracy: 0.5266\n",
            "Epoch 4/10\n",
            "426/967 [============>.................] - ETA: 4s - loss: 11.7883 - categorical_accuracy: 0.5545"
          ]
        },
        {
          "ename": "KeyboardInterrupt",
          "evalue": "",
          "output_type": "error",
          "traceback": [
            "\u001b[1;31m---------------------------------------------------------------------------\u001b[0m",
            "\u001b[1;31mKeyboardInterrupt\u001b[0m                         Traceback (most recent call last)",
            "\u001b[1;32md:\\Study\\20222\\ML &DM\\Project\\20222_DMML_Project\\ANN.ipynb Cell 60\u001b[0m in \u001b[0;36m<cell line: 5>\u001b[1;34m()\u001b[0m\n\u001b[0;32m      <a href='vscode-notebook-cell:/d%3A/Study/20222/ML%20%26DM/Project/20222_DMML_Project/ANN.ipynb#Y113sZmlsZQ%3D%3D?line=5'>6</a>\u001b[0m models \u001b[39m=\u001b[39m [ANNModel(), ANNDropout(), ANNDropout2()]\n\u001b[0;32m      <a href='vscode-notebook-cell:/d%3A/Study/20222/ML%20%26DM/Project/20222_DMML_Project/ANN.ipynb#Y113sZmlsZQ%3D%3D?line=6'>7</a>\u001b[0m \u001b[39mfor\u001b[39;00m model \u001b[39min\u001b[39;00m models:\n\u001b[1;32m----> <a href='vscode-notebook-cell:/d%3A/Study/20222/ML%20%26DM/Project/20222_DMML_Project/ANN.ipynb#Y113sZmlsZQ%3D%3D?line=7'>8</a>\u001b[0m   train(model, train_data, val_data, loss, optimizer, METRICS, epochs\u001b[39m=\u001b[39;49m\u001b[39m10\u001b[39;49m)\n\u001b[0;32m      <a href='vscode-notebook-cell:/d%3A/Study/20222/ML%20%26DM/Project/20222_DMML_Project/ANN.ipynb#Y113sZmlsZQ%3D%3D?line=8'>9</a>\u001b[0m   test(model, x_test, y_test)\n",
            "\u001b[1;32md:\\Study\\20222\\ML &DM\\Project\\20222_DMML_Project\\ANN.ipynb Cell 60\u001b[0m in \u001b[0;36mtrain\u001b[1;34m(model, train_data, val_data, loss, optimizer, metrics, epochs, batch_size, isGlove, embedding_dim, embedding_matrix)\u001b[0m\n\u001b[0;32m      <a href='vscode-notebook-cell:/d%3A/Study/20222/ML%20%26DM/Project/20222_DMML_Project/ANN.ipynb#Y113sZmlsZQ%3D%3D?line=4'>5</a>\u001b[0m model\u001b[39m.\u001b[39mcompile(loss\u001b[39m=\u001b[39mloss, optimizer\u001b[39m=\u001b[39moptimizer, metrics\u001b[39m=\u001b[39mmetrics)\n\u001b[0;32m      <a href='vscode-notebook-cell:/d%3A/Study/20222/ML%20%26DM/Project/20222_DMML_Project/ANN.ipynb#Y113sZmlsZQ%3D%3D?line=5'>6</a>\u001b[0m X_train, Y_train \u001b[39m=\u001b[39m train_data\n\u001b[1;32m----> <a href='vscode-notebook-cell:/d%3A/Study/20222/ML%20%26DM/Project/20222_DMML_Project/ANN.ipynb#Y113sZmlsZQ%3D%3D?line=6'>7</a>\u001b[0m history \u001b[39m=\u001b[39m model\u001b[39m.\u001b[39;49mfit(\n\u001b[0;32m      <a href='vscode-notebook-cell:/d%3A/Study/20222/ML%20%26DM/Project/20222_DMML_Project/ANN.ipynb#Y113sZmlsZQ%3D%3D?line=7'>8</a>\u001b[0m   x \u001b[39m=\u001b[39;49m X_train,\n\u001b[0;32m      <a href='vscode-notebook-cell:/d%3A/Study/20222/ML%20%26DM/Project/20222_DMML_Project/ANN.ipynb#Y113sZmlsZQ%3D%3D?line=8'>9</a>\u001b[0m   y \u001b[39m=\u001b[39;49m Y_train,\n\u001b[0;32m     <a href='vscode-notebook-cell:/d%3A/Study/20222/ML%20%26DM/Project/20222_DMML_Project/ANN.ipynb#Y113sZmlsZQ%3D%3D?line=9'>10</a>\u001b[0m   batch_size \u001b[39m=\u001b[39;49m batch_size,\n\u001b[0;32m     <a href='vscode-notebook-cell:/d%3A/Study/20222/ML%20%26DM/Project/20222_DMML_Project/ANN.ipynb#Y113sZmlsZQ%3D%3D?line=10'>11</a>\u001b[0m   epochs \u001b[39m=\u001b[39;49m epochs,\n\u001b[0;32m     <a href='vscode-notebook-cell:/d%3A/Study/20222/ML%20%26DM/Project/20222_DMML_Project/ANN.ipynb#Y113sZmlsZQ%3D%3D?line=11'>12</a>\u001b[0m   validation_data \u001b[39m=\u001b[39;49m val_data\n\u001b[0;32m     <a href='vscode-notebook-cell:/d%3A/Study/20222/ML%20%26DM/Project/20222_DMML_Project/ANN.ipynb#Y113sZmlsZQ%3D%3D?line=12'>13</a>\u001b[0m )\n\u001b[0;32m     <a href='vscode-notebook-cell:/d%3A/Study/20222/ML%20%26DM/Project/20222_DMML_Project/ANN.ipynb#Y113sZmlsZQ%3D%3D?line=13'>14</a>\u001b[0m log(history, epochs)\n",
            "File \u001b[1;32m~\\AppData\\Roaming\\Python\\Python310\\site-packages\\keras\\utils\\traceback_utils.py:65\u001b[0m, in \u001b[0;36mfilter_traceback.<locals>.error_handler\u001b[1;34m(*args, **kwargs)\u001b[0m\n\u001b[0;32m     63\u001b[0m filtered_tb \u001b[39m=\u001b[39m \u001b[39mNone\u001b[39;00m\n\u001b[0;32m     64\u001b[0m \u001b[39mtry\u001b[39;00m:\n\u001b[1;32m---> 65\u001b[0m     \u001b[39mreturn\u001b[39;00m fn(\u001b[39m*\u001b[39margs, \u001b[39m*\u001b[39m\u001b[39m*\u001b[39mkwargs)\n\u001b[0;32m     66\u001b[0m \u001b[39mexcept\u001b[39;00m \u001b[39mException\u001b[39;00m \u001b[39mas\u001b[39;00m e:\n\u001b[0;32m     67\u001b[0m     filtered_tb \u001b[39m=\u001b[39m _process_traceback_frames(e\u001b[39m.\u001b[39m__traceback__)\n",
            "File \u001b[1;32m~\\AppData\\Roaming\\Python\\Python310\\site-packages\\keras\\engine\\training.py:1564\u001b[0m, in \u001b[0;36mModel.fit\u001b[1;34m(self, x, y, batch_size, epochs, verbose, callbacks, validation_split, validation_data, shuffle, class_weight, sample_weight, initial_epoch, steps_per_epoch, validation_steps, validation_batch_size, validation_freq, max_queue_size, workers, use_multiprocessing)\u001b[0m\n\u001b[0;32m   1556\u001b[0m \u001b[39mwith\u001b[39;00m tf\u001b[39m.\u001b[39mprofiler\u001b[39m.\u001b[39mexperimental\u001b[39m.\u001b[39mTrace(\n\u001b[0;32m   1557\u001b[0m     \u001b[39m\"\u001b[39m\u001b[39mtrain\u001b[39m\u001b[39m\"\u001b[39m,\n\u001b[0;32m   1558\u001b[0m     epoch_num\u001b[39m=\u001b[39mepoch,\n\u001b[1;32m   (...)\u001b[0m\n\u001b[0;32m   1561\u001b[0m     _r\u001b[39m=\u001b[39m\u001b[39m1\u001b[39m,\n\u001b[0;32m   1562\u001b[0m ):\n\u001b[0;32m   1563\u001b[0m     callbacks\u001b[39m.\u001b[39mon_train_batch_begin(step)\n\u001b[1;32m-> 1564\u001b[0m     tmp_logs \u001b[39m=\u001b[39m \u001b[39mself\u001b[39;49m\u001b[39m.\u001b[39;49mtrain_function(iterator)\n\u001b[0;32m   1565\u001b[0m     \u001b[39mif\u001b[39;00m data_handler\u001b[39m.\u001b[39mshould_sync:\n\u001b[0;32m   1566\u001b[0m         context\u001b[39m.\u001b[39masync_wait()\n",
            "File \u001b[1;32m~\\AppData\\Roaming\\Python\\Python310\\site-packages\\tensorflow\\python\\util\\traceback_utils.py:150\u001b[0m, in \u001b[0;36mfilter_traceback.<locals>.error_handler\u001b[1;34m(*args, **kwargs)\u001b[0m\n\u001b[0;32m    148\u001b[0m filtered_tb \u001b[39m=\u001b[39m \u001b[39mNone\u001b[39;00m\n\u001b[0;32m    149\u001b[0m \u001b[39mtry\u001b[39;00m:\n\u001b[1;32m--> 150\u001b[0m   \u001b[39mreturn\u001b[39;00m fn(\u001b[39m*\u001b[39margs, \u001b[39m*\u001b[39m\u001b[39m*\u001b[39mkwargs)\n\u001b[0;32m    151\u001b[0m \u001b[39mexcept\u001b[39;00m \u001b[39mException\u001b[39;00m \u001b[39mas\u001b[39;00m e:\n\u001b[0;32m    152\u001b[0m   filtered_tb \u001b[39m=\u001b[39m _process_traceback_frames(e\u001b[39m.\u001b[39m__traceback__)\n",
            "File \u001b[1;32m~\\AppData\\Roaming\\Python\\Python310\\site-packages\\tensorflow\\python\\eager\\def_function.py:915\u001b[0m, in \u001b[0;36mFunction.__call__\u001b[1;34m(self, *args, **kwds)\u001b[0m\n\u001b[0;32m    912\u001b[0m compiler \u001b[39m=\u001b[39m \u001b[39m\"\u001b[39m\u001b[39mxla\u001b[39m\u001b[39m\"\u001b[39m \u001b[39mif\u001b[39;00m \u001b[39mself\u001b[39m\u001b[39m.\u001b[39m_jit_compile \u001b[39melse\u001b[39;00m \u001b[39m\"\u001b[39m\u001b[39mnonXla\u001b[39m\u001b[39m\"\u001b[39m\n\u001b[0;32m    914\u001b[0m \u001b[39mwith\u001b[39;00m OptionalXlaContext(\u001b[39mself\u001b[39m\u001b[39m.\u001b[39m_jit_compile):\n\u001b[1;32m--> 915\u001b[0m   result \u001b[39m=\u001b[39m \u001b[39mself\u001b[39m\u001b[39m.\u001b[39m_call(\u001b[39m*\u001b[39margs, \u001b[39m*\u001b[39m\u001b[39m*\u001b[39mkwds)\n\u001b[0;32m    917\u001b[0m new_tracing_count \u001b[39m=\u001b[39m \u001b[39mself\u001b[39m\u001b[39m.\u001b[39mexperimental_get_tracing_count()\n\u001b[0;32m    918\u001b[0m without_tracing \u001b[39m=\u001b[39m (tracing_count \u001b[39m==\u001b[39m new_tracing_count)\n",
            "File \u001b[1;32m~\\AppData\\Roaming\\Python\\Python310\\site-packages\\tensorflow\\python\\eager\\def_function.py:947\u001b[0m, in \u001b[0;36mFunction._call\u001b[1;34m(self, *args, **kwds)\u001b[0m\n\u001b[0;32m    944\u001b[0m   \u001b[39mself\u001b[39m\u001b[39m.\u001b[39m_lock\u001b[39m.\u001b[39mrelease()\n\u001b[0;32m    945\u001b[0m   \u001b[39m# In this case we have created variables on the first call, so we run the\u001b[39;00m\n\u001b[0;32m    946\u001b[0m   \u001b[39m# defunned version which is guaranteed to never create variables.\u001b[39;00m\n\u001b[1;32m--> 947\u001b[0m   \u001b[39mreturn\u001b[39;00m \u001b[39mself\u001b[39m\u001b[39m.\u001b[39m_stateless_fn(\u001b[39m*\u001b[39margs, \u001b[39m*\u001b[39m\u001b[39m*\u001b[39mkwds)  \u001b[39m# pylint: disable=not-callable\u001b[39;00m\n\u001b[0;32m    948\u001b[0m \u001b[39melif\u001b[39;00m \u001b[39mself\u001b[39m\u001b[39m.\u001b[39m_stateful_fn \u001b[39mis\u001b[39;00m \u001b[39mnot\u001b[39;00m \u001b[39mNone\u001b[39;00m:\n\u001b[0;32m    949\u001b[0m   \u001b[39m# Release the lock early so that multiple threads can perform the call\u001b[39;00m\n\u001b[0;32m    950\u001b[0m   \u001b[39m# in parallel.\u001b[39;00m\n\u001b[0;32m    951\u001b[0m   \u001b[39mself\u001b[39m\u001b[39m.\u001b[39m_lock\u001b[39m.\u001b[39mrelease()\n",
            "File \u001b[1;32m~\\AppData\\Roaming\\Python\\Python310\\site-packages\\tensorflow\\python\\eager\\function.py:2496\u001b[0m, in \u001b[0;36mFunction.__call__\u001b[1;34m(self, *args, **kwargs)\u001b[0m\n\u001b[0;32m   2493\u001b[0m \u001b[39mwith\u001b[39;00m \u001b[39mself\u001b[39m\u001b[39m.\u001b[39m_lock:\n\u001b[0;32m   2494\u001b[0m   (graph_function,\n\u001b[0;32m   2495\u001b[0m    filtered_flat_args) \u001b[39m=\u001b[39m \u001b[39mself\u001b[39m\u001b[39m.\u001b[39m_maybe_define_function(args, kwargs)\n\u001b[1;32m-> 2496\u001b[0m \u001b[39mreturn\u001b[39;00m graph_function\u001b[39m.\u001b[39;49m_call_flat(\n\u001b[0;32m   2497\u001b[0m     filtered_flat_args, captured_inputs\u001b[39m=\u001b[39;49mgraph_function\u001b[39m.\u001b[39;49mcaptured_inputs)\n",
            "File \u001b[1;32m~\\AppData\\Roaming\\Python\\Python310\\site-packages\\tensorflow\\python\\eager\\function.py:1862\u001b[0m, in \u001b[0;36mConcreteFunction._call_flat\u001b[1;34m(self, args, captured_inputs, cancellation_manager)\u001b[0m\n\u001b[0;32m   1858\u001b[0m possible_gradient_type \u001b[39m=\u001b[39m gradients_util\u001b[39m.\u001b[39mPossibleTapeGradientTypes(args)\n\u001b[0;32m   1859\u001b[0m \u001b[39mif\u001b[39;00m (possible_gradient_type \u001b[39m==\u001b[39m gradients_util\u001b[39m.\u001b[39mPOSSIBLE_GRADIENT_TYPES_NONE\n\u001b[0;32m   1860\u001b[0m     \u001b[39mand\u001b[39;00m executing_eagerly):\n\u001b[0;32m   1861\u001b[0m   \u001b[39m# No tape is watching; skip to running the function.\u001b[39;00m\n\u001b[1;32m-> 1862\u001b[0m   \u001b[39mreturn\u001b[39;00m \u001b[39mself\u001b[39m\u001b[39m.\u001b[39m_build_call_outputs(\u001b[39mself\u001b[39;49m\u001b[39m.\u001b[39;49m_inference_function\u001b[39m.\u001b[39;49mcall(\n\u001b[0;32m   1863\u001b[0m       ctx, args, cancellation_manager\u001b[39m=\u001b[39;49mcancellation_manager))\n\u001b[0;32m   1864\u001b[0m forward_backward \u001b[39m=\u001b[39m \u001b[39mself\u001b[39m\u001b[39m.\u001b[39m_select_forward_and_backward_functions(\n\u001b[0;32m   1865\u001b[0m     args,\n\u001b[0;32m   1866\u001b[0m     possible_gradient_type,\n\u001b[0;32m   1867\u001b[0m     executing_eagerly)\n\u001b[0;32m   1868\u001b[0m forward_function, args_with_tangents \u001b[39m=\u001b[39m forward_backward\u001b[39m.\u001b[39mforward()\n",
            "File \u001b[1;32m~\\AppData\\Roaming\\Python\\Python310\\site-packages\\tensorflow\\python\\eager\\function.py:499\u001b[0m, in \u001b[0;36m_EagerDefinedFunction.call\u001b[1;34m(self, ctx, args, cancellation_manager)\u001b[0m\n\u001b[0;32m    497\u001b[0m \u001b[39mwith\u001b[39;00m _InterpolateFunctionError(\u001b[39mself\u001b[39m):\n\u001b[0;32m    498\u001b[0m   \u001b[39mif\u001b[39;00m cancellation_manager \u001b[39mis\u001b[39;00m \u001b[39mNone\u001b[39;00m:\n\u001b[1;32m--> 499\u001b[0m     outputs \u001b[39m=\u001b[39m execute\u001b[39m.\u001b[39;49mexecute(\n\u001b[0;32m    500\u001b[0m         \u001b[39mstr\u001b[39;49m(\u001b[39mself\u001b[39;49m\u001b[39m.\u001b[39;49msignature\u001b[39m.\u001b[39;49mname),\n\u001b[0;32m    501\u001b[0m         num_outputs\u001b[39m=\u001b[39;49m\u001b[39mself\u001b[39;49m\u001b[39m.\u001b[39;49m_num_outputs,\n\u001b[0;32m    502\u001b[0m         inputs\u001b[39m=\u001b[39;49margs,\n\u001b[0;32m    503\u001b[0m         attrs\u001b[39m=\u001b[39;49mattrs,\n\u001b[0;32m    504\u001b[0m         ctx\u001b[39m=\u001b[39;49mctx)\n\u001b[0;32m    505\u001b[0m   \u001b[39melse\u001b[39;00m:\n\u001b[0;32m    506\u001b[0m     outputs \u001b[39m=\u001b[39m execute\u001b[39m.\u001b[39mexecute_with_cancellation(\n\u001b[0;32m    507\u001b[0m         \u001b[39mstr\u001b[39m(\u001b[39mself\u001b[39m\u001b[39m.\u001b[39msignature\u001b[39m.\u001b[39mname),\n\u001b[0;32m    508\u001b[0m         num_outputs\u001b[39m=\u001b[39m\u001b[39mself\u001b[39m\u001b[39m.\u001b[39m_num_outputs,\n\u001b[1;32m   (...)\u001b[0m\n\u001b[0;32m    511\u001b[0m         ctx\u001b[39m=\u001b[39mctx,\n\u001b[0;32m    512\u001b[0m         cancellation_manager\u001b[39m=\u001b[39mcancellation_manager)\n",
            "File \u001b[1;32m~\\AppData\\Roaming\\Python\\Python310\\site-packages\\tensorflow\\python\\eager\\execute.py:54\u001b[0m, in \u001b[0;36mquick_execute\u001b[1;34m(op_name, num_outputs, inputs, attrs, ctx, name)\u001b[0m\n\u001b[0;32m     52\u001b[0m \u001b[39mtry\u001b[39;00m:\n\u001b[0;32m     53\u001b[0m   ctx\u001b[39m.\u001b[39mensure_initialized()\n\u001b[1;32m---> 54\u001b[0m   tensors \u001b[39m=\u001b[39m pywrap_tfe\u001b[39m.\u001b[39;49mTFE_Py_Execute(ctx\u001b[39m.\u001b[39;49m_handle, device_name, op_name,\n\u001b[0;32m     55\u001b[0m                                       inputs, attrs, num_outputs)\n\u001b[0;32m     56\u001b[0m \u001b[39mexcept\u001b[39;00m core\u001b[39m.\u001b[39m_NotOkStatusException \u001b[39mas\u001b[39;00m e:\n\u001b[0;32m     57\u001b[0m   \u001b[39mif\u001b[39;00m name \u001b[39mis\u001b[39;00m \u001b[39mnot\u001b[39;00m \u001b[39mNone\u001b[39;00m:\n",
            "\u001b[1;31mKeyboardInterrupt\u001b[0m: "
          ]
        }
      ],
      "source": [
        "train_data = (x_train, y_train)\n",
        "val_data = (x_val, y_val)\n",
        "optimizer = 'Adam'\n",
        "losses = [tf.keras.losses.CategoricalCrossentropy(), FocalLoss()]\n",
        "for loss in losses:\n",
        "  models = [ANNModel(), ANNDropout(), ANNDropout2()]\n",
        "  for model in models:\n",
        "    train(model, train_data, val_data, loss, optimizer, METRICS, epochs=10)\n",
        "    test(model, x_test, y_test)\n",
        "\n",
        "# for loss in losses:\n",
        "#   modelsGloVe = [ANNModel(output_dim=embedding_dim), ANNDropout(output_dim=embedding_dim), ANNDropout2(output_dim=embedding_dim)]\n",
        "#     train(model, train_data, val_data, loss, optimizer, METRICS, isGlove=True, embedding_dim=embedding_dim, embedding_matrix=embedding_matrix)\n",
        "#     test(model, x_test, y_test)"
      ]
    },
    {
      "attachments": {},
      "cell_type": "markdown",
      "metadata": {
        "id": "Gv4dYA6ffH4g",
        "papermill": {
          "duration": 0.044713,
          "end_time": "2021-01-16T09:09:50.482610",
          "exception": false,
          "start_time": "2021-01-16T09:09:50.437897",
          "status": "completed"
        },
        "tags": []
      },
      "source": [
        "### 5.2 Balannced data"
      ]
    },
    {
      "cell_type": "code",
      "execution_count": 108,
      "metadata": {
        "id": "Pz0scfudKyBq"
      },
      "outputs": [],
      "source": [
        "data = pd.read_json('./News_Category_Dataset_v3.json',lines=True) # lines for avoid the trailing error"
      ]
    },
    {
      "cell_type": "code",
      "execution_count": 109,
      "metadata": {
        "colab": {
          "base_uri": "https://localhost:8080/",
          "height": 510
        },
        "id": "VyRkH6LSLBzO",
        "outputId": "52cbf255-96e8-4fd6-ed17-0ecf9d526f8f"
      },
      "outputs": [
        {
          "data": {
            "text/html": [
              "<div>\n",
              "<style scoped>\n",
              "    .dataframe tbody tr th:only-of-type {\n",
              "        vertical-align: middle;\n",
              "    }\n",
              "\n",
              "    .dataframe tbody tr th {\n",
              "        vertical-align: top;\n",
              "    }\n",
              "\n",
              "    .dataframe thead th {\n",
              "        text-align: right;\n",
              "    }\n",
              "</style>\n",
              "<table border=\"1\" class=\"dataframe\">\n",
              "  <thead>\n",
              "    <tr style=\"text-align: right;\">\n",
              "      <th></th>\n",
              "      <th>link</th>\n",
              "      <th>headline</th>\n",
              "      <th>category</th>\n",
              "      <th>short_description</th>\n",
              "      <th>authors</th>\n",
              "      <th>date</th>\n",
              "    </tr>\n",
              "  </thead>\n",
              "  <tbody>\n",
              "    <tr>\n",
              "      <th>0</th>\n",
              "      <td>https://www.huffpost.com/entry/covid-boosters-uptake-us_n_632d719ee4b087fae6feaac9</td>\n",
              "      <td>Over 4 Million Americans Roll Up Sleeves For Omicron-Targeted COVID Boosters</td>\n",
              "      <td>U.S. NEWS</td>\n",
              "      <td>Health experts said it is too early to predict whether demand would match up with the 171 million doses of the new boosters the U.S. ordered for the fall.</td>\n",
              "      <td>Carla K. Johnson, AP</td>\n",
              "      <td>2022-09-23</td>\n",
              "    </tr>\n",
              "    <tr>\n",
              "      <th>1</th>\n",
              "      <td>https://www.huffpost.com/entry/american-airlines-passenger-banned-flight-attendant-punch-justice-department_n_632e25d3e4b0e247890329fe</td>\n",
              "      <td>American Airlines Flyer Charged, Banned For Life After Punching Flight Attendant On Video</td>\n",
              "      <td>U.S. NEWS</td>\n",
              "      <td>He was subdued by passengers and crew when he fled to the back of the aircraft after the confrontation, according to the U.S. attorney's office in Los Angeles.</td>\n",
              "      <td>Mary Papenfuss</td>\n",
              "      <td>2022-09-23</td>\n",
              "    </tr>\n",
              "    <tr>\n",
              "      <th>2</th>\n",
              "      <td>https://www.huffpost.com/entry/funniest-tweets-cats-dogs-september-17-23_n_632de332e4b0695c1d81dc02</td>\n",
              "      <td>23 Of The Funniest Tweets About Cats And Dogs This Week (Sept. 17-23)</td>\n",
              "      <td>COMEDY</td>\n",
              "      <td>\"Until you have a dog you don't understand what could be eaten.\"</td>\n",
              "      <td>Elyse Wanshel</td>\n",
              "      <td>2022-09-23</td>\n",
              "    </tr>\n",
              "    <tr>\n",
              "      <th>3</th>\n",
              "      <td>https://www.huffpost.com/entry/funniest-parenting-tweets_l_632d7d15e4b0d12b5403e479</td>\n",
              "      <td>The Funniest Tweets From Parents This Week (Sept. 17-23)</td>\n",
              "      <td>PARENTING</td>\n",
              "      <td>\"Accidentally put grown-up toothpaste on my toddler’s toothbrush and he screamed like I was cleaning his teeth with a Carolina Reaper dipped in Tabasco sauce.\"</td>\n",
              "      <td>Caroline Bologna</td>\n",
              "      <td>2022-09-23</td>\n",
              "    </tr>\n",
              "    <tr>\n",
              "      <th>4</th>\n",
              "      <td>https://www.huffpost.com/entry/amy-cooper-loses-discrimination-lawsuit-franklin-templeton_n_632c6463e4b09d8701bd227e</td>\n",
              "      <td>Woman Who Called Cops On Black Bird-Watcher Loses Lawsuit Against Ex-Employer</td>\n",
              "      <td>U.S. NEWS</td>\n",
              "      <td>Amy Cooper accused investment firm Franklin Templeton of unfairly firing her and branding her a racist after video of the Central Park encounter went viral.</td>\n",
              "      <td>Nina Golgowski</td>\n",
              "      <td>2022-09-22</td>\n",
              "    </tr>\n",
              "  </tbody>\n",
              "</table>\n",
              "</div>"
            ],
            "text/plain": [
              "                                                                                                                                     link  \\\n",
              "0                                                      https://www.huffpost.com/entry/covid-boosters-uptake-us_n_632d719ee4b087fae6feaac9   \n",
              "1  https://www.huffpost.com/entry/american-airlines-passenger-banned-flight-attendant-punch-justice-department_n_632e25d3e4b0e247890329fe   \n",
              "2                                     https://www.huffpost.com/entry/funniest-tweets-cats-dogs-september-17-23_n_632de332e4b0695c1d81dc02   \n",
              "3                                                     https://www.huffpost.com/entry/funniest-parenting-tweets_l_632d7d15e4b0d12b5403e479   \n",
              "4                    https://www.huffpost.com/entry/amy-cooper-loses-discrimination-lawsuit-franklin-templeton_n_632c6463e4b09d8701bd227e   \n",
              "\n",
              "                                                                                    headline  \\\n",
              "0               Over 4 Million Americans Roll Up Sleeves For Omicron-Targeted COVID Boosters   \n",
              "1  American Airlines Flyer Charged, Banned For Life After Punching Flight Attendant On Video   \n",
              "2                      23 Of The Funniest Tweets About Cats And Dogs This Week (Sept. 17-23)   \n",
              "3                                   The Funniest Tweets From Parents This Week (Sept. 17-23)   \n",
              "4              Woman Who Called Cops On Black Bird-Watcher Loses Lawsuit Against Ex-Employer   \n",
              "\n",
              "    category  \\\n",
              "0  U.S. NEWS   \n",
              "1  U.S. NEWS   \n",
              "2     COMEDY   \n",
              "3  PARENTING   \n",
              "4  U.S. NEWS   \n",
              "\n",
              "                                                                                                                                                 short_description  \\\n",
              "0       Health experts said it is too early to predict whether demand would match up with the 171 million doses of the new boosters the U.S. ordered for the fall.   \n",
              "1  He was subdued by passengers and crew when he fled to the back of the aircraft after the confrontation, according to the U.S. attorney's office in Los Angeles.   \n",
              "2                                                                                                 \"Until you have a dog you don't understand what could be eaten.\"   \n",
              "3  \"Accidentally put grown-up toothpaste on my toddler’s toothbrush and he screamed like I was cleaning his teeth with a Carolina Reaper dipped in Tabasco sauce.\"   \n",
              "4     Amy Cooper accused investment firm Franklin Templeton of unfairly firing her and branding her a racist after video of the Central Park encounter went viral.   \n",
              "\n",
              "                authors       date  \n",
              "0  Carla K. Johnson, AP 2022-09-23  \n",
              "1        Mary Papenfuss 2022-09-23  \n",
              "2         Elyse Wanshel 2022-09-23  \n",
              "3      Caroline Bologna 2022-09-23  \n",
              "4        Nina Golgowski 2022-09-22  "
            ]
          },
          "execution_count": 109,
          "metadata": {},
          "output_type": "execute_result"
        }
      ],
      "source": [
        "data.head()"
      ]
    },
    {
      "cell_type": "code",
      "execution_count": 110,
      "metadata": {
        "colab": {
          "base_uri": "https://localhost:8080/"
        },
        "execution": {
          "iopub.execute_input": "2021-01-16T09:09:50.587831Z",
          "iopub.status.busy": "2021-01-16T09:09:50.587030Z",
          "iopub.status.idle": "2021-01-16T09:09:50.877563Z",
          "shell.execute_reply": "2021-01-16T09:09:50.877999Z"
        },
        "id": "MOhoz4_efH4h",
        "outputId": "ba3d8bdc-f79e-4d32-c421-0a62d54fa76f",
        "papermill": {
          "duration": 0.351123,
          "end_time": "2021-01-16T09:09:50.878117",
          "exception": false,
          "start_time": "2021-01-16T09:09:50.526994",
          "status": "completed"
        },
        "tags": []
      },
      "outputs": [
        {
          "data": {
            "text/plain": [
              "13"
            ]
          },
          "execution_count": 110,
          "metadata": {},
          "output_type": "execute_result"
        }
      ],
      "source": [
        "#delete the dublicate values\n",
        "data.duplicated().sum() # count the total duplicate samples"
      ]
    },
    {
      "cell_type": "code",
      "execution_count": 111,
      "metadata": {
        "execution": {
          "iopub.execute_input": "2021-01-16T09:09:50.987195Z",
          "iopub.status.busy": "2021-01-16T09:09:50.986426Z",
          "iopub.status.idle": "2021-01-16T09:09:51.278752Z",
          "shell.execute_reply": "2021-01-16T09:09:51.278261Z"
        },
        "id": "5DL7FO6MfH4h",
        "papermill": {
          "duration": 0.354077,
          "end_time": "2021-01-16T09:09:51.278847",
          "exception": false,
          "start_time": "2021-01-16T09:09:50.924770",
          "status": "completed"
        },
        "tags": []
      },
      "outputs": [],
      "source": [
        "data.drop_duplicates(keep='last',inplace=True)"
      ]
    },
    {
      "cell_type": "code",
      "execution_count": 112,
      "metadata": {
        "colab": {
          "base_uri": "https://localhost:8080/"
        },
        "execution": {
          "iopub.execute_input": "2021-01-16T09:09:51.384689Z",
          "iopub.status.busy": "2021-01-16T09:09:51.383883Z",
          "iopub.status.idle": "2021-01-16T09:09:51.565270Z",
          "shell.execute_reply": "2021-01-16T09:09:51.565697Z"
        },
        "id": "8esDgjwUfH4i",
        "outputId": "a9a702e1-0c7c-4b1f-f637-c7d26c29c8a1",
        "papermill": {
          "duration": 0.241215,
          "end_time": "2021-01-16T09:09:51.565818",
          "exception": false,
          "start_time": "2021-01-16T09:09:51.324603",
          "status": "completed"
        },
        "tags": []
      },
      "outputs": [
        {
          "data": {
            "text/plain": [
              "476"
            ]
          },
          "execution_count": 112,
          "metadata": {},
          "output_type": "execute_result"
        }
      ],
      "source": [
        "#there can be dublicate of author names so check for the dublicate headline and short discription\n",
        "data.duplicated(subset=['headline', 'short_description']).sum()"
      ]
    },
    {
      "cell_type": "code",
      "execution_count": 113,
      "metadata": {
        "execution": {
          "iopub.execute_input": "2021-01-16T09:09:51.671006Z",
          "iopub.status.busy": "2021-01-16T09:09:51.670484Z",
          "iopub.status.idle": "2021-01-16T09:09:51.881931Z",
          "shell.execute_reply": "2021-01-16T09:09:51.881380Z"
        },
        "id": "uG1qqhd5fH4i",
        "papermill": {
          "duration": 0.270588,
          "end_time": "2021-01-16T09:09:51.882061",
          "exception": false,
          "start_time": "2021-01-16T09:09:51.611473",
          "status": "completed"
        },
        "tags": []
      },
      "outputs": [],
      "source": [
        "data.drop_duplicates(subset=['headline', 'short_description'],inplace=True,keep='last')"
      ]
    },
    {
      "cell_type": "code",
      "execution_count": 114,
      "metadata": {
        "colab": {
          "base_uri": "https://localhost:8080/"
        },
        "execution": {
          "iopub.execute_input": "2021-01-16T09:09:51.981494Z",
          "iopub.status.busy": "2021-01-16T09:09:51.980813Z",
          "iopub.status.idle": "2021-01-16T09:09:51.984827Z",
          "shell.execute_reply": "2021-01-16T09:09:51.985627Z"
        },
        "id": "kbosRgXbfH4i",
        "outputId": "745163f7-9285-48ad-e367-154951295d7a",
        "papermill": {
          "duration": 0.055239,
          "end_time": "2021-01-16T09:09:51.985784",
          "exception": false,
          "start_time": "2021-01-16T09:09:51.930545",
          "status": "completed"
        },
        "tags": []
      },
      "outputs": [
        {
          "name": "stdout",
          "output_type": "stream",
          "text": [
            "THe length of the datset after dublicate deletion------> (209038, 6)\n"
          ]
        }
      ],
      "source": [
        "print(\"THe length of the datset after dublicate deletion------>\",data.shape)"
      ]
    },
    {
      "cell_type": "markdown",
      "metadata": {
        "id": "Wng7rtiZfH4i",
        "papermill": {
          "duration": 0.047583,
          "end_time": "2021-01-16T09:09:52.081126",
          "exception": false,
          "start_time": "2021-01-16T09:09:52.033543",
          "status": "completed"
        },
        "tags": []
      },
      "source": [
        "#### Handling null values"
      ]
    },
    {
      "cell_type": "code",
      "execution_count": 115,
      "metadata": {
        "colab": {
          "base_uri": "https://localhost:8080/"
        },
        "execution": {
          "iopub.execute_input": "2021-01-16T09:09:52.283690Z",
          "iopub.status.busy": "2021-01-16T09:09:52.282863Z",
          "iopub.status.idle": "2021-01-16T09:09:52.290102Z",
          "shell.execute_reply": "2021-01-16T09:09:52.289634Z"
        },
        "id": "XuNmeFA5fH4j",
        "outputId": "828976e6-1f06-4e43-dc99-d17f0984b16e",
        "papermill": {
          "duration": 0.157647,
          "end_time": "2021-01-16T09:09:52.290193",
          "exception": false,
          "start_time": "2021-01-16T09:09:52.132546",
          "status": "completed"
        },
        "tags": []
      },
      "outputs": [
        {
          "data": {
            "text/plain": [
              "link                 0\n",
              "headline             0\n",
              "category             0\n",
              "short_description    0\n",
              "authors              0\n",
              "date                 0\n",
              "dtype: int64"
            ]
          },
          "execution_count": 115,
          "metadata": {},
          "output_type": "execute_result"
        }
      ],
      "source": [
        "data.isnull().sum()"
      ]
    },
    {
      "cell_type": "code",
      "execution_count": 116,
      "metadata": {
        "colab": {
          "base_uri": "https://localhost:8080/",
          "height": 260
        },
        "execution": {
          "iopub.execute_input": "2021-01-16T09:09:52.417572Z",
          "iopub.status.busy": "2021-01-16T09:09:52.416591Z",
          "iopub.status.idle": "2021-01-16T09:09:52.426360Z",
          "shell.execute_reply": "2021-01-16T09:09:52.425932Z"
        },
        "id": "h85kC8GvfH4j",
        "outputId": "1e9bc291-b023-4f90-f8f4-649ccf2a4f15",
        "papermill": {
          "duration": 0.089078,
          "end_time": "2021-01-16T09:09:52.426450",
          "exception": false,
          "start_time": "2021-01-16T09:09:52.337372",
          "status": "completed"
        },
        "tags": []
      },
      "outputs": [
        {
          "data": {
            "text/html": [
              "<div>\n",
              "<style scoped>\n",
              "    .dataframe tbody tr th:only-of-type {\n",
              "        vertical-align: middle;\n",
              "    }\n",
              "\n",
              "    .dataframe tbody tr th {\n",
              "        vertical-align: top;\n",
              "    }\n",
              "\n",
              "    .dataframe thead th {\n",
              "        text-align: right;\n",
              "    }\n",
              "</style>\n",
              "<table border=\"1\" class=\"dataframe\">\n",
              "  <thead>\n",
              "    <tr style=\"text-align: right;\">\n",
              "      <th></th>\n",
              "      <th>link</th>\n",
              "      <th>headline</th>\n",
              "      <th>category</th>\n",
              "      <th>short_description</th>\n",
              "      <th>authors</th>\n",
              "      <th>date</th>\n",
              "    </tr>\n",
              "  </thead>\n",
              "  <tbody>\n",
              "    <tr>\n",
              "      <th>95567</th>\n",
              "      <td>https://www.huffingtonpost.com/entry/post_9671_b_7683632.html</td>\n",
              "      <td></td>\n",
              "      <td>RELIGION</td>\n",
              "      <td>Let everyone not wrapped in tired and disproven doctrines about sex rid themselves of anti-scientific dogmas and be free. The law of grace, not of fear, can now blow freely.</td>\n",
              "      <td>Matthew Fox, ContributorRadical theologian Matthew Fox is the author of more than 30 b...</td>\n",
              "      <td>2015-06-30</td>\n",
              "    </tr>\n",
              "    <tr>\n",
              "      <th>122145</th>\n",
              "      <td>https://www.huffingtonpost.com/entry/beverly-hills-hotel-boyco_b_5711931.html</td>\n",
              "      <td></td>\n",
              "      <td>QUEER VOICES</td>\n",
              "      <td></td>\n",
              "      <td>Gary Snyder, ContributorWriter and Media Strategist</td>\n",
              "      <td>2014-08-28</td>\n",
              "    </tr>\n",
              "  </tbody>\n",
              "</table>\n",
              "</div>"
            ],
            "text/plain": [
              "                                                                                 link  \\\n",
              "95567                   https://www.huffingtonpost.com/entry/post_9671_b_7683632.html   \n",
              "122145  https://www.huffingtonpost.com/entry/beverly-hills-hotel-boyco_b_5711931.html   \n",
              "\n",
              "       headline      category  \\\n",
              "95567                RELIGION   \n",
              "122145           QUEER VOICES   \n",
              "\n",
              "                                                                                                                                                                    short_description  \\\n",
              "95567   Let everyone not wrapped in tired and disproven doctrines about sex rid themselves of anti-scientific dogmas and be free. The law of grace, not of fear, can now blow freely.   \n",
              "122145                                                                                                                                                                                  \n",
              "\n",
              "                                                                                          authors  \\\n",
              "95567   Matthew Fox, ContributorRadical theologian Matthew Fox is the author of more than 30 b...   \n",
              "122145                                        Gary Snyder, ContributorWriter and Media Strategist   \n",
              "\n",
              "             date  \n",
              "95567  2015-06-30  \n",
              "122145 2014-08-28  "
            ]
          },
          "execution_count": 116,
          "metadata": {},
          "output_type": "execute_result"
        }
      ],
      "source": [
        "# there is no null value instead of null they are blank so we need to check for the blank placess and delete that\n",
        "data[data['headline'] == '']"
      ]
    },
    {
      "cell_type": "code",
      "execution_count": 117,
      "metadata": {
        "colab": {
          "base_uri": "https://localhost:8080/"
        },
        "execution": {
          "iopub.execute_input": "2021-01-16T09:09:52.555619Z",
          "iopub.status.busy": "2021-01-16T09:09:52.554321Z",
          "iopub.status.idle": "2021-01-16T09:09:52.590927Z",
          "shell.execute_reply": "2021-01-16T09:09:52.591361Z"
        },
        "id": "NPmqlHNPfH4j",
        "outputId": "7ee40fd8-48e2-48c7-aad7-6f2329e47312",
        "papermill": {
          "duration": 0.117895,
          "end_time": "2021-01-16T09:09:52.591476",
          "exception": false,
          "start_time": "2021-01-16T09:09:52.473581",
          "status": "completed"
        },
        "tags": []
      },
      "outputs": [
        {
          "name": "stdout",
          "output_type": "stream",
          "text": [
            "THe length of the datset ------> (209036, 6)\n"
          ]
        }
      ],
      "source": [
        "# drop the blank values\n",
        "headline_blank = data['headline'] == ''\n",
        "data = data[~headline_blank]\n",
        "print(\"THe length of the datset ------>\",data.shape)"
      ]
    },
    {
      "cell_type": "code",
      "execution_count": 118,
      "metadata": {
        "colab": {
          "base_uri": "https://localhost:8080/"
        },
        "execution": {
          "iopub.execute_input": "2021-01-16T09:09:52.724952Z",
          "iopub.status.busy": "2021-01-16T09:09:52.724262Z",
          "iopub.status.idle": "2021-01-16T09:09:52.762515Z",
          "shell.execute_reply": "2021-01-16T09:09:52.762096Z"
        },
        "id": "5F79xd04fH4k",
        "outputId": "4354a665-367c-4a8a-f0d9-611da052091f",
        "papermill": {
          "duration": 0.122484,
          "end_time": "2021-01-16T09:09:52.762620",
          "exception": false,
          "start_time": "2021-01-16T09:09:52.640136",
          "status": "completed"
        },
        "tags": []
      },
      "outputs": [
        {
          "name": "stdout",
          "output_type": "stream",
          "text": [
            "the lenth of the blank description samples-----> 19610\n",
            "THe length of the datset ----------------------> (189426, 6)\n"
          ]
        }
      ],
      "source": [
        "#drop the blank short describtion column\n",
        "description_blank = data['short_description']==''\n",
        "print(\"the lenth of the blank description samples----->\",len(data[description_blank]))\n",
        "data = data[~description_blank]\n",
        "print(\"THe length of the datset ---------------------->\",data.shape)"
      ]
    },
    {
      "cell_type": "code",
      "execution_count": 119,
      "metadata": {
        "colab": {
          "base_uri": "https://localhost:8080/"
        },
        "execution": {
          "iopub.execute_input": "2021-01-16T09:09:52.905083Z",
          "iopub.status.busy": "2021-01-16T09:09:52.904307Z",
          "iopub.status.idle": "2021-01-16T09:09:52.942898Z",
          "shell.execute_reply": "2021-01-16T09:09:52.943541Z"
        },
        "id": "35NtujqCfH4k",
        "outputId": "d29cbfaa-8665-488e-e6cd-84d01ad0e9f4",
        "papermill": {
          "duration": 0.131555,
          "end_time": "2021-01-16T09:09:52.943705",
          "exception": false,
          "start_time": "2021-01-16T09:09:52.812150",
          "status": "completed"
        },
        "tags": []
      },
      "outputs": [
        {
          "name": "stdout",
          "output_type": "stream",
          "text": [
            "the lenth of the blank auhtor samples----------> 32853\n",
            "THe length of the datset ----------------------> (156573, 6)\n"
          ]
        }
      ],
      "source": [
        "#drop the null author samples\n",
        "author_blank = data['authors']==''\n",
        "print(\"the lenth of the blank auhtor samples---------->\",len(data[author_blank]))\n",
        "data = data[~author_blank]\n",
        "print(\"THe length of the datset ---------------------->\",data.shape)"
      ]
    },
    {
      "cell_type": "code",
      "execution_count": 120,
      "metadata": {
        "colab": {
          "base_uri": "https://localhost:8080/",
          "height": 510
        },
        "execution": {
          "iopub.execute_input": "2021-01-16T09:09:53.054231Z",
          "iopub.status.busy": "2021-01-16T09:09:53.053315Z",
          "iopub.status.idle": "2021-01-16T09:09:53.057706Z",
          "shell.execute_reply": "2021-01-16T09:09:53.057236Z"
        },
        "id": "VBRBtdMRfH4k",
        "outputId": "09d88fda-df92-4fe6-8c04-d8ee90c84cb6",
        "papermill": {
          "duration": 0.063572,
          "end_time": "2021-01-16T09:09:53.057796",
          "exception": false,
          "start_time": "2021-01-16T09:09:52.994224",
          "status": "completed"
        },
        "tags": []
      },
      "outputs": [
        {
          "data": {
            "text/html": [
              "<div>\n",
              "<style scoped>\n",
              "    .dataframe tbody tr th:only-of-type {\n",
              "        vertical-align: middle;\n",
              "    }\n",
              "\n",
              "    .dataframe tbody tr th {\n",
              "        vertical-align: top;\n",
              "    }\n",
              "\n",
              "    .dataframe thead th {\n",
              "        text-align: right;\n",
              "    }\n",
              "</style>\n",
              "<table border=\"1\" class=\"dataframe\">\n",
              "  <thead>\n",
              "    <tr style=\"text-align: right;\">\n",
              "      <th></th>\n",
              "      <th>link</th>\n",
              "      <th>headline</th>\n",
              "      <th>category</th>\n",
              "      <th>short_description</th>\n",
              "      <th>authors</th>\n",
              "      <th>date</th>\n",
              "    </tr>\n",
              "  </thead>\n",
              "  <tbody>\n",
              "    <tr>\n",
              "      <th>0</th>\n",
              "      <td>https://www.huffpost.com/entry/covid-boosters-uptake-us_n_632d719ee4b087fae6feaac9</td>\n",
              "      <td>Over 4 Million Americans Roll Up Sleeves For Omicron-Targeted COVID Boosters</td>\n",
              "      <td>U.S. NEWS</td>\n",
              "      <td>Health experts said it is too early to predict whether demand would match up with the 171 million doses of the new boosters the U.S. ordered for the fall.</td>\n",
              "      <td>Carla K. Johnson, AP</td>\n",
              "      <td>2022-09-23</td>\n",
              "    </tr>\n",
              "    <tr>\n",
              "      <th>1</th>\n",
              "      <td>https://www.huffpost.com/entry/american-airlines-passenger-banned-flight-attendant-punch-justice-department_n_632e25d3e4b0e247890329fe</td>\n",
              "      <td>American Airlines Flyer Charged, Banned For Life After Punching Flight Attendant On Video</td>\n",
              "      <td>U.S. NEWS</td>\n",
              "      <td>He was subdued by passengers and crew when he fled to the back of the aircraft after the confrontation, according to the U.S. attorney's office in Los Angeles.</td>\n",
              "      <td>Mary Papenfuss</td>\n",
              "      <td>2022-09-23</td>\n",
              "    </tr>\n",
              "    <tr>\n",
              "      <th>2</th>\n",
              "      <td>https://www.huffpost.com/entry/funniest-tweets-cats-dogs-september-17-23_n_632de332e4b0695c1d81dc02</td>\n",
              "      <td>23 Of The Funniest Tweets About Cats And Dogs This Week (Sept. 17-23)</td>\n",
              "      <td>COMEDY</td>\n",
              "      <td>\"Until you have a dog you don't understand what could be eaten.\"</td>\n",
              "      <td>Elyse Wanshel</td>\n",
              "      <td>2022-09-23</td>\n",
              "    </tr>\n",
              "    <tr>\n",
              "      <th>3</th>\n",
              "      <td>https://www.huffpost.com/entry/funniest-parenting-tweets_l_632d7d15e4b0d12b5403e479</td>\n",
              "      <td>The Funniest Tweets From Parents This Week (Sept. 17-23)</td>\n",
              "      <td>PARENTING</td>\n",
              "      <td>\"Accidentally put grown-up toothpaste on my toddler’s toothbrush and he screamed like I was cleaning his teeth with a Carolina Reaper dipped in Tabasco sauce.\"</td>\n",
              "      <td>Caroline Bologna</td>\n",
              "      <td>2022-09-23</td>\n",
              "    </tr>\n",
              "    <tr>\n",
              "      <th>4</th>\n",
              "      <td>https://www.huffpost.com/entry/amy-cooper-loses-discrimination-lawsuit-franklin-templeton_n_632c6463e4b09d8701bd227e</td>\n",
              "      <td>Woman Who Called Cops On Black Bird-Watcher Loses Lawsuit Against Ex-Employer</td>\n",
              "      <td>U.S. NEWS</td>\n",
              "      <td>Amy Cooper accused investment firm Franklin Templeton of unfairly firing her and branding her a racist after video of the Central Park encounter went viral.</td>\n",
              "      <td>Nina Golgowski</td>\n",
              "      <td>2022-09-22</td>\n",
              "    </tr>\n",
              "  </tbody>\n",
              "</table>\n",
              "</div>"
            ],
            "text/plain": [
              "                                                                                                                                     link  \\\n",
              "0                                                      https://www.huffpost.com/entry/covid-boosters-uptake-us_n_632d719ee4b087fae6feaac9   \n",
              "1  https://www.huffpost.com/entry/american-airlines-passenger-banned-flight-attendant-punch-justice-department_n_632e25d3e4b0e247890329fe   \n",
              "2                                     https://www.huffpost.com/entry/funniest-tweets-cats-dogs-september-17-23_n_632de332e4b0695c1d81dc02   \n",
              "3                                                     https://www.huffpost.com/entry/funniest-parenting-tweets_l_632d7d15e4b0d12b5403e479   \n",
              "4                    https://www.huffpost.com/entry/amy-cooper-loses-discrimination-lawsuit-franklin-templeton_n_632c6463e4b09d8701bd227e   \n",
              "\n",
              "                                                                                    headline  \\\n",
              "0               Over 4 Million Americans Roll Up Sleeves For Omicron-Targeted COVID Boosters   \n",
              "1  American Airlines Flyer Charged, Banned For Life After Punching Flight Attendant On Video   \n",
              "2                      23 Of The Funniest Tweets About Cats And Dogs This Week (Sept. 17-23)   \n",
              "3                                   The Funniest Tweets From Parents This Week (Sept. 17-23)   \n",
              "4              Woman Who Called Cops On Black Bird-Watcher Loses Lawsuit Against Ex-Employer   \n",
              "\n",
              "    category  \\\n",
              "0  U.S. NEWS   \n",
              "1  U.S. NEWS   \n",
              "2     COMEDY   \n",
              "3  PARENTING   \n",
              "4  U.S. NEWS   \n",
              "\n",
              "                                                                                                                                                 short_description  \\\n",
              "0       Health experts said it is too early to predict whether demand would match up with the 171 million doses of the new boosters the U.S. ordered for the fall.   \n",
              "1  He was subdued by passengers and crew when he fled to the back of the aircraft after the confrontation, according to the U.S. attorney's office in Los Angeles.   \n",
              "2                                                                                                 \"Until you have a dog you don't understand what could be eaten.\"   \n",
              "3  \"Accidentally put grown-up toothpaste on my toddler’s toothbrush and he screamed like I was cleaning his teeth with a Carolina Reaper dipped in Tabasco sauce.\"   \n",
              "4     Amy Cooper accused investment firm Franklin Templeton of unfairly firing her and branding her a racist after video of the Central Park encounter went viral.   \n",
              "\n",
              "                authors       date  \n",
              "0  Carla K. Johnson, AP 2022-09-23  \n",
              "1        Mary Papenfuss 2022-09-23  \n",
              "2         Elyse Wanshel 2022-09-23  \n",
              "3      Caroline Bologna 2022-09-23  \n",
              "4        Nina Golgowski 2022-09-22  "
            ]
          },
          "execution_count": 120,
          "metadata": {},
          "output_type": "execute_result"
        }
      ],
      "source": [
        "data.head(5)"
      ]
    },
    {
      "cell_type": "code",
      "execution_count": 121,
      "metadata": {
        "colab": {
          "base_uri": "https://localhost:8080/",
          "height": 785
        },
        "execution": {
          "iopub.execute_input": "2021-01-16T09:09:53.231356Z",
          "iopub.status.busy": "2021-01-16T09:09:53.230427Z",
          "iopub.status.idle": "2021-01-16T09:09:53.582761Z",
          "shell.execute_reply": "2021-01-16T09:09:53.583218Z"
        },
        "id": "V0kVnY8gfH4k",
        "outputId": "8be984b2-951a-40ef-f5f6-366387aa8678",
        "papermill": {
          "duration": 0.476236,
          "end_time": "2021-01-16T09:09:53.583338",
          "exception": false,
          "start_time": "2021-01-16T09:09:53.107102",
          "status": "completed"
        },
        "tags": []
      },
      "outputs": [
        {
          "data": {
            "image/png": "[encoded data removed]",
            "text/plain": [
              "<Figure size 2500x1800 with 1 Axes>"
            ]
          },
          "metadata": {},
          "output_type": "display_data"
        },
        {
          "data": {
            "text/plain": [
              "<Figure size 640x480 with 0 Axes>"
            ]
          },
          "metadata": {},
          "output_type": "display_data"
        }
      ],
      "source": [
        "#author\n",
        "#auhtor plot\n",
        "auhtor_count = data['authors'].value_counts()\n",
        "\n",
        "plt.figure(figsize=(25,18))\n",
        "sns.barplot(y=auhtor_count[:25].index,x=auhtor_count[:25].values)\n",
        "plt.title(\"The distribution of authors\")\n",
        "plt.xlabel(\"Author Name\")\n",
        "plt.ylabel(\"The number of samples\")\n",
        "\n",
        "plt.yticks(rotation=0,fontsize = 18)\n",
        "plt.show()\n",
        "plt.savefig(r\"./author_bar.png\")"
      ]
    },
    {
      "cell_type": "markdown",
      "metadata": {
        "id": "k44SfjxVfH4l",
        "papermill": {
          "duration": 0.051414,
          "end_time": "2021-01-16T09:09:53.686524",
          "exception": false,
          "start_time": "2021-01-16T09:09:53.635110",
          "status": "completed"
        },
        "tags": []
      },
      "source": [
        "#### Balance the category data"
      ]
    },
    {
      "cell_type": "code",
      "execution_count": 122,
      "metadata": {
        "colab": {
          "base_uri": "https://localhost:8080/"
        },
        "execution": {
          "iopub.execute_input": "2021-01-16T09:09:53.843101Z",
          "iopub.status.busy": "2021-01-16T09:09:53.842196Z",
          "iopub.status.idle": "2021-01-16T09:09:53.849464Z",
          "shell.execute_reply": "2021-01-16T09:09:53.849013Z"
        },
        "id": "7S8A_vyVfH4l",
        "outputId": "822af8b5-016f-473d-ec17-5a7b0e3834a5",
        "papermill": {
          "duration": 0.110029,
          "end_time": "2021-01-16T09:09:53.849554",
          "exception": false,
          "start_time": "2021-01-16T09:09:53.739525",
          "status": "completed"
        },
        "tags": []
      },
      "outputs": [
        {
          "data": {
            "text/plain": [
              "['POLITICS',\n",
              " 'ENTERTAINMENT',\n",
              " 'WELLNESS',\n",
              " 'TRAVEL',\n",
              " 'STYLE & BEAUTY',\n",
              " 'PARENTING',\n",
              " 'HEALTHY LIVING',\n",
              " 'QUEER VOICES',\n",
              " 'FOOD & DRINK',\n",
              " 'BUSINESS',\n",
              " 'COMEDY',\n",
              " 'SPORTS',\n",
              " 'HOME & LIVING',\n",
              " 'PARENTS',\n",
              " 'BLACK VOICES',\n",
              " 'IMPACT',\n",
              " 'WOMEN',\n",
              " 'WORLD NEWS',\n",
              " 'THE WORLDPOST',\n",
              " 'MEDIA',\n",
              " 'CRIME',\n",
              " 'WEIRD NEWS',\n",
              " 'TASTE',\n",
              " 'RELIGION',\n",
              " 'WEDDINGS',\n",
              " 'DIVORCE',\n",
              " 'GREEN',\n",
              " 'TECH',\n",
              " 'MONEY',\n",
              " 'STYLE',\n",
              " 'SCIENCE',\n",
              " 'ARTS & CULTURE',\n",
              " 'WORLDPOST',\n",
              " 'U.S. NEWS',\n",
              " 'FIFTY',\n",
              " 'GOOD NEWS',\n",
              " 'EDUCATION',\n",
              " 'LATINO VOICES',\n",
              " 'ARTS',\n",
              " 'COLLEGE',\n",
              " 'ENVIRONMENT',\n",
              " 'CULTURE & ARTS']"
            ]
          },
          "execution_count": 122,
          "metadata": {},
          "output_type": "execute_result"
        }
      ],
      "source": [
        "category = data['category'].value_counts()\n",
        "list(category.index)"
      ]
    },
    {
      "cell_type": "markdown",
      "metadata": {
        "id": "4TuJt15HfH4l",
        "papermill": {
          "duration": 0.051842,
          "end_time": "2021-01-16T09:09:53.953676",
          "exception": false,
          "start_time": "2021-01-16T09:09:53.901834",
          "status": "completed"
        },
        "tags": []
      },
      "source": [
        "\n",
        "we can drop the Style, Education, College and Environment they are having very less number of sample, which may lead to less accuracy and f1 score."
      ]
    },
    {
      "cell_type": "code",
      "execution_count": 123,
      "metadata": {
        "execution": {
          "iopub.execute_input": "2021-01-16T09:09:54.141906Z",
          "iopub.status.busy": "2021-01-16T09:09:54.141099Z",
          "iopub.status.idle": "2021-01-16T09:09:54.437370Z",
          "shell.execute_reply": "2021-01-16T09:09:54.436887Z"
        },
        "id": "Ln3qUNSFfH4m",
        "papermill": {
          "duration": 0.431782,
          "end_time": "2021-01-16T09:09:54.437472",
          "exception": false,
          "start_time": "2021-01-16T09:09:54.005690",
          "status": "completed"
        },
        "tags": []
      },
      "outputs": [],
      "source": [
        "cateo_keep = (data['category'] == 'POLITICS') | (data['category'] == 'WELLNESS' )| (data['category'] == 'ENTERTAINMENT') | (data['category'] == 'TRAVEL') | \\\n",
        "            (data['category'] == 'STYLE & BEAUTY') | (data['category'] == 'PARENTING' )| (data['category'] == 'HEALTHY LIVING') | (data['category'] == 'QUEER VOICES') | \\\n",
        "              (data['category'] == 'FOOD & DRINK') | (data['category'] == 'BUSINESS' )| (data['category'] == 'COMEDY') | (data['category'] == 'PARENTS') | (data['category'] == 'SPORTS') | (data['category'] == 'HOME & LIVING' )| (data['category'] == 'BLACK VOICES')\n",
        "data = data[cateo_keep]\n",
        "\n"
      ]
    },
    {
      "cell_type": "code",
      "execution_count": 124,
      "metadata": {
        "colab": {
          "base_uri": "https://localhost:8080/"
        },
        "execution": {
          "iopub.execute_input": "2021-01-16T09:09:54.589231Z",
          "iopub.status.busy": "2021-01-16T09:09:54.588403Z",
          "iopub.status.idle": "2021-01-16T09:09:54.592295Z",
          "shell.execute_reply": "2021-01-16T09:09:54.592741Z"
        },
        "id": "dVAv3xFPfH4m",
        "outputId": "02d14093-2f55-47a7-e254-799636ac845f",
        "papermill": {
          "duration": 0.101396,
          "end_time": "2021-01-16T09:09:54.592860",
          "exception": false,
          "start_time": "2021-01-16T09:09:54.491464",
          "status": "completed"
        },
        "tags": []
      },
      "outputs": [
        {
          "data": {
            "text/plain": [
              "POLITICS          29673\n",
              "ENTERTAINMENT     13461\n",
              "WELLNESS          12944\n",
              "TRAVEL             8021\n",
              "STYLE & BEAUTY     7173\n",
              "PARENTING          6517\n",
              "HEALTHY LIVING     5071\n",
              "QUEER VOICES       4699\n",
              "FOOD & DRINK       4527\n",
              "BUSINESS           4372\n",
              "COMEDY             3934\n",
              "SPORTS             3608\n",
              "HOME & LIVING      3490\n",
              "PARENTS            3451\n",
              "BLACK VOICES       3310\n",
              "Name: category, dtype: int64"
            ]
          },
          "execution_count": 124,
          "metadata": {},
          "output_type": "execute_result"
        }
      ],
      "source": [
        "category = data['category'].value_counts()\n",
        "category"
      ]
    },
    {
      "cell_type": "code",
      "execution_count": 125,
      "metadata": {
        "id": "TGHdIRl_LVv1"
      },
      "outputs": [],
      "source": [
        "from sklearn.utils import resample"
      ]
    },
    {
      "cell_type": "code",
      "execution_count": 126,
      "metadata": {
        "colab": {
          "base_uri": "https://localhost:8080/"
        },
        "execution": {
          "iopub.execute_input": "2021-01-16T09:09:54.739475Z",
          "iopub.status.busy": "2021-01-16T09:09:54.738719Z",
          "iopub.status.idle": "2021-01-16T09:09:55.055919Z",
          "shell.execute_reply": "2021-01-16T09:09:55.054932Z"
        },
        "id": "7SBNdiFhfH4m",
        "outputId": "999457b6-5431-444c-93a6-be0def607e36",
        "papermill": {
          "duration": 0.410209,
          "end_time": "2021-01-16T09:09:55.056058",
          "exception": false,
          "start_time": "2021-01-16T09:09:54.645849",
          "status": "completed"
        },
        "tags": []
      },
      "outputs": [
        {
          "data": {
            "text/plain": [
              "POLITICS          3000\n",
              "WELLNESS          3000\n",
              "ENTERTAINMENT     3000\n",
              "TRAVEL            3000\n",
              "STYLE & BEAUTY    3000\n",
              "PARENTING         3000\n",
              "HEALTHY LIVING    3000\n",
              "QUEER VOICES      3000\n",
              "FOOD & DRINK      3000\n",
              "BUSINESS          3000\n",
              "COMEDY            3000\n",
              "PARENTS           3000\n",
              "SPORTS            3000\n",
              "HOME & LIVING     3000\n",
              "BLACK VOICES      3000\n",
              "Name: category, dtype: int64"
            ]
          },
          "execution_count": 126,
          "metadata": {},
          "output_type": "execute_result"
        }
      ],
      "source": [
        "data_1 = data[data['category'] == 'POLITICS']\n",
        "data_1 = resample(data_1, replace=False, n_samples=3000, random_state=123)\n",
        "data_2 = data[data['category'] == 'WELLNESS']\n",
        "data_2 = resample(data_2, replace=False, n_samples=3000, random_state=123)\n",
        "data_3 = data[data['category'] == 'ENTERTAINMENT']\n",
        "data_3 = resample(data_3, replace=False, n_samples=3000, random_state=123)\n",
        "data_4 = data[data['category'] == 'TRAVEL']\n",
        "data_4 = resample(data_4, replace=False, n_samples=3000, random_state=123)\n",
        "data_5 = data[data['category'] == 'STYLE & BEAUTY']\n",
        "data_5 = resample(data_5, replace=False, n_samples=3000, random_state=123)\n",
        "data_6 = data[data['category'] == 'PARENTING']\n",
        "data_6 = resample(data_6, replace=False, n_samples=3000, random_state=123)\n",
        "data_7 = data[data['category'] == 'HEALTHY LIVING']\n",
        "data_7 = resample(data_7, replace=False, n_samples=3000, random_state=123)\n",
        "data_8 = data[data['category'] == 'QUEER VOICES']\n",
        "data_8 = resample(data_8, replace=False, n_samples=3000, random_state=123)\n",
        "data_9 = data[data['category'] == 'FOOD & DRINK']\n",
        "data_9 = resample(data_9, replace=False, n_samples=3000, random_state=123)\n",
        "data_10 = data[data['category'] == 'BUSINESS']\n",
        "data_10 = resample(data_10, replace=False, n_samples=3000, random_state=123)\n",
        "data_11 = data[data['category'] == 'COMEDY']\n",
        "data_11 = resample(data_11, replace=False, n_samples=3000, random_state=123)\n",
        "data_12= data[data['category'] == 'PARENTS']\n",
        "data_12 = resample(data_12, replace=False, n_samples=3000, random_state=123)\n",
        "data_13= data[data['category'] == 'SPORTS']\n",
        "data_13 = resample(data_13, replace=False, n_samples=3000, random_state=123)\n",
        "data_14 = data[data['category'] == 'HOME & LIVING']\n",
        "data_14 = resample(data_14, replace=False, n_samples=3000, random_state=123)\n",
        "data_15 = data[data['category'] == 'BLACK VOICES']\n",
        "data_15 = resample(data_15, replace=False, n_samples=3000, random_state=123)\n",
        "\n",
        "cato_list = [data_1 , data_2 , data_3 , data_4 ,data_5 , data_6, data_7, data_8 , data_9 , data_10, data_11 , data_12 , data_13, data_14 ,data_15]\n",
        "#  data_7, data_8 , data_9 , data_10, data_11 , data_12 , data_13, data_14 ,data_15\n",
        "data = pd.concat(cato_list)\n",
        "data['category'].value_counts()"
      ]
    },
    {
      "cell_type": "markdown",
      "metadata": {
        "id": "fn3YblbcfH4n",
        "papermill": {
          "duration": 0.055773,
          "end_time": "2021-01-16T09:09:55.607403",
          "exception": false,
          "start_time": "2021-01-16T09:09:55.551630",
          "status": "completed"
        },
        "tags": []
      },
      "source": [
        "#### Column Combinning"
      ]
    },
    {
      "cell_type": "code",
      "execution_count": 127,
      "metadata": {
        "execution": {
          "iopub.execute_input": "2021-01-16T09:09:55.752506Z",
          "iopub.status.busy": "2021-01-16T09:09:55.751759Z",
          "iopub.status.idle": "2021-01-16T09:09:55.756074Z",
          "shell.execute_reply": "2021-01-16T09:09:55.755617Z"
        },
        "id": "_3yyLSrofH4n",
        "papermill": {
          "duration": 0.092991,
          "end_time": "2021-01-16T09:09:55.756175",
          "exception": false,
          "start_time": "2021-01-16T09:09:55.663184",
          "status": "completed"
        },
        "tags": []
      },
      "outputs": [],
      "source": [
        "data['text'] = data['headline']+' '+data['short_description']"
      ]
    },
    {
      "cell_type": "code",
      "execution_count": 128,
      "metadata": {
        "execution": {
          "iopub.execute_input": "2021-01-16T09:09:56.151700Z",
          "iopub.status.busy": "2021-01-16T09:09:56.150671Z",
          "iopub.status.idle": "2021-01-16T09:09:56.174775Z",
          "shell.execute_reply": "2021-01-16T09:09:56.175541Z"
        },
        "id": "BqEq-ZuEfH4n",
        "papermill": {
          "duration": 0.129885,
          "end_time": "2021-01-16T09:09:56.175663",
          "exception": false,
          "start_time": "2021-01-16T09:09:56.045778",
          "status": "completed"
        },
        "tags": []
      },
      "outputs": [],
      "source": [
        "#drop the other columns\n",
        "data.drop(['authors','headline','short_description'],axis=1,inplace=True)"
      ]
    },
    {
      "cell_type": "code",
      "execution_count": 129,
      "metadata": {
        "colab": {
          "base_uri": "https://localhost:8080/",
          "height": 340
        },
        "execution": {
          "iopub.execute_input": "2021-01-16T09:09:56.584559Z",
          "iopub.status.busy": "2021-01-16T09:09:56.583838Z",
          "iopub.status.idle": "2021-01-16T09:09:56.600654Z",
          "shell.execute_reply": "2021-01-16T09:09:56.601575Z"
        },
        "id": "tcumCyd7fH4o",
        "outputId": "6b146a85-db70-47d8-be33-c00786e36cdc",
        "papermill": {
          "duration": 0.118668,
          "end_time": "2021-01-16T09:09:56.601717",
          "exception": false,
          "start_time": "2021-01-16T09:09:56.483049",
          "status": "completed"
        },
        "tags": []
      },
      "outputs": [],
      "source": [
        "from sklearn.utils import shuffle\n",
        "data = shuffle(data)\n",
        "data.reset_index(inplace=True, drop=True)"
      ]
    },
    {
      "cell_type": "markdown",
      "metadata": {
        "id": "bTlZmFvzfH4s",
        "papermill": {
          "duration": 0.062779,
          "end_time": "2021-01-16T09:09:56.760046",
          "exception": false,
          "start_time": "2021-01-16T09:09:56.697267",
          "status": "completed"
        },
        "tags": []
      },
      "source": [
        "#### test cleaning"
      ]
    },
    {
      "cell_type": "code",
      "execution_count": 130,
      "metadata": {
        "colab": {
          "base_uri": "https://localhost:8080/",
          "height": 70
        },
        "execution": {
          "iopub.execute_input": "2021-01-16T09:09:56.954312Z",
          "iopub.status.busy": "2021-01-16T09:09:56.951526Z",
          "iopub.status.idle": "2021-01-16T09:09:56.957163Z",
          "shell.execute_reply": "2021-01-16T09:09:56.956529Z"
        },
        "id": "_4YU8op2fH4s",
        "outputId": "11c9a2db-a6a2-494b-c615-28e36afc191e",
        "papermill": {
          "duration": 0.105993,
          "end_time": "2021-01-16T09:09:56.957281",
          "exception": false,
          "start_time": "2021-01-16T09:09:56.851288",
          "status": "completed"
        },
        "tags": []
      },
      "outputs": [
        {
          "data": {
            "text/plain": [
              "\"corpus=[]\\nfor i in range(100000):\\n    text = data.iloc[i,1]\\n\\n    text = text.lower()\\n    text = re.sub('[^a-z0-9]',' ',text)\\n    text = text.split()\\n\\n    s = PorterStemmer()\\n    text = [s.stem(word) for word in text if not word in set(stopwords.words('english')) ]\\n    text = ' '.join(text)\\n    corpus.append(text)\\n\\n    if i%1000==0:\\n        print(i,end='->')\""
            ]
          },
          "execution_count": 130,
          "metadata": {},
          "output_type": "execute_result"
        }
      ],
      "source": [
        "\"\"\"corpus=[]\n",
        "for i in range(100000):\n",
        "    text = data.iloc[i,1]\n",
        "\n",
        "    text = text.lower()\n",
        "    text = re.sub('[^a-z0-9]',' ',text)\n",
        "    text = text.split()\n",
        "\n",
        "    s = PorterStemmer()\n",
        "    text = [s.stem(word) for word in text if not word in set(stopwords.words('english')) ]\n",
        "    text = ' '.join(text)\n",
        "    corpus.append(text)\n",
        "\n",
        "    if i%1000==0:\n",
        "        print(i,end='->')\"\"\"\n"
      ]
    },
    {
      "cell_type": "code",
      "execution_count": 131,
      "metadata": {
        "colab": {
          "base_uri": "https://localhost:8080/",
          "height": 35
        },
        "execution": {
          "iopub.execute_input": "2021-01-16T09:09:57.143266Z",
          "iopub.status.busy": "2021-01-16T09:09:57.141880Z",
          "iopub.status.idle": "2021-01-16T09:09:57.145371Z",
          "shell.execute_reply": "2021-01-16T09:09:57.145810Z"
        },
        "id": "TCOgQrZSfH4t",
        "outputId": "0f85978b-555d-4300-c9df-9d6cc109d4da",
        "papermill": {
          "duration": 0.088383,
          "end_time": "2021-01-16T09:09:57.145927",
          "exception": false,
          "start_time": "2021-01-16T09:09:57.057544",
          "status": "completed"
        },
        "tags": []
      },
      "outputs": [
        {
          "data": {
            "text/plain": [
              "\"corpus = pd.read_csv('../input/corpus/corpus.csv')\\ncorpus\""
            ]
          },
          "execution_count": 131,
          "metadata": {},
          "output_type": "execute_result"
        }
      ],
      "source": [
        "\"\"\"corpus = pd.read_csv('../input/corpus/corpus.csv')\n",
        "corpus\"\"\""
      ]
    },
    {
      "cell_type": "markdown",
      "metadata": {
        "id": "o_SslEzLfH4t",
        "papermill": {
          "duration": 0.059975,
          "end_time": "2021-01-16T09:09:57.271536",
          "exception": false,
          "start_time": "2021-01-16T09:09:57.211561",
          "status": "completed"
        },
        "tags": []
      },
      "source": [
        "#### Tokazitation and Count Vectorization"
      ]
    },
    {
      "cell_type": "code",
      "execution_count": 132,
      "metadata": {},
      "outputs": [
        {
          "data": {
            "text/plain": [
              "(45000, 15)"
            ]
          },
          "execution_count": 132,
          "metadata": {},
          "output_type": "execute_result"
        }
      ],
      "source": [
        "labels.shape"
      ]
    },
    {
      "cell_type": "code",
      "execution_count": 133,
      "metadata": {
        "execution": {
          "iopub.execute_input": "2021-01-16T09:09:57.423613Z",
          "iopub.status.busy": "2021-01-16T09:09:57.422277Z",
          "iopub.status.idle": "2021-01-16T09:09:57.431679Z",
          "shell.execute_reply": "2021-01-16T09:09:57.431241Z"
        },
        "id": "OBrXtnWJfH4t",
        "papermill": {
          "duration": 0.101264,
          "end_time": "2021-01-16T09:09:57.431778",
          "exception": false,
          "start_time": "2021-01-16T09:09:57.330514",
          "status": "completed"
        },
        "tags": []
      },
      "outputs": [],
      "source": [
        "#train and test split\n",
        "tok.fit_on_texts(data['text'])\n",
        "sequence = tok.texts_to_sequences(data['text'])\n",
        "max_len = 30\n",
        "data['word_seq'] = sequence\n",
        "df = pad_sequences(data['word_seq'], maxlen=max_len)"
      ]
    },
    {
      "cell_type": "code",
      "execution_count": 134,
      "metadata": {},
      "outputs": [],
      "source": [
        "encoder.fit(data['category'])\n",
        "labels = encoder.transform(data['category'])\n",
        "n_classes = max(labels) + 1\n",
        "labels = to_categorical(labels, n_classes)"
      ]
    },
    {
      "cell_type": "code",
      "execution_count": 135,
      "metadata": {},
      "outputs": [
        {
          "data": {
            "text/plain": [
              "array(['BLACK VOICES', 'BUSINESS', 'COMEDY', 'ENTERTAINMENT',\n",
              "       'FOOD & DRINK', 'HEALTHY LIVING'], dtype=object)"
            ]
          },
          "execution_count": 135,
          "metadata": {},
          "output_type": "execute_result"
        }
      ],
      "source": [
        "encoder.inverse_transform(np.asarray(range(15)))\n",
        "# encoder.inverse_transform(np.asarray(range(6)))"
      ]
    },
    {
      "cell_type": "code",
      "execution_count": 136,
      "metadata": {},
      "outputs": [],
      "source": [
        "X_TRAIN,X_TEST,Y_TRAIN,Y_TEST = train_test_split(df, labels ,test_size = 0.25, random_state=2)"
      ]
    },
    {
      "cell_type": "code",
      "execution_count": 137,
      "metadata": {},
      "outputs": [],
      "source": [
        "X_TRAIN,X_VAL,Y_TRAIN,Y_VAL = train_test_split(X_TRAIN, Y_TRAIN ,test_size = 0.25,random_state=2)"
      ]
    },
    {
      "cell_type": "code",
      "execution_count": 138,
      "metadata": {
        "colab": {
          "base_uri": "https://localhost:8080/"
        },
        "execution": {
          "iopub.execute_input": "2021-01-16T09:09:57.555700Z",
          "iopub.status.busy": "2021-01-16T09:09:57.554855Z",
          "iopub.status.idle": "2021-01-16T09:09:57.559365Z",
          "shell.execute_reply": "2021-01-16T09:09:57.560122Z"
        },
        "id": "uqq9K2yGfH4u",
        "outputId": "9ef72acc-a69f-4413-b10b-3b8a069bd74b",
        "papermill": {
          "duration": 0.068719,
          "end_time": "2021-01-16T09:09:57.560276",
          "exception": false,
          "start_time": "2021-01-16T09:09:57.491557",
          "status": "completed"
        },
        "tags": []
      },
      "outputs": [
        {
          "name": "stdout",
          "output_type": "stream",
          "text": [
            "The X_train shape-----> (25312, 30)\n",
            "The X_text shape------> (11250, 30)\n",
            "THe y_train shape-----> (25312, 15)\n",
            "The y_test shape------> (11250, 15)\n"
          ]
        }
      ],
      "source": [
        "print(\"The X_train shape----->\",X_TRAIN.shape)\n",
        "print('The X_text shape------>',X_TEST.shape)\n",
        "print(\"THe y_train shape----->\",Y_TRAIN.shape)\n",
        "print(\"The y_test shape------>\",Y_TEST.shape)"
      ]
    },
    {
      "cell_type": "code",
      "execution_count": 139,
      "metadata": {
        "id": "L2Wh-iWh2jIb"
      },
      "outputs": [],
      "source": [
        "optimizer = 'Adam'\n",
        "TRAIN_DATA = (X_TRAIN, Y_TRAIN)\n",
        "VAL_DATA = (X_VAL, Y_VAL)"
      ]
    },
    {
      "cell_type": "code",
      "execution_count": 140,
      "metadata": {
        "colab": {
          "base_uri": "https://localhost:8080/",
          "height": 1000,
          "referenced_widgets": [
            "3b2f6f578a16466dba033e800d461941",
            "be3d5e89160948f39306329414e1c94a",
            "672ab1653f864f4999fb2c8d71d0fbca",
            "d0e98dc7ff8d4a4dbcf402bafaca54df",
            "549559f06c58402d80dcbc82c53b6f6b",
            "00a3a5c6820d4d958c7a33eb1f99dff0",
            "b5c9f504cc7742e881368fffe3eb9c99",
            "35912b3fbecd4d248ca8d029e98d52e7"
          ]
        },
        "id": "m58HMwbv3jJz",
        "outputId": "75469542-4fe6-443b-de94-3c21d48a4e11"
      },
      "outputs": [
        {
          "name": "stdout",
          "output_type": "stream",
          "text": [
            "Epoch 1/20\n",
            "198/198 [==============================] - 3s 12ms/step - loss: 2.9370 - categorical_accuracy: 0.1836 - val_loss: 2.5594 - val_categorical_accuracy: 0.1413\n",
            "Epoch 2/20\n",
            "198/198 [==============================] - 2s 10ms/step - loss: 2.4123 - categorical_accuracy: 0.1711 - val_loss: 2.3440 - val_categorical_accuracy: 0.2050\n",
            "Epoch 3/20\n",
            "198/198 [==============================] - 2s 11ms/step - loss: 2.1857 - categorical_accuracy: 0.2610 - val_loss: 2.1968 - val_categorical_accuracy: 0.2783\n",
            "Epoch 4/20\n",
            "198/198 [==============================] - 2s 12ms/step - loss: 1.9480 - categorical_accuracy: 0.3763 - val_loss: 2.1732 - val_categorical_accuracy: 0.3192\n",
            "Epoch 5/20\n",
            "198/198 [==============================] - 3s 16ms/step - loss: 1.7498 - categorical_accuracy: 0.4693 - val_loss: 2.2497 - val_categorical_accuracy: 0.3357\n",
            "Epoch 6/20\n",
            "198/198 [==============================] - 4s 22ms/step - loss: 1.5542 - categorical_accuracy: 0.5645 - val_loss: 2.4122 - val_categorical_accuracy: 0.3411\n",
            "Epoch 7/20\n",
            "198/198 [==============================] - 4s 21ms/step - loss: 1.3617 - categorical_accuracy: 0.6694 - val_loss: 2.6614 - val_categorical_accuracy: 0.3316\n",
            "Epoch 8/20\n",
            "198/198 [==============================] - 4s 20ms/step - loss: 1.1881 - categorical_accuracy: 0.7592 - val_loss: 2.9619 - val_categorical_accuracy: 0.3269\n",
            "Epoch 9/20\n",
            "198/198 [==============================] - 4s 21ms/step - loss: 1.0294 - categorical_accuracy: 0.8419 - val_loss: 3.2486 - val_categorical_accuracy: 0.3252\n",
            "Epoch 10/20\n",
            "198/198 [==============================] - 4s 21ms/step - loss: 0.8948 - categorical_accuracy: 0.8995 - val_loss: 3.5129 - val_categorical_accuracy: 0.3189\n",
            "Epoch 11/20\n",
            "198/198 [==============================] - 4s 22ms/step - loss: 0.7778 - categorical_accuracy: 0.9407 - val_loss: 3.7427 - val_categorical_accuracy: 0.3169\n",
            "Epoch 12/20\n",
            "198/198 [==============================] - 4s 21ms/step - loss: 0.6823 - categorical_accuracy: 0.9666 - val_loss: 3.9494 - val_categorical_accuracy: 0.3162\n",
            "Epoch 13/20\n",
            "198/198 [==============================] - 4s 22ms/step - loss: 0.6035 - categorical_accuracy: 0.9801 - val_loss: 4.0652 - val_categorical_accuracy: 0.3103\n",
            "Epoch 14/20\n",
            "198/198 [==============================] - 4s 21ms/step - loss: 0.5434 - categorical_accuracy: 0.9884 - val_loss: 4.2358 - val_categorical_accuracy: 0.3091\n",
            "Epoch 15/20\n",
            "198/198 [==============================] - 4s 21ms/step - loss: 0.4961 - categorical_accuracy: 0.9935 - val_loss: 4.2598 - val_categorical_accuracy: 0.3088\n",
            "Epoch 16/20\n",
            "198/198 [==============================] - 4s 20ms/step - loss: 0.4569 - categorical_accuracy: 0.9959 - val_loss: 4.3485 - val_categorical_accuracy: 0.3073\n",
            "Epoch 17/20\n",
            "198/198 [==============================] - 4s 22ms/step - loss: 0.4252 - categorical_accuracy: 0.9970 - val_loss: 4.4625 - val_categorical_accuracy: 0.3098\n",
            "Epoch 18/20\n",
            "198/198 [==============================] - 4s 22ms/step - loss: 0.3982 - categorical_accuracy: 0.9979 - val_loss: 4.4967 - val_categorical_accuracy: 0.3059\n",
            "Epoch 19/20\n",
            "198/198 [==============================] - 4s 22ms/step - loss: 0.3735 - categorical_accuracy: 0.9983 - val_loss: 4.5681 - val_categorical_accuracy: 0.3047\n",
            "Epoch 20/20\n",
            "198/198 [==============================] - 4s 21ms/step - loss: 0.3527 - categorical_accuracy: 0.9986 - val_loss: 4.6210 - val_categorical_accuracy: 0.3075\n"
          ]
        },
        {
          "data": {
            "text/html": [
              "Finishing last run (ID:2a1a8jov) before initializing another..."
            ],
            "text/plain": [
              "<IPython.core.display.HTML object>"
            ]
          },
          "metadata": {},
          "output_type": "display_data"
        },
        {
          "data": {
            "text/html": [
              "Waiting for W&B process to finish... <strong style=\"color:green\">(success).</strong>"
            ],
            "text/plain": [
              "<IPython.core.display.HTML object>"
            ]
          },
          "metadata": {},
          "output_type": "display_data"
        },
        {
          "data": {
            "text/html": [
              "<style>\n",
              "    table.wandb td:nth-child(1) { padding: 0 10px; text-align: left ; width: auto;} td:nth-child(2) {text-align: left ; width: 100%}\n",
              "    .wandb-row { display: flex; flex-direction: row; flex-wrap: wrap; justify-content: flex-start; width: 100% }\n",
              "    .wandb-col { display: flex; flex-direction: column; flex-basis: 100%; flex: 1; padding: 10px; }\n",
              "    </style>\n",
              "<div class=\"wandb-row\"><div class=\"wandb-col\"><h3>Run history:</h3><br/><table class=\"wandb\"><tr><td>train_accuracy</td><td>▁▂▄▅▆▆▇▇▇▇▇▇████████</td></tr><tr><td>train_loss</td><td>█▄▂▂▂▁▁▁▁▁▁▁▁▁▁▁▁▁▁▁</td></tr><tr><td>val_accuracy</td><td>▁▄▆▇▇▇▇▇████████████</td></tr><tr><td>val_loss</td><td>█▄▃▂▂▂▂▁▁▁▁▁▁▁▁▁▁▁▁▁</td></tr></table><br/></div><div class=\"wandb-col\"><h3>Run summary:</h3><br/><table class=\"wandb\"><tr><td>train_accuracy</td><td>0.9117</td></tr><tr><td>train_loss</td><td>0.24976</td></tr><tr><td>val_accuracy</td><td>0.70963</td></tr><tr><td>val_loss</td><td>0.58114</td></tr></table><br/></div></div>"
            ],
            "text/plain": [
              "<IPython.core.display.HTML object>"
            ]
          },
          "metadata": {},
          "output_type": "display_data"
        },
        {
          "data": {
            "text/html": [
              "Synced <strong style=\"color:#cdcd00\">celestial-fire-76</strong>: <a href=\"https://wandb.ai/thanh-bv/News%20Classification/runs/2a1a8jov\" target=\"_blank\">https://wandb.ai/thanh-bv/News%20Classification/runs/2a1a8jov</a><br/>Synced 5 W&B file(s), 0 media file(s), 0 artifact file(s) and 0 other file(s)"
            ],
            "text/plain": [
              "<IPython.core.display.HTML object>"
            ]
          },
          "metadata": {},
          "output_type": "display_data"
        },
        {
          "data": {
            "text/html": [
              "Find logs at: <code>.\\wandb\\run-20230614_185108-2a1a8jov\\logs</code>"
            ],
            "text/plain": [
              "<IPython.core.display.HTML object>"
            ]
          },
          "metadata": {},
          "output_type": "display_data"
        },
        {
          "data": {
            "text/html": [
              "Successfully finished last run (ID:2a1a8jov). Initializing new run:<br/>"
            ],
            "text/plain": [
              "<IPython.core.display.HTML object>"
            ]
          },
          "metadata": {},
          "output_type": "display_data"
        },
        {
          "data": {
            "text/html": [
              "wandb version 0.15.4 is available!  To upgrade, please run:\n",
              " $ pip install wandb --upgrade"
            ],
            "text/plain": [
              "<IPython.core.display.HTML object>"
            ]
          },
          "metadata": {},
          "output_type": "display_data"
        },
        {
          "data": {
            "text/html": [
              "Tracking run with wandb version 0.13.5"
            ],
            "text/plain": [
              "<IPython.core.display.HTML object>"
            ]
          },
          "metadata": {},
          "output_type": "display_data"
        },
        {
          "data": {
            "text/html": [
              "Run data is saved locally in <code>d:\\Study\\20222\\ML &DM\\Project\\20222_DMML_Project\\wandb\\run-20230614_185910-30u2zfjb</code>"
            ],
            "text/plain": [
              "<IPython.core.display.HTML object>"
            ]
          },
          "metadata": {},
          "output_type": "display_data"
        },
        {
          "data": {
            "text/html": [
              "Syncing run <strong><a href=\"https://wandb.ai/thanh-bv/News%20Classification/runs/30u2zfjb\" target=\"_blank\">robust-smoke-77</a></strong> to <a href=\"https://wandb.ai/thanh-bv/News%20Classification\" target=\"_blank\">Weights & Biases</a> (<a href=\"https://wandb.me/run\" target=\"_blank\">docs</a>)<br/>"
            ],
            "text/plain": [
              "<IPython.core.display.HTML object>"
            ]
          },
          "metadata": {},
          "output_type": "display_data"
        },
        {
          "name": "stdout",
          "output_type": "stream",
          "text": [
            "88/88 [==============================] - 1s 8ms/step\n",
            "For each class: \n",
            "Accuracy:  tensor([0.3215, 0.2335, 0.2757, 0.2474, 0.3824, 0.2686, 0.4946, 0.1863, 0.2177,\n",
            "        0.3484, 0.3601, 0.3375, 0.3905, 0.2136, 0.1804, 0.0000, 0.0000, 0.0000,\n",
            "        0.0000, 0.0000, 0.0000, 0.0000, 0.0000, 0.0000, 0.0000, 0.0000, 0.0000,\n",
            "        0.0000, 0.0000, 0.0000, 0.0000, 0.0000, 0.0000, 0.0000, 0.0000, 0.0000,\n",
            "        0.0000, 0.0000, 0.0000, 0.0000])\n",
            "Precision:  tensor([0.1857, 0.2574, 0.5425, 0.2006, 0.4899, 0.1505, 0.5155, 0.2439, 0.1264,\n",
            "        0.4501, 0.5672, 0.3793, 0.6296, 0.2010, 0.2911, 0.0000, 0.0000, 0.0000,\n",
            "        0.0000, 0.0000, 0.0000, 0.0000, 0.0000, 0.0000, 0.0000, 0.0000, 0.0000,\n",
            "        0.0000, 0.0000, 0.0000, 0.0000, 0.0000, 0.0000, 0.0000, 0.0000, 0.0000,\n",
            "        0.0000, 0.0000, 0.0000, 0.0000])\n",
            "Recall:  tensor([0.3215, 0.2335, 0.2757, 0.2474, 0.3824, 0.2686, 0.4946, 0.1863, 0.2177,\n",
            "        0.3484, 0.3601, 0.3375, 0.3905, 0.2136, 0.1804, 0.0000, 0.0000, 0.0000,\n",
            "        0.0000, 0.0000, 0.0000, 0.0000, 0.0000, 0.0000, 0.0000, 0.0000, 0.0000,\n",
            "        0.0000, 0.0000, 0.0000, 0.0000, 0.0000, 0.0000, 0.0000, 0.0000, 0.0000,\n",
            "        0.0000, 0.0000, 0.0000, 0.0000])\n",
            "F1-score:  tensor([0.2354, 0.2449, 0.3656, 0.2216, 0.4295, 0.1929, 0.5048, 0.2112, 0.1600,\n",
            "        0.3928, 0.4405, 0.3571, 0.4821, 0.2071, 0.2228, 0.0000, 0.0000, 0.0000,\n",
            "        0.0000, 0.0000, 0.0000, 0.0000, 0.0000, 0.0000, 0.0000, 0.0000, 0.0000,\n",
            "        0.0000, 0.0000, 0.0000, 0.0000, 0.0000, 0.0000, 0.0000, 0.0000, 0.0000,\n",
            "        0.0000, 0.0000, 0.0000, 0.0000])\n",
            "Type:  micro\n",
            "Accuracy:  tensor(0.2968)\n",
            "Precision:  tensor(0.2968)\n",
            "Recall:  tensor(0.2968)\n",
            "F1-score:  tensor(0.2968)\n",
            "Type:  macro\n",
            "Accuracy:  tensor(0.1115)\n",
            "Precision:  tensor(0.1308)\n",
            "Recall:  tensor(0.1115)\n",
            "F1-score:  tensor(0.1167)\n",
            "Type:  weighted\n",
            "Accuracy:  tensor(0.2968)\n",
            "Precision:  tensor(0.3488)\n",
            "Recall:  tensor(0.2968)\n",
            "F1-score:  tensor(0.3109)\n",
            "Epoch 1/20\n",
            "198/198 [==============================] - 6s 24ms/step - loss: 2.9488 - categorical_accuracy: 0.1588 - val_loss: 2.6022 - val_categorical_accuracy: 0.1251\n",
            "Epoch 2/20\n",
            "198/198 [==============================] - 4s 22ms/step - loss: 2.4648 - categorical_accuracy: 0.1526 - val_loss: 2.4100 - val_categorical_accuracy: 0.1822\n",
            "Epoch 3/20\n",
            "198/198 [==============================] - 4s 21ms/step - loss: 2.2960 - categorical_accuracy: 0.2102 - val_loss: 2.3137 - val_categorical_accuracy: 0.2369\n",
            "Epoch 4/20\n",
            "198/198 [==============================] - 4s 21ms/step - loss: 2.1027 - categorical_accuracy: 0.3129 - val_loss: 2.2090 - val_categorical_accuracy: 0.3050\n",
            "Epoch 5/20\n",
            "198/198 [==============================] - 4s 22ms/step - loss: 1.8917 - categorical_accuracy: 0.4061 - val_loss: 2.2440 - val_categorical_accuracy: 0.3187\n",
            "Epoch 6/20\n",
            "198/198 [==============================] - 4s 20ms/step - loss: 1.7193 - categorical_accuracy: 0.4778 - val_loss: 2.3782 - val_categorical_accuracy: 0.3208\n",
            "Epoch 7/20\n",
            "198/198 [==============================] - 4s 22ms/step - loss: 1.5733 - categorical_accuracy: 0.5437 - val_loss: 2.5471 - val_categorical_accuracy: 0.3298\n",
            "Epoch 8/20\n",
            "198/198 [==============================] - 4s 21ms/step - loss: 1.4326 - categorical_accuracy: 0.6065 - val_loss: 2.7412 - val_categorical_accuracy: 0.3207\n",
            "Epoch 9/20\n",
            "198/198 [==============================] - 4s 22ms/step - loss: 1.3068 - categorical_accuracy: 0.6690 - val_loss: 2.9579 - val_categorical_accuracy: 0.3222\n",
            "Epoch 10/20\n",
            "198/198 [==============================] - 4s 22ms/step - loss: 1.1936 - categorical_accuracy: 0.7254 - val_loss: 3.1477 - val_categorical_accuracy: 0.3206\n",
            "Epoch 11/20\n",
            "198/198 [==============================] - 4s 21ms/step - loss: 1.0961 - categorical_accuracy: 0.7741 - val_loss: 3.3721 - val_categorical_accuracy: 0.3222\n",
            "Epoch 12/20\n",
            "198/198 [==============================] - 4s 20ms/step - loss: 1.0068 - categorical_accuracy: 0.8116 - val_loss: 3.5421 - val_categorical_accuracy: 0.3161\n",
            "Epoch 13/20\n",
            "198/198 [==============================] - 2s 10ms/step - loss: 0.9306 - categorical_accuracy: 0.8429 - val_loss: 3.7665 - val_categorical_accuracy: 0.3194\n",
            "Epoch 14/20\n",
            "198/198 [==============================] - 2s 10ms/step - loss: 0.8663 - categorical_accuracy: 0.8673 - val_loss: 3.9270 - val_categorical_accuracy: 0.3162\n",
            "Epoch 15/20\n",
            "198/198 [==============================] - 2s 10ms/step - loss: 0.8119 - categorical_accuracy: 0.8852 - val_loss: 4.1171 - val_categorical_accuracy: 0.3136\n",
            "Epoch 16/20\n",
            "198/198 [==============================] - 2s 10ms/step - loss: 0.7633 - categorical_accuracy: 0.8987 - val_loss: 4.2527 - val_categorical_accuracy: 0.3178\n",
            "Epoch 17/20\n",
            "198/198 [==============================] - 2s 10ms/step - loss: 0.7288 - categorical_accuracy: 0.9082 - val_loss: 4.4078 - val_categorical_accuracy: 0.3092\n",
            "Epoch 18/20\n",
            "198/198 [==============================] - 2s 10ms/step - loss: 0.6886 - categorical_accuracy: 0.9196 - val_loss: 4.5328 - val_categorical_accuracy: 0.3130\n",
            "Epoch 19/20\n",
            "198/198 [==============================] - 2s 11ms/step - loss: 0.6612 - categorical_accuracy: 0.9244 - val_loss: 4.6144 - val_categorical_accuracy: 0.3137\n",
            "Epoch 20/20\n",
            "198/198 [==============================] - 2s 12ms/step - loss: 0.6370 - categorical_accuracy: 0.9284 - val_loss: 4.7281 - val_categorical_accuracy: 0.3110\n"
          ]
        },
        {
          "data": {
            "text/html": [
              "Finishing last run (ID:30u2zfjb) before initializing another..."
            ],
            "text/plain": [
              "<IPython.core.display.HTML object>"
            ]
          },
          "metadata": {},
          "output_type": "display_data"
        },
        {
          "data": {
            "text/html": [
              "Waiting for W&B process to finish... <strong style=\"color:green\">(success).</strong>"
            ],
            "text/plain": [
              "<IPython.core.display.HTML object>"
            ]
          },
          "metadata": {},
          "output_type": "display_data"
        },
        {
          "data": {
            "text/html": [
              "<style>\n",
              "    table.wandb td:nth-child(1) { padding: 0 10px; text-align: left ; width: auto;} td:nth-child(2) {text-align: left ; width: 100%}\n",
              "    .wandb-row { display: flex; flex-direction: row; flex-wrap: wrap; justify-content: flex-start; width: 100% }\n",
              "    .wandb-col { display: flex; flex-direction: column; flex-basis: 100%; flex: 1; padding: 10px; }\n",
              "    </style>\n",
              "<div class=\"wandb-row\"><div class=\"wandb-col\"><h3>Run history:</h3><br/><table class=\"wandb\"><tr><td>train_accuracy</td><td>▁▁▂▃▄▄▅▆▇▇██████████</td></tr><tr><td>train_loss</td><td>█▇▆▅▅▄▄▃▃▂▂▂▂▂▁▁▁▁▁▁</td></tr><tr><td>val_accuracy</td><td>▁▃▆▇████▇▇▇▇▇▇▇▇▇▇▇▇</td></tr><tr><td>val_loss</td><td>▂▁▁▁▁▂▂▃▄▅▅▆▆▇▇▇████</td></tr></table><br/></div><div class=\"wandb-col\"><h3>Run summary:</h3><br/><table class=\"wandb\"><tr><td>train_accuracy</td><td>0.99862</td></tr><tr><td>train_loss</td><td>0.35267</td></tr><tr><td>val_accuracy</td><td>0.30754</td></tr><tr><td>val_loss</td><td>4.62097</td></tr></table><br/></div></div>"
            ],
            "text/plain": [
              "<IPython.core.display.HTML object>"
            ]
          },
          "metadata": {},
          "output_type": "display_data"
        },
        {
          "data": {
            "text/html": [
              "Synced <strong style=\"color:#cdcd00\">robust-smoke-77</strong>: <a href=\"https://wandb.ai/thanh-bv/News%20Classification/runs/30u2zfjb\" target=\"_blank\">https://wandb.ai/thanh-bv/News%20Classification/runs/30u2zfjb</a><br/>Synced 5 W&B file(s), 0 media file(s), 0 artifact file(s) and 0 other file(s)"
            ],
            "text/plain": [
              "<IPython.core.display.HTML object>"
            ]
          },
          "metadata": {},
          "output_type": "display_data"
        },
        {
          "data": {
            "text/html": [
              "Find logs at: <code>.\\wandb\\run-20230614_185910-30u2zfjb\\logs</code>"
            ],
            "text/plain": [
              "<IPython.core.display.HTML object>"
            ]
          },
          "metadata": {},
          "output_type": "display_data"
        },
        {
          "data": {
            "text/html": [
              "Successfully finished last run (ID:30u2zfjb). Initializing new run:<br/>"
            ],
            "text/plain": [
              "<IPython.core.display.HTML object>"
            ]
          },
          "metadata": {},
          "output_type": "display_data"
        },
        {
          "data": {
            "text/html": [
              "wandb version 0.15.4 is available!  To upgrade, please run:\n",
              " $ pip install wandb --upgrade"
            ],
            "text/plain": [
              "<IPython.core.display.HTML object>"
            ]
          },
          "metadata": {},
          "output_type": "display_data"
        },
        {
          "data": {
            "text/html": [
              "Tracking run with wandb version 0.13.5"
            ],
            "text/plain": [
              "<IPython.core.display.HTML object>"
            ]
          },
          "metadata": {},
          "output_type": "display_data"
        },
        {
          "data": {
            "text/html": [
              "Run data is saved locally in <code>d:\\Study\\20222\\ML &DM\\Project\\20222_DMML_Project\\wandb\\run-20230614_190031-2a0c6ql1</code>"
            ],
            "text/plain": [
              "<IPython.core.display.HTML object>"
            ]
          },
          "metadata": {},
          "output_type": "display_data"
        },
        {
          "data": {
            "text/html": [
              "Syncing run <strong><a href=\"https://wandb.ai/thanh-bv/News%20Classification/runs/2a0c6ql1\" target=\"_blank\">fast-smoke-78</a></strong> to <a href=\"https://wandb.ai/thanh-bv/News%20Classification\" target=\"_blank\">Weights & Biases</a> (<a href=\"https://wandb.me/run\" target=\"_blank\">docs</a>)<br/>"
            ],
            "text/plain": [
              "<IPython.core.display.HTML object>"
            ]
          },
          "metadata": {},
          "output_type": "display_data"
        },
        {
          "name": "stdout",
          "output_type": "stream",
          "text": [
            "88/88 [==============================] - 0s 2ms/step\n",
            "For each class: \n",
            "Accuracy:  tensor([0.3038, 0.2389, 0.3253, 0.2742, 0.4179, 0.2141, 0.5311, 0.1836, 0.1956,\n",
            "        0.4067, 0.3463, 0.4105, 0.3932, 0.2438, 0.2300, 0.0000, 0.0000, 0.0000,\n",
            "        0.0000, 0.0000, 0.0000, 0.0000, 0.0000, 0.0000, 0.0000, 0.0000, 0.0000,\n",
            "        0.0000, 0.0000, 0.0000, 0.0000, 0.0000, 0.0000, 0.0000, 0.0000, 0.0000,\n",
            "        0.0000, 0.0000, 0.0000, 0.0000])\n",
            "Precision:  tensor([0.1874, 0.2950, 0.5553, 0.2085, 0.4775, 0.1398, 0.5032, 0.2442, 0.1496,\n",
            "        0.4457, 0.5111, 0.4203, 0.6799, 0.2067, 0.2774, 0.0000, 0.0000, 0.0000,\n",
            "        0.0000, 0.0000, 0.0000, 0.0000, 0.0000, 0.0000, 0.0000, 0.0000, 0.0000,\n",
            "        0.0000, 0.0000, 0.0000, 0.0000, 0.0000, 0.0000, 0.0000, 0.0000, 0.0000,\n",
            "        0.0000, 0.0000, 0.0000, 0.0000])\n",
            "Recall:  tensor([0.3038, 0.2389, 0.3253, 0.2742, 0.4179, 0.2141, 0.5311, 0.1836, 0.1956,\n",
            "        0.4067, 0.3463, 0.4105, 0.3932, 0.2438, 0.2300, 0.0000, 0.0000, 0.0000,\n",
            "        0.0000, 0.0000, 0.0000, 0.0000, 0.0000, 0.0000, 0.0000, 0.0000, 0.0000,\n",
            "        0.0000, 0.0000, 0.0000, 0.0000, 0.0000, 0.0000, 0.0000, 0.0000, 0.0000,\n",
            "        0.0000, 0.0000, 0.0000, 0.0000])\n",
            "F1-score:  tensor([0.2318, 0.2640, 0.4103, 0.2369, 0.4457, 0.1691, 0.5168, 0.2096, 0.1695,\n",
            "        0.4253, 0.4129, 0.4153, 0.4983, 0.2237, 0.2515, 0.0000, 0.0000, 0.0000,\n",
            "        0.0000, 0.0000, 0.0000, 0.0000, 0.0000, 0.0000, 0.0000, 0.0000, 0.0000,\n",
            "        0.0000, 0.0000, 0.0000, 0.0000, 0.0000, 0.0000, 0.0000, 0.0000, 0.0000,\n",
            "        0.0000, 0.0000, 0.0000, 0.0000])\n",
            "Type:  micro\n",
            "Accuracy:  tensor(0.3135)\n",
            "Precision:  tensor(0.3135)\n",
            "Recall:  tensor(0.3135)\n",
            "F1-score:  tensor(0.3135)\n",
            "Type:  macro\n",
            "Accuracy:  tensor(0.1179)\n",
            "Precision:  tensor(0.1325)\n",
            "Recall:  tensor(0.1179)\n",
            "F1-score:  tensor(0.1220)\n",
            "Type:  weighted\n",
            "Accuracy:  tensor(0.3135)\n",
            "Precision:  tensor(0.3533)\n",
            "Recall:  tensor(0.3135)\n",
            "F1-score:  tensor(0.3248)\n",
            "Epoch 1/20\n",
            "198/198 [==============================] - 2s 10ms/step - loss: 2.9630 - categorical_accuracy: 0.1566 - val_loss: 2.5981 - val_categorical_accuracy: 0.1161\n",
            "Epoch 2/20\n",
            "198/198 [==============================] - 2s 10ms/step - loss: 2.4799 - categorical_accuracy: 0.1363 - val_loss: 2.3893 - val_categorical_accuracy: 0.1897\n",
            "Epoch 3/20\n",
            "198/198 [==============================] - 2s 9ms/step - loss: 2.3123 - categorical_accuracy: 0.1858 - val_loss: 2.3181 - val_categorical_accuracy: 0.2059\n",
            "Epoch 4/20\n",
            "198/198 [==============================] - 2s 9ms/step - loss: 2.1941 - categorical_accuracy: 0.2346 - val_loss: 2.2698 - val_categorical_accuracy: 0.2363\n",
            "Epoch 5/20\n",
            "198/198 [==============================] - 3s 13ms/step - loss: 2.0302 - categorical_accuracy: 0.3126 - val_loss: 2.2368 - val_categorical_accuracy: 0.2789\n",
            "Epoch 6/20\n",
            "198/198 [==============================] - 2s 11ms/step - loss: 1.8615 - categorical_accuracy: 0.3811 - val_loss: 2.2804 - val_categorical_accuracy: 0.3000\n",
            "Epoch 7/20\n",
            "198/198 [==============================] - 3s 13ms/step - loss: 1.7280 - categorical_accuracy: 0.4338 - val_loss: 2.3744 - val_categorical_accuracy: 0.3067\n",
            "Epoch 8/20\n",
            "198/198 [==============================] - 2s 10ms/step - loss: 1.6075 - categorical_accuracy: 0.4932 - val_loss: 2.5410 - val_categorical_accuracy: 0.3024\n",
            "Epoch 9/20\n",
            "198/198 [==============================] - 2s 10ms/step - loss: 1.5003 - categorical_accuracy: 0.5412 - val_loss: 2.6780 - val_categorical_accuracy: 0.3101\n",
            "Epoch 10/20\n",
            "198/198 [==============================] - 2s 11ms/step - loss: 1.3920 - categorical_accuracy: 0.5912 - val_loss: 2.8607 - val_categorical_accuracy: 0.3100\n",
            "Epoch 11/20\n",
            "198/198 [==============================] - 2s 12ms/step - loss: 1.3097 - categorical_accuracy: 0.6398 - val_loss: 3.0113 - val_categorical_accuracy: 0.3168\n",
            "Epoch 12/20\n",
            "198/198 [==============================] - 2s 9ms/step - loss: 1.2239 - categorical_accuracy: 0.6776 - val_loss: 3.2207 - val_categorical_accuracy: 0.3137\n",
            "Epoch 13/20\n",
            "198/198 [==============================] - 2s 13ms/step - loss: 1.1624 - categorical_accuracy: 0.7112 - val_loss: 3.3861 - val_categorical_accuracy: 0.3124\n",
            "Epoch 14/20\n",
            "198/198 [==============================] - 2s 12ms/step - loss: 1.0987 - categorical_accuracy: 0.7401 - val_loss: 3.5735 - val_categorical_accuracy: 0.3133\n",
            "Epoch 15/20\n",
            "198/198 [==============================] - 2s 9ms/step - loss: 1.0495 - categorical_accuracy: 0.7604 - val_loss: 3.6973 - val_categorical_accuracy: 0.3109\n",
            "Epoch 16/20\n",
            "198/198 [==============================] - 2s 9ms/step - loss: 0.9924 - categorical_accuracy: 0.7881 - val_loss: 3.9291 - val_categorical_accuracy: 0.3107\n",
            "Epoch 17/20\n",
            "198/198 [==============================] - 2s 9ms/step - loss: 0.9494 - categorical_accuracy: 0.8047 - val_loss: 4.0701 - val_categorical_accuracy: 0.3096\n",
            "Epoch 18/20\n",
            "198/198 [==============================] - 2s 9ms/step - loss: 0.9105 - categorical_accuracy: 0.8225 - val_loss: 4.1686 - val_categorical_accuracy: 0.3160\n",
            "Epoch 19/20\n",
            "198/198 [==============================] - 2s 9ms/step - loss: 0.8713 - categorical_accuracy: 0.8335 - val_loss: 4.3457 - val_categorical_accuracy: 0.3101\n",
            "Epoch 20/20\n",
            "198/198 [==============================] - 2s 10ms/step - loss: 0.8400 - categorical_accuracy: 0.8448 - val_loss: 4.4582 - val_categorical_accuracy: 0.3072\n"
          ]
        },
        {
          "data": {
            "text/html": [
              "Finishing last run (ID:2a0c6ql1) before initializing another..."
            ],
            "text/plain": [
              "<IPython.core.display.HTML object>"
            ]
          },
          "metadata": {},
          "output_type": "display_data"
        },
        {
          "data": {
            "text/html": [
              "Waiting for W&B process to finish... <strong style=\"color:green\">(success).</strong>"
            ],
            "text/plain": [
              "<IPython.core.display.HTML object>"
            ]
          },
          "metadata": {},
          "output_type": "display_data"
        },
        {
          "data": {
            "text/html": [
              "<style>\n",
              "    table.wandb td:nth-child(1) { padding: 0 10px; text-align: left ; width: auto;} td:nth-child(2) {text-align: left ; width: 100%}\n",
              "    .wandb-row { display: flex; flex-direction: row; flex-wrap: wrap; justify-content: flex-start; width: 100% }\n",
              "    .wandb-col { display: flex; flex-direction: column; flex-basis: 100%; flex: 1; padding: 10px; }\n",
              "    </style>\n",
              "<div class=\"wandb-row\"><div class=\"wandb-col\"><h3>Run history:</h3><br/><table class=\"wandb\"><tr><td>train_accuracy</td><td>▁▁▂▂▃▄▅▅▆▆▇▇▇▇██████</td></tr><tr><td>train_loss</td><td>█▇▆▅▅▄▄▃▃▃▂▂▂▂▂▁▁▁▁▁</td></tr><tr><td>val_accuracy</td><td>▁▃▅▇██████████▇█▇▇▇▇</td></tr><tr><td>val_loss</td><td>▂▂▁▁▁▁▂▂▃▄▄▅▅▆▆▇▇▇██</td></tr></table><br/></div><div class=\"wandb-col\"><h3>Run summary:</h3><br/><table class=\"wandb\"><tr><td>train_accuracy</td><td>0.92841</td></tr><tr><td>train_loss</td><td>0.63696</td></tr><tr><td>val_accuracy</td><td>0.31097</td></tr><tr><td>val_loss</td><td>4.72813</td></tr></table><br/></div></div>"
            ],
            "text/plain": [
              "<IPython.core.display.HTML object>"
            ]
          },
          "metadata": {},
          "output_type": "display_data"
        },
        {
          "data": {
            "text/html": [
              "Synced <strong style=\"color:#cdcd00\">fast-smoke-78</strong>: <a href=\"https://wandb.ai/thanh-bv/News%20Classification/runs/2a0c6ql1\" target=\"_blank\">https://wandb.ai/thanh-bv/News%20Classification/runs/2a0c6ql1</a><br/>Synced 5 W&B file(s), 0 media file(s), 0 artifact file(s) and 0 other file(s)"
            ],
            "text/plain": [
              "<IPython.core.display.HTML object>"
            ]
          },
          "metadata": {},
          "output_type": "display_data"
        },
        {
          "data": {
            "text/html": [
              "Find logs at: <code>.\\wandb\\run-20230614_190031-2a0c6ql1\\logs</code>"
            ],
            "text/plain": [
              "<IPython.core.display.HTML object>"
            ]
          },
          "metadata": {},
          "output_type": "display_data"
        },
        {
          "data": {
            "text/html": [
              "Successfully finished last run (ID:2a0c6ql1). Initializing new run:<br/>"
            ],
            "text/plain": [
              "<IPython.core.display.HTML object>"
            ]
          },
          "metadata": {},
          "output_type": "display_data"
        },
        {
          "data": {
            "text/html": [
              "wandb version 0.15.4 is available!  To upgrade, please run:\n",
              " $ pip install wandb --upgrade"
            ],
            "text/plain": [
              "<IPython.core.display.HTML object>"
            ]
          },
          "metadata": {},
          "output_type": "display_data"
        },
        {
          "data": {
            "text/html": [
              "Tracking run with wandb version 0.13.5"
            ],
            "text/plain": [
              "<IPython.core.display.HTML object>"
            ]
          },
          "metadata": {},
          "output_type": "display_data"
        },
        {
          "data": {
            "text/html": [
              "Run data is saved locally in <code>d:\\Study\\20222\\ML &DM\\Project\\20222_DMML_Project\\wandb\\run-20230614_190122-1sajuxpy</code>"
            ],
            "text/plain": [
              "<IPython.core.display.HTML object>"
            ]
          },
          "metadata": {},
          "output_type": "display_data"
        },
        {
          "data": {
            "text/html": [
              "Syncing run <strong><a href=\"https://wandb.ai/thanh-bv/News%20Classification/runs/1sajuxpy\" target=\"_blank\">hardy-butterfly-79</a></strong> to <a href=\"https://wandb.ai/thanh-bv/News%20Classification\" target=\"_blank\">Weights & Biases</a> (<a href=\"https://wandb.me/run\" target=\"_blank\">docs</a>)<br/>"
            ],
            "text/plain": [
              "<IPython.core.display.HTML object>"
            ]
          },
          "metadata": {},
          "output_type": "display_data"
        },
        {
          "name": "stdout",
          "output_type": "stream",
          "text": [
            "88/88 [==============================] - 0s 2ms/step\n",
            "For each class: \n",
            "Accuracy:  tensor([0.2847, 0.2416, 0.2554, 0.2781, 0.4231, 0.2314, 0.5527, 0.2145, 0.2282,\n",
            "        0.3994, 0.3940, 0.4063, 0.3973, 0.1940, 0.1736, 0.0000, 0.0000, 0.0000,\n",
            "        0.0000, 0.0000, 0.0000, 0.0000, 0.0000, 0.0000, 0.0000, 0.0000, 0.0000,\n",
            "        0.0000, 0.0000, 0.0000, 0.0000, 0.0000, 0.0000, 0.0000, 0.0000, 0.0000,\n",
            "        0.0000, 0.0000, 0.0000, 0.0000])\n",
            "Precision:  tensor([0.2043, 0.2111, 0.4277, 0.2430, 0.4460, 0.1413, 0.4846, 0.2540, 0.1432,\n",
            "        0.4544, 0.6181, 0.4525, 0.6519, 0.2067, 0.2910, 0.0000, 0.0000, 0.0000,\n",
            "        0.0000, 0.0000, 0.0000, 0.0000, 0.0000, 0.0000, 0.0000, 0.0000, 0.0000,\n",
            "        0.0000, 0.0000, 0.0000, 0.0000, 0.0000, 0.0000, 0.0000, 0.0000, 0.0000,\n",
            "        0.0000, 0.0000, 0.0000, 0.0000])\n",
            "Recall:  tensor([0.2847, 0.2416, 0.2554, 0.2781, 0.4231, 0.2314, 0.5527, 0.2145, 0.2282,\n",
            "        0.3994, 0.3940, 0.4063, 0.3973, 0.1940, 0.1736, 0.0000, 0.0000, 0.0000,\n",
            "        0.0000, 0.0000, 0.0000, 0.0000, 0.0000, 0.0000, 0.0000, 0.0000, 0.0000,\n",
            "        0.0000, 0.0000, 0.0000, 0.0000, 0.0000, 0.0000, 0.0000, 0.0000, 0.0000,\n",
            "        0.0000, 0.0000, 0.0000, 0.0000])\n",
            "F1-score:  tensor([0.2379, 0.2253, 0.3198, 0.2594, 0.4343, 0.1755, 0.5164, 0.2326, 0.1760,\n",
            "        0.4251, 0.4812, 0.4282, 0.4937, 0.2001, 0.2174, 0.0000, 0.0000, 0.0000,\n",
            "        0.0000, 0.0000, 0.0000, 0.0000, 0.0000, 0.0000, 0.0000, 0.0000, 0.0000,\n",
            "        0.0000, 0.0000, 0.0000, 0.0000, 0.0000, 0.0000, 0.0000, 0.0000, 0.0000,\n",
            "        0.0000, 0.0000, 0.0000, 0.0000])\n",
            "Type:  micro\n",
            "Accuracy:  tensor(0.3109)\n",
            "Precision:  tensor(0.3109)\n",
            "Recall:  tensor(0.3109)\n",
            "F1-score:  tensor(0.3109)\n",
            "Type:  macro\n",
            "Accuracy:  tensor(0.1169)\n",
            "Precision:  tensor(0.1307)\n",
            "Recall:  tensor(0.1169)\n",
            "F1-score:  tensor(0.1206)\n",
            "Type:  weighted\n",
            "Accuracy:  tensor(0.3109)\n",
            "Precision:  tensor(0.3486)\n",
            "Recall:  tensor(0.3109)\n",
            "F1-score:  tensor(0.3210)\n",
            "Epoch 1/20\n",
            "198/198 [==============================] - 3s 10ms/step - loss: 80.3026 - categorical_accuracy: 0.2003 - val_loss: 30.7441 - val_categorical_accuracy: 0.2890\n",
            "Epoch 2/20\n",
            "198/198 [==============================] - 2s 9ms/step - loss: 13.5173 - categorical_accuracy: 0.4242 - val_loss: 14.4582 - val_categorical_accuracy: 0.4253\n",
            "Epoch 3/20\n",
            "198/198 [==============================] - 2s 10ms/step - loss: 5.8788 - categorical_accuracy: 0.5817 - val_loss: 11.4482 - val_categorical_accuracy: 0.4644\n",
            "Epoch 4/20\n",
            "198/198 [==============================] - 2s 11ms/step - loss: 4.2881 - categorical_accuracy: 0.6594 - val_loss: 10.0669 - val_categorical_accuracy: 0.4833\n",
            "Epoch 5/20\n",
            "198/198 [==============================] - 2s 11ms/step - loss: 3.5411 - categorical_accuracy: 0.7025 - val_loss: 9.1630 - val_categorical_accuracy: 0.4979\n",
            "Epoch 6/20\n",
            "198/198 [==============================] - 2s 11ms/step - loss: 3.0244 - categorical_accuracy: 0.7364 - val_loss: 8.5173 - val_categorical_accuracy: 0.5007\n",
            "Epoch 7/20\n",
            "198/198 [==============================] - 2s 9ms/step - loss: 2.6276 - categorical_accuracy: 0.7598 - val_loss: 7.9187 - val_categorical_accuracy: 0.5087\n",
            "Epoch 8/20\n",
            "198/198 [==============================] - 2s 11ms/step - loss: 2.3017 - categorical_accuracy: 0.7820 - val_loss: 7.5026 - val_categorical_accuracy: 0.5140\n",
            "Epoch 9/20\n",
            "198/198 [==============================] - 2s 9ms/step - loss: 2.0329 - categorical_accuracy: 0.7980 - val_loss: 7.2026 - val_categorical_accuracy: 0.5133\n",
            "Epoch 10/20\n",
            "198/198 [==============================] - 2s 9ms/step - loss: 1.8116 - categorical_accuracy: 0.8121 - val_loss: 6.8551 - val_categorical_accuracy: 0.5199\n",
            "Epoch 11/20\n",
            "198/198 [==============================] - 2s 9ms/step - loss: 1.6297 - categorical_accuracy: 0.8259 - val_loss: 6.7406 - val_categorical_accuracy: 0.5151\n",
            "Epoch 12/20\n",
            "198/198 [==============================] - 2s 9ms/step - loss: 1.4787 - categorical_accuracy: 0.8357 - val_loss: 6.5045 - val_categorical_accuracy: 0.5154\n",
            "Epoch 13/20\n",
            "198/198 [==============================] - 2s 9ms/step - loss: 1.3526 - categorical_accuracy: 0.8478 - val_loss: 6.4701 - val_categorical_accuracy: 0.5186\n",
            "Epoch 14/20\n",
            "198/198 [==============================] - 2s 9ms/step - loss: 1.2385 - categorical_accuracy: 0.8584 - val_loss: 6.3096 - val_categorical_accuracy: 0.5160\n",
            "Epoch 15/20\n",
            "198/198 [==============================] - 2s 9ms/step - loss: 1.1408 - categorical_accuracy: 0.8664 - val_loss: 6.2120 - val_categorical_accuracy: 0.5210\n",
            "Epoch 16/20\n",
            "198/198 [==============================] - 2s 9ms/step - loss: 1.0536 - categorical_accuracy: 0.8741 - val_loss: 6.2114 - val_categorical_accuracy: 0.5145\n",
            "Epoch 17/20\n",
            "198/198 [==============================] - 2s 9ms/step - loss: 0.9734 - categorical_accuracy: 0.8825 - val_loss: 6.2613 - val_categorical_accuracy: 0.5137\n",
            "Epoch 18/20\n",
            "198/198 [==============================] - 2s 9ms/step - loss: 0.9003 - categorical_accuracy: 0.8905 - val_loss: 6.2104 - val_categorical_accuracy: 0.5146\n",
            "Epoch 19/20\n",
            "198/198 [==============================] - 2s 9ms/step - loss: 0.8335 - categorical_accuracy: 0.8961 - val_loss: 6.1374 - val_categorical_accuracy: 0.5177\n",
            "Epoch 20/20\n",
            "198/198 [==============================] - 2s 9ms/step - loss: 0.7756 - categorical_accuracy: 0.9011 - val_loss: 6.2554 - val_categorical_accuracy: 0.5132\n"
          ]
        },
        {
          "data": {
            "text/html": [
              "Finishing last run (ID:1sajuxpy) before initializing another..."
            ],
            "text/plain": [
              "<IPython.core.display.HTML object>"
            ]
          },
          "metadata": {},
          "output_type": "display_data"
        },
        {
          "data": {
            "text/html": [
              "Waiting for W&B process to finish... <strong style=\"color:green\">(success).</strong>"
            ],
            "text/plain": [
              "<IPython.core.display.HTML object>"
            ]
          },
          "metadata": {},
          "output_type": "display_data"
        },
        {
          "data": {
            "text/html": [
              "<style>\n",
              "    table.wandb td:nth-child(1) { padding: 0 10px; text-align: left ; width: auto;} td:nth-child(2) {text-align: left ; width: 100%}\n",
              "    .wandb-row { display: flex; flex-direction: row; flex-wrap: wrap; justify-content: flex-start; width: 100% }\n",
              "    .wandb-col { display: flex; flex-direction: column; flex-basis: 100%; flex: 1; padding: 10px; }\n",
              "    </style>\n",
              "<div class=\"wandb-row\"><div class=\"wandb-col\"><h3>Run history:</h3><br/><table class=\"wandb\"><tr><td>train_accuracy</td><td>▁▁▁▂▃▃▄▅▅▅▆▆▇▇▇▇████</td></tr><tr><td>train_loss</td><td>█▆▆▅▅▄▄▄▃▃▃▂▂▂▂▂▁▁▁▁</td></tr><tr><td>val_accuracy</td><td>▁▄▄▅▇▇█▇████████████</td></tr><tr><td>val_loss</td><td>▂▁▁▁▁▁▁▂▂▃▃▄▅▅▆▆▇▇██</td></tr></table><br/></div><div class=\"wandb-col\"><h3>Run summary:</h3><br/><table class=\"wandb\"><tr><td>train_accuracy</td><td>0.84482</td></tr><tr><td>train_loss</td><td>0.84004</td></tr><tr><td>val_accuracy</td><td>0.30718</td></tr><tr><td>val_loss</td><td>4.45818</td></tr></table><br/></div></div>"
            ],
            "text/plain": [
              "<IPython.core.display.HTML object>"
            ]
          },
          "metadata": {},
          "output_type": "display_data"
        },
        {
          "data": {
            "text/html": [
              "Synced <strong style=\"color:#cdcd00\">hardy-butterfly-79</strong>: <a href=\"https://wandb.ai/thanh-bv/News%20Classification/runs/1sajuxpy\" target=\"_blank\">https://wandb.ai/thanh-bv/News%20Classification/runs/1sajuxpy</a><br/>Synced 5 W&B file(s), 0 media file(s), 0 artifact file(s) and 0 other file(s)"
            ],
            "text/plain": [
              "<IPython.core.display.HTML object>"
            ]
          },
          "metadata": {},
          "output_type": "display_data"
        },
        {
          "data": {
            "text/html": [
              "Find logs at: <code>.\\wandb\\run-20230614_190122-1sajuxpy\\logs</code>"
            ],
            "text/plain": [
              "<IPython.core.display.HTML object>"
            ]
          },
          "metadata": {},
          "output_type": "display_data"
        },
        {
          "data": {
            "text/html": [
              "Successfully finished last run (ID:1sajuxpy). Initializing new run:<br/>"
            ],
            "text/plain": [
              "<IPython.core.display.HTML object>"
            ]
          },
          "metadata": {},
          "output_type": "display_data"
        },
        {
          "data": {
            "text/html": [
              "wandb version 0.15.4 is available!  To upgrade, please run:\n",
              " $ pip install wandb --upgrade"
            ],
            "text/plain": [
              "<IPython.core.display.HTML object>"
            ]
          },
          "metadata": {},
          "output_type": "display_data"
        },
        {
          "data": {
            "text/html": [
              "Tracking run with wandb version 0.13.5"
            ],
            "text/plain": [
              "<IPython.core.display.HTML object>"
            ]
          },
          "metadata": {},
          "output_type": "display_data"
        },
        {
          "data": {
            "text/html": [
              "Run data is saved locally in <code>d:\\Study\\20222\\ML &DM\\Project\\20222_DMML_Project\\wandb\\run-20230614_190210-1i8juour</code>"
            ],
            "text/plain": [
              "<IPython.core.display.HTML object>"
            ]
          },
          "metadata": {},
          "output_type": "display_data"
        },
        {
          "data": {
            "text/html": [
              "Syncing run <strong><a href=\"https://wandb.ai/thanh-bv/News%20Classification/runs/1i8juour\" target=\"_blank\">electric-sun-80</a></strong> to <a href=\"https://wandb.ai/thanh-bv/News%20Classification\" target=\"_blank\">Weights & Biases</a> (<a href=\"https://wandb.me/run\" target=\"_blank\">docs</a>)<br/>"
            ],
            "text/plain": [
              "<IPython.core.display.HTML object>"
            ]
          },
          "metadata": {},
          "output_type": "display_data"
        },
        {
          "name": "stdout",
          "output_type": "stream",
          "text": [
            "88/88 [==============================] - 1s 7ms/step\n",
            "For each class: \n",
            "Accuracy:  tensor([0.5123, 0.4548, 0.4358, 0.4872, 0.6505, 0.3138, 0.6905, 0.4692, 0.4159,\n",
            "        0.6108, 0.5558, 0.6006, 0.6378, 0.5505, 0.3939, 0.0000, 0.0000, 0.0000,\n",
            "        0.0000, 0.0000, 0.0000, 0.0000, 0.0000, 0.0000, 0.0000, 0.0000, 0.0000,\n",
            "        0.0000, 0.0000, 0.0000, 0.0000, 0.0000, 0.0000, 0.0000, 0.0000, 0.0000,\n",
            "        0.0000, 0.0000, 0.0000, 0.0000])\n",
            "Precision:  tensor([0.3833, 0.4120, 0.6423, 0.3778, 0.7258, 0.3734, 0.6518, 0.4122, 0.3997,\n",
            "        0.6329, 0.6179, 0.6220, 0.7375, 0.5915, 0.3912, 0.0000, 0.0000, 0.0000,\n",
            "        0.0000, 0.0000, 0.0000, 0.0000, 0.0000, 0.0000, 0.0000, 0.0000, 0.0000,\n",
            "        0.0000, 0.0000, 0.0000, 0.0000, 0.0000, 0.0000, 0.0000, 0.0000, 0.0000,\n",
            "        0.0000, 0.0000, 0.0000, 0.0000])\n",
            "Recall:  tensor([0.5123, 0.4548, 0.4358, 0.4872, 0.6505, 0.3138, 0.6905, 0.4692, 0.4159,\n",
            "        0.6108, 0.5558, 0.6006, 0.6378, 0.5505, 0.3939, 0.0000, 0.0000, 0.0000,\n",
            "        0.0000, 0.0000, 0.0000, 0.0000, 0.0000, 0.0000, 0.0000, 0.0000, 0.0000,\n",
            "        0.0000, 0.0000, 0.0000, 0.0000, 0.0000, 0.0000, 0.0000, 0.0000, 0.0000,\n",
            "        0.0000, 0.0000, 0.0000, 0.0000])\n",
            "F1-score:  tensor([0.4385, 0.4323, 0.5193, 0.4256, 0.6861, 0.3410, 0.6706, 0.4389, 0.4077,\n",
            "        0.6217, 0.5852, 0.6111, 0.6841, 0.5703, 0.3926, 0.0000, 0.0000, 0.0000,\n",
            "        0.0000, 0.0000, 0.0000, 0.0000, 0.0000, 0.0000, 0.0000, 0.0000, 0.0000,\n",
            "        0.0000, 0.0000, 0.0000, 0.0000, 0.0000, 0.0000, 0.0000, 0.0000, 0.0000,\n",
            "        0.0000, 0.0000, 0.0000, 0.0000])\n",
            "Type:  micro\n",
            "Accuracy:  tensor(0.5178)\n",
            "Precision:  tensor(0.5178)\n",
            "Recall:  tensor(0.5178)\n",
            "F1-score:  tensor(0.5178)\n",
            "Type:  macro\n",
            "Accuracy:  tensor(0.1945)\n",
            "Precision:  tensor(0.1993)\n",
            "Recall:  tensor(0.1945)\n",
            "F1-score:  tensor(0.1956)\n",
            "Type:  weighted\n",
            "Accuracy:  tensor(0.5178)\n",
            "Precision:  tensor(0.5313)\n",
            "Recall:  tensor(0.5178)\n",
            "F1-score:  tensor(0.5211)\n",
            "Epoch 1/20\n",
            "198/198 [==============================] - 7s 23ms/step - loss: 96.3249 - categorical_accuracy: 0.2268 - val_loss: 48.3282 - val_categorical_accuracy: 0.2118\n",
            "Epoch 2/20\n",
            "198/198 [==============================] - 4s 20ms/step - loss: 26.1196 - categorical_accuracy: 0.2988 - val_loss: 18.0267 - val_categorical_accuracy: 0.3746\n",
            "Epoch 3/20\n",
            "198/198 [==============================] - 4s 21ms/step - loss: 8.6205 - categorical_accuracy: 0.4857 - val_loss: 12.7704 - val_categorical_accuracy: 0.4392\n",
            "Epoch 4/20\n",
            "198/198 [==============================] - 4s 20ms/step - loss: 5.5947 - categorical_accuracy: 0.5769 - val_loss: 10.9672 - val_categorical_accuracy: 0.4672\n",
            "Epoch 5/20\n",
            "198/198 [==============================] - 4s 21ms/step - loss: 4.4208 - categorical_accuracy: 0.6338 - val_loss: 9.9803 - val_categorical_accuracy: 0.4858\n",
            "Epoch 6/20\n",
            "198/198 [==============================] - 4s 20ms/step - loss: 3.7347 - categorical_accuracy: 0.6775 - val_loss: 9.3909 - val_categorical_accuracy: 0.4919\n",
            "Epoch 7/20\n",
            "198/198 [==============================] - 4s 21ms/step - loss: 3.2487 - categorical_accuracy: 0.7012 - val_loss: 8.7258 - val_categorical_accuracy: 0.4979\n",
            "Epoch 8/20\n",
            "198/198 [==============================] - 4s 21ms/step - loss: 2.8325 - categorical_accuracy: 0.7277 - val_loss: 8.2508 - val_categorical_accuracy: 0.5038\n",
            "Epoch 9/20\n",
            "198/198 [==============================] - 4s 21ms/step - loss: 2.5124 - categorical_accuracy: 0.7462 - val_loss: 7.9203 - val_categorical_accuracy: 0.5079\n",
            "Epoch 10/20\n",
            "198/198 [==============================] - 4s 20ms/step - loss: 2.2378 - categorical_accuracy: 0.7620 - val_loss: 7.7184 - val_categorical_accuracy: 0.5077\n",
            "Epoch 11/20\n",
            "198/198 [==============================] - 4s 21ms/step - loss: 2.0085 - categorical_accuracy: 0.7752 - val_loss: 7.5551 - val_categorical_accuracy: 0.5098\n",
            "Epoch 12/20\n",
            "198/198 [==============================] - 2s 11ms/step - loss: 1.8174 - categorical_accuracy: 0.7896 - val_loss: 7.4306 - val_categorical_accuracy: 0.5119\n",
            "Epoch 13/20\n",
            "198/198 [==============================] - 2s 9ms/step - loss: 1.6585 - categorical_accuracy: 0.7982 - val_loss: 7.2938 - val_categorical_accuracy: 0.5104\n",
            "Epoch 14/20\n",
            "198/198 [==============================] - 2s 10ms/step - loss: 1.5245 - categorical_accuracy: 0.8124 - val_loss: 7.3274 - val_categorical_accuracy: 0.5091\n",
            "Epoch 15/20\n",
            "198/198 [==============================] - 2s 11ms/step - loss: 1.3936 - categorical_accuracy: 0.8203 - val_loss: 7.2209 - val_categorical_accuracy: 0.5065\n",
            "Epoch 16/20\n",
            "198/198 [==============================] - 2s 10ms/step - loss: 1.2932 - categorical_accuracy: 0.8268 - val_loss: 7.1557 - val_categorical_accuracy: 0.5079\n",
            "Epoch 17/20\n",
            "198/198 [==============================] - 2s 11ms/step - loss: 1.1991 - categorical_accuracy: 0.8351 - val_loss: 7.1749 - val_categorical_accuracy: 0.5089\n",
            "Epoch 18/20\n",
            "198/198 [==============================] - 2s 12ms/step - loss: 1.1096 - categorical_accuracy: 0.8411 - val_loss: 7.1847 - val_categorical_accuracy: 0.5068\n",
            "Epoch 19/20\n",
            "198/198 [==============================] - 4s 21ms/step - loss: 1.0355 - categorical_accuracy: 0.8477 - val_loss: 7.1802 - val_categorical_accuracy: 0.5063\n",
            "Epoch 20/20\n",
            "198/198 [==============================] - 4s 21ms/step - loss: 0.9617 - categorical_accuracy: 0.8562 - val_loss: 7.3259 - val_categorical_accuracy: 0.5027\n"
          ]
        },
        {
          "data": {
            "text/html": [
              "Finishing last run (ID:1i8juour) before initializing another..."
            ],
            "text/plain": [
              "<IPython.core.display.HTML object>"
            ]
          },
          "metadata": {},
          "output_type": "display_data"
        },
        {
          "data": {
            "text/html": [
              "Waiting for W&B process to finish... <strong style=\"color:green\">(success).</strong>"
            ],
            "text/plain": [
              "<IPython.core.display.HTML object>"
            ]
          },
          "metadata": {},
          "output_type": "display_data"
        },
        {
          "data": {
            "text/html": [
              "<style>\n",
              "    table.wandb td:nth-child(1) { padding: 0 10px; text-align: left ; width: auto;} td:nth-child(2) {text-align: left ; width: 100%}\n",
              "    .wandb-row { display: flex; flex-direction: row; flex-wrap: wrap; justify-content: flex-start; width: 100% }\n",
              "    .wandb-col { display: flex; flex-direction: column; flex-basis: 100%; flex: 1; padding: 10px; }\n",
              "    </style>\n",
              "<div class=\"wandb-row\"><div class=\"wandb-col\"><h3>Run history:</h3><br/><table class=\"wandb\"><tr><td>train_accuracy</td><td>▁▃▅▆▆▆▇▇▇▇▇▇▇███████</td></tr><tr><td>train_loss</td><td>█▂▁▁▁▁▁▁▁▁▁▁▁▁▁▁▁▁▁▁</td></tr><tr><td>val_accuracy</td><td>▁▅▆▇▇▇██████████████</td></tr><tr><td>val_loss</td><td>█▃▃▂▂▂▂▁▁▁▁▁▁▁▁▁▁▁▁▁</td></tr></table><br/></div><div class=\"wandb-col\"><h3>Run summary:</h3><br/><table class=\"wandb\"><tr><td>train_accuracy</td><td>0.90107</td></tr><tr><td>train_loss</td><td>0.77557</td></tr><tr><td>val_accuracy</td><td>0.51315</td></tr><tr><td>val_loss</td><td>6.2554</td></tr></table><br/></div></div>"
            ],
            "text/plain": [
              "<IPython.core.display.HTML object>"
            ]
          },
          "metadata": {},
          "output_type": "display_data"
        },
        {
          "data": {
            "text/html": [
              "Synced <strong style=\"color:#cdcd00\">electric-sun-80</strong>: <a href=\"https://wandb.ai/thanh-bv/News%20Classification/runs/1i8juour\" target=\"_blank\">https://wandb.ai/thanh-bv/News%20Classification/runs/1i8juour</a><br/>Synced 5 W&B file(s), 0 media file(s), 0 artifact file(s) and 0 other file(s)"
            ],
            "text/plain": [
              "<IPython.core.display.HTML object>"
            ]
          },
          "metadata": {},
          "output_type": "display_data"
        },
        {
          "data": {
            "text/html": [
              "Find logs at: <code>.\\wandb\\run-20230614_190210-1i8juour\\logs</code>"
            ],
            "text/plain": [
              "<IPython.core.display.HTML object>"
            ]
          },
          "metadata": {},
          "output_type": "display_data"
        },
        {
          "data": {
            "text/html": [
              "Successfully finished last run (ID:1i8juour). Initializing new run:<br/>"
            ],
            "text/plain": [
              "<IPython.core.display.HTML object>"
            ]
          },
          "metadata": {},
          "output_type": "display_data"
        },
        {
          "data": {
            "text/html": [
              "wandb version 0.15.4 is available!  To upgrade, please run:\n",
              " $ pip install wandb --upgrade"
            ],
            "text/plain": [
              "<IPython.core.display.HTML object>"
            ]
          },
          "metadata": {},
          "output_type": "display_data"
        },
        {
          "data": {
            "text/html": [
              "Tracking run with wandb version 0.13.5"
            ],
            "text/plain": [
              "<IPython.core.display.HTML object>"
            ]
          },
          "metadata": {},
          "output_type": "display_data"
        },
        {
          "data": {
            "text/html": [
              "Run data is saved locally in <code>d:\\Study\\20222\\ML &DM\\Project\\20222_DMML_Project\\wandb\\run-20230614_190331-1x93celc</code>"
            ],
            "text/plain": [
              "<IPython.core.display.HTML object>"
            ]
          },
          "metadata": {},
          "output_type": "display_data"
        },
        {
          "data": {
            "text/html": [
              "Syncing run <strong><a href=\"https://wandb.ai/thanh-bv/News%20Classification/runs/1x93celc\" target=\"_blank\">zesty-pond-81</a></strong> to <a href=\"https://wandb.ai/thanh-bv/News%20Classification\" target=\"_blank\">Weights & Biases</a> (<a href=\"https://wandb.me/run\" target=\"_blank\">docs</a>)<br/>"
            ],
            "text/plain": [
              "<IPython.core.display.HTML object>"
            ]
          },
          "metadata": {},
          "output_type": "display_data"
        },
        {
          "name": "stdout",
          "output_type": "stream",
          "text": [
            "88/88 [==============================] - 1s 6ms/step\n",
            "For each class: \n",
            "Accuracy:  tensor([0.4237, 0.4845, 0.4752, 0.4005, 0.6491, 0.3644, 0.6797, 0.4960, 0.4302,\n",
            "        0.6137, 0.5797, 0.6708, 0.6189, 0.4522, 0.3526, 0.0000, 0.0000, 0.0000,\n",
            "        0.0000, 0.0000, 0.0000, 0.0000, 0.0000, 0.0000, 0.0000, 0.0000, 0.0000,\n",
            "        0.0000, 0.0000, 0.0000, 0.0000, 0.0000, 0.0000, 0.0000, 0.0000, 0.0000,\n",
            "        0.0000, 0.0000, 0.0000, 0.0000])\n",
            "Precision:  tensor([0.4449, 0.4141, 0.6585, 0.4015, 0.6595, 0.3142, 0.6202, 0.4167, 0.4204,\n",
            "        0.6331, 0.6252, 0.5578, 0.6971, 0.5259, 0.4006, 0.0000, 0.0000, 0.0000,\n",
            "        0.0000, 0.0000, 0.0000, 0.0000, 0.0000, 0.0000, 0.0000, 0.0000, 0.0000,\n",
            "        0.0000, 0.0000, 0.0000, 0.0000, 0.0000, 0.0000, 0.0000, 0.0000, 0.0000,\n",
            "        0.0000, 0.0000, 0.0000, 0.0000])\n",
            "Recall:  tensor([0.4237, 0.4845, 0.4752, 0.4005, 0.6491, 0.3644, 0.6797, 0.4960, 0.4302,\n",
            "        0.6137, 0.5797, 0.6708, 0.6189, 0.4522, 0.3526, 0.0000, 0.0000, 0.0000,\n",
            "        0.0000, 0.0000, 0.0000, 0.0000, 0.0000, 0.0000, 0.0000, 0.0000, 0.0000,\n",
            "        0.0000, 0.0000, 0.0000, 0.0000, 0.0000, 0.0000, 0.0000, 0.0000, 0.0000,\n",
            "        0.0000, 0.0000, 0.0000, 0.0000])\n",
            "F1-score:  tensor([0.4341, 0.4465, 0.5520, 0.4010, 0.6543, 0.3374, 0.6486, 0.4529, 0.4253,\n",
            "        0.6232, 0.6016, 0.6091, 0.6557, 0.4863, 0.3751, 0.0000, 0.0000, 0.0000,\n",
            "        0.0000, 0.0000, 0.0000, 0.0000, 0.0000, 0.0000, 0.0000, 0.0000, 0.0000,\n",
            "        0.0000, 0.0000, 0.0000, 0.0000, 0.0000, 0.0000, 0.0000, 0.0000, 0.0000,\n",
            "        0.0000, 0.0000, 0.0000, 0.0000])\n",
            "Type:  micro\n",
            "Accuracy:  tensor(0.5118)\n",
            "Precision:  tensor(0.5118)\n",
            "Recall:  tensor(0.5118)\n",
            "F1-score:  tensor(0.5118)\n",
            "Type:  macro\n",
            "Accuracy:  tensor(0.1923)\n",
            "Precision:  tensor(0.1947)\n",
            "Recall:  tensor(0.1923)\n",
            "F1-score:  tensor(0.1926)\n",
            "Type:  weighted\n",
            "Accuracy:  tensor(0.5118)\n",
            "Precision:  tensor(0.5193)\n",
            "Recall:  tensor(0.5118)\n",
            "F1-score:  tensor(0.5130)\n",
            "Epoch 1/20\n",
            "198/198 [==============================] - 7s 24ms/step - loss: 102.2335 - categorical_accuracy: 0.2145 - val_loss: 55.0831 - val_categorical_accuracy: 0.1934\n",
            "Epoch 2/20\n",
            "198/198 [==============================] - 4s 20ms/step - loss: 33.4974 - categorical_accuracy: 0.2579 - val_loss: 22.0987 - val_categorical_accuracy: 0.3462\n",
            "Epoch 3/20\n",
            "198/198 [==============================] - 4s 21ms/step - loss: 11.7986 - categorical_accuracy: 0.4151 - val_loss: 13.8325 - val_categorical_accuracy: 0.4129\n",
            "Epoch 4/20\n",
            "198/198 [==============================] - 4s 21ms/step - loss: 6.7432 - categorical_accuracy: 0.5207 - val_loss: 11.1218 - val_categorical_accuracy: 0.4666\n",
            "Epoch 5/20\n",
            "198/198 [==============================] - 4s 21ms/step - loss: 5.0284 - categorical_accuracy: 0.5857 - val_loss: 9.9376 - val_categorical_accuracy: 0.4851\n",
            "Epoch 6/20\n",
            "198/198 [==============================] - 4s 20ms/step - loss: 4.2412 - categorical_accuracy: 0.6297 - val_loss: 9.1003 - val_categorical_accuracy: 0.4962\n",
            "Epoch 7/20\n",
            "198/198 [==============================] - 4s 21ms/step - loss: 3.6525 - categorical_accuracy: 0.6682 - val_loss: 8.5319 - val_categorical_accuracy: 0.5066\n",
            "Epoch 8/20\n",
            "198/198 [==============================] - 4s 21ms/step - loss: 3.2102 - categorical_accuracy: 0.6857 - val_loss: 8.0592 - val_categorical_accuracy: 0.5122\n",
            "Epoch 9/20\n",
            "198/198 [==============================] - 4s 20ms/step - loss: 2.8585 - categorical_accuracy: 0.7147 - val_loss: 7.6975 - val_categorical_accuracy: 0.5132\n",
            "Epoch 10/20\n",
            "198/198 [==============================] - 4s 21ms/step - loss: 2.5789 - categorical_accuracy: 0.7270 - val_loss: 7.4105 - val_categorical_accuracy: 0.5156\n",
            "Epoch 11/20\n",
            "198/198 [==============================] - 4s 20ms/step - loss: 2.3186 - categorical_accuracy: 0.7393 - val_loss: 7.1864 - val_categorical_accuracy: 0.5175\n",
            "Epoch 12/20\n",
            "198/198 [==============================] - 4s 20ms/step - loss: 2.0877 - categorical_accuracy: 0.7610 - val_loss: 7.0001 - val_categorical_accuracy: 0.5143\n",
            "Epoch 13/20\n",
            "198/198 [==============================] - 4s 22ms/step - loss: 1.9099 - categorical_accuracy: 0.7709 - val_loss: 6.7949 - val_categorical_accuracy: 0.5196\n",
            "Epoch 14/20\n",
            "198/198 [==============================] - 4s 20ms/step - loss: 1.7545 - categorical_accuracy: 0.7819 - val_loss: 6.7122 - val_categorical_accuracy: 0.5180\n",
            "Epoch 15/20\n",
            "198/198 [==============================] - 4s 20ms/step - loss: 1.6179 - categorical_accuracy: 0.7909 - val_loss: 6.6206 - val_categorical_accuracy: 0.5190\n",
            "Epoch 16/20\n",
            "198/198 [==============================] - 4s 21ms/step - loss: 1.5037 - categorical_accuracy: 0.7979 - val_loss: 6.5982 - val_categorical_accuracy: 0.5174\n",
            "Epoch 17/20\n",
            "198/198 [==============================] - 4s 21ms/step - loss: 1.3952 - categorical_accuracy: 0.8080 - val_loss: 6.5318 - val_categorical_accuracy: 0.5181\n",
            "Epoch 18/20\n",
            "198/198 [==============================] - 3s 14ms/step - loss: 1.3012 - categorical_accuracy: 0.8160 - val_loss: 6.4798 - val_categorical_accuracy: 0.5168\n",
            "Epoch 19/20\n",
            "198/198 [==============================] - 3s 14ms/step - loss: 1.2154 - categorical_accuracy: 0.8230 - val_loss: 6.4867 - val_categorical_accuracy: 0.5187\n",
            "Epoch 20/20\n",
            "198/198 [==============================] - 2s 12ms/step - loss: 1.1365 - categorical_accuracy: 0.8316 - val_loss: 6.4314 - val_categorical_accuracy: 0.5183\n"
          ]
        },
        {
          "data": {
            "text/html": [
              "Finishing last run (ID:1x93celc) before initializing another..."
            ],
            "text/plain": [
              "<IPython.core.display.HTML object>"
            ]
          },
          "metadata": {},
          "output_type": "display_data"
        },
        {
          "data": {
            "text/html": [
              "Waiting for W&B process to finish... <strong style=\"color:green\">(success).</strong>"
            ],
            "text/plain": [
              "<IPython.core.display.HTML object>"
            ]
          },
          "metadata": {},
          "output_type": "display_data"
        },
        {
          "data": {
            "text/html": [
              "<style>\n",
              "    table.wandb td:nth-child(1) { padding: 0 10px; text-align: left ; width: auto;} td:nth-child(2) {text-align: left ; width: 100%}\n",
              "    .wandb-row { display: flex; flex-direction: row; flex-wrap: wrap; justify-content: flex-start; width: 100% }\n",
              "    .wandb-col { display: flex; flex-direction: column; flex-basis: 100%; flex: 1; padding: 10px; }\n",
              "    </style>\n",
              "<div class=\"wandb-row\"><div class=\"wandb-col\"><h3>Run history:</h3><br/><table class=\"wandb\"><tr><td>train_accuracy</td><td>▁▂▄▅▆▆▆▇▇▇▇▇▇███████</td></tr><tr><td>train_loss</td><td>█▃▂▁▁▁▁▁▁▁▁▁▁▁▁▁▁▁▁▁</td></tr><tr><td>val_accuracy</td><td>▁▅▆▇▇███████████████</td></tr><tr><td>val_loss</td><td>█▃▂▂▁▁▁▁▁▁▁▁▁▁▁▁▁▁▁▁</td></tr></table><br/></div><div class=\"wandb-col\"><h3>Run summary:</h3><br/><table class=\"wandb\"><tr><td>train_accuracy</td><td>0.85619</td></tr><tr><td>train_loss</td><td>0.96169</td></tr><tr><td>val_accuracy</td><td>0.50273</td></tr><tr><td>val_loss</td><td>7.32593</td></tr></table><br/></div></div>"
            ],
            "text/plain": [
              "<IPython.core.display.HTML object>"
            ]
          },
          "metadata": {},
          "output_type": "display_data"
        },
        {
          "data": {
            "text/html": [
              "Synced <strong style=\"color:#cdcd00\">zesty-pond-81</strong>: <a href=\"https://wandb.ai/thanh-bv/News%20Classification/runs/1x93celc\" target=\"_blank\">https://wandb.ai/thanh-bv/News%20Classification/runs/1x93celc</a><br/>Synced 5 W&B file(s), 0 media file(s), 0 artifact file(s) and 0 other file(s)"
            ],
            "text/plain": [
              "<IPython.core.display.HTML object>"
            ]
          },
          "metadata": {},
          "output_type": "display_data"
        },
        {
          "data": {
            "text/html": [
              "Find logs at: <code>.\\wandb\\run-20230614_190331-1x93celc\\logs</code>"
            ],
            "text/plain": [
              "<IPython.core.display.HTML object>"
            ]
          },
          "metadata": {},
          "output_type": "display_data"
        },
        {
          "data": {
            "text/html": [
              "Successfully finished last run (ID:1x93celc). Initializing new run:<br/>"
            ],
            "text/plain": [
              "<IPython.core.display.HTML object>"
            ]
          },
          "metadata": {},
          "output_type": "display_data"
        },
        {
          "data": {
            "text/html": [
              "wandb version 0.15.4 is available!  To upgrade, please run:\n",
              " $ pip install wandb --upgrade"
            ],
            "text/plain": [
              "<IPython.core.display.HTML object>"
            ]
          },
          "metadata": {},
          "output_type": "display_data"
        },
        {
          "data": {
            "text/html": [
              "Tracking run with wandb version 0.13.5"
            ],
            "text/plain": [
              "<IPython.core.display.HTML object>"
            ]
          },
          "metadata": {},
          "output_type": "display_data"
        },
        {
          "data": {
            "text/html": [
              "Run data is saved locally in <code>d:\\Study\\20222\\ML &DM\\Project\\20222_DMML_Project\\wandb\\run-20230614_190502-2axvhwk8</code>"
            ],
            "text/plain": [
              "<IPython.core.display.HTML object>"
            ]
          },
          "metadata": {},
          "output_type": "display_data"
        },
        {
          "data": {
            "text/html": [
              "Syncing run <strong><a href=\"https://wandb.ai/thanh-bv/News%20Classification/runs/2axvhwk8\" target=\"_blank\">vivid-voice-82</a></strong> to <a href=\"https://wandb.ai/thanh-bv/News%20Classification\" target=\"_blank\">Weights & Biases</a> (<a href=\"https://wandb.me/run\" target=\"_blank\">docs</a>)<br/>"
            ],
            "text/plain": [
              "<IPython.core.display.HTML object>"
            ]
          },
          "metadata": {},
          "output_type": "display_data"
        },
        {
          "name": "stdout",
          "output_type": "stream",
          "text": [
            "88/88 [==============================] - 0s 4ms/step\n",
            "For each class: \n",
            "Accuracy:  tensor([0.4946, 0.4602, 0.5019, 0.3431, 0.6912, 0.3830, 0.7000, 0.3968, 0.4459,\n",
            "        0.6050, 0.5935, 0.6281, 0.6730, 0.5439, 0.3719, 0.0000, 0.0000, 0.0000,\n",
            "        0.0000, 0.0000, 0.0000, 0.0000, 0.0000, 0.0000, 0.0000, 0.0000, 0.0000,\n",
            "        0.0000, 0.0000, 0.0000, 0.0000, 0.0000, 0.0000, 0.0000, 0.0000, 0.0000,\n",
            "        0.0000, 0.0000, 0.0000, 0.0000])\n",
            "Precision:  tensor([0.4454, 0.4710, 0.5418, 0.4250, 0.6858, 0.3578, 0.6599, 0.4554, 0.4111,\n",
            "        0.5764, 0.6095, 0.6247, 0.6813, 0.5341, 0.3479, 0.0000, 0.0000, 0.0000,\n",
            "        0.0000, 0.0000, 0.0000, 0.0000, 0.0000, 0.0000, 0.0000, 0.0000, 0.0000,\n",
            "        0.0000, 0.0000, 0.0000, 0.0000, 0.0000, 0.0000, 0.0000, 0.0000, 0.0000,\n",
            "        0.0000, 0.0000, 0.0000, 0.0000])\n",
            "Recall:  tensor([0.4946, 0.4602, 0.5019, 0.3431, 0.6912, 0.3830, 0.7000, 0.3968, 0.4459,\n",
            "        0.6050, 0.5935, 0.6281, 0.6730, 0.5439, 0.3719, 0.0000, 0.0000, 0.0000,\n",
            "        0.0000, 0.0000, 0.0000, 0.0000, 0.0000, 0.0000, 0.0000, 0.0000, 0.0000,\n",
            "        0.0000, 0.0000, 0.0000, 0.0000, 0.0000, 0.0000, 0.0000, 0.0000, 0.0000,\n",
            "        0.0000, 0.0000, 0.0000, 0.0000])\n",
            "F1-score:  tensor([0.4687, 0.4655, 0.5211, 0.3797, 0.6885, 0.3699, 0.6793, 0.4241, 0.4278,\n",
            "        0.5903, 0.6014, 0.6264, 0.6771, 0.5390, 0.3595, 0.0000, 0.0000, 0.0000,\n",
            "        0.0000, 0.0000, 0.0000, 0.0000, 0.0000, 0.0000, 0.0000, 0.0000, 0.0000,\n",
            "        0.0000, 0.0000, 0.0000, 0.0000, 0.0000, 0.0000, 0.0000, 0.0000, 0.0000,\n",
            "        0.0000, 0.0000, 0.0000, 0.0000])\n",
            "Type:  micro\n",
            "Accuracy:  tensor(0.5213)\n",
            "Precision:  tensor(0.5213)\n",
            "Recall:  tensor(0.5213)\n",
            "F1-score:  tensor(0.5213)\n",
            "Type:  macro\n",
            "Accuracy:  tensor(0.1958)\n",
            "Precision:  tensor(0.1957)\n",
            "Recall:  tensor(0.1958)\n",
            "F1-score:  tensor(0.1955)\n",
            "Type:  weighted\n",
            "Accuracy:  tensor(0.5213)\n",
            "Precision:  tensor(0.5217)\n",
            "Recall:  tensor(0.5213)\n",
            "F1-score:  tensor(0.5207)\n"
          ]
        }
      ],
      "source": [
        "losses = [tf.keras.losses.CategoricalCrossentropy(), FocalLoss()]\n",
        "for loss in losses:\n",
        "  models = [ANNModel(n_classes=15), ANNDropout(n_classes=15, dropout_rate=0.3), ANNDropout2(n_classes=15, dropout_rate=0.3)]\n",
        "  # models = [ANNModel(n_classes=6), ANNDropout(n_classes=6, dropout_rate=0.3), ANNDropout2(n_classes=6, dropout_rate=0.3)]\n",
        "  for model in models:\n",
        "    train(model, TRAIN_DATA, VAL_DATA, loss, optimizer, METRICS, epochs=20)\n",
        "    test(model, X_TEST, Y_TEST)"
      ]
    },
    {
      "cell_type": "code",
      "execution_count": null,
      "metadata": {},
      "outputs": [],
      "source": []
    }
  ],
  "metadata": {
    "accelerator": "GPU",
    "colab": {
      "provenance": []
    },
    "kernelspec": {
      "display_name": "Python 3",
      "name": "python3"
    },
    "language_info": {
      "codemirror_mode": {
        "name": "ipython",
        "version": 3
      },
      "file_extension": ".py",
      "mimetype": "text/x-python",
      "name": "python",
      "nbconvert_exporter": "python",
      "pygments_lexer": "ipython3",
      "version": "3.10.5"
    },
    "widgets": {
      "application/vnd.jupyter.widget-state+json": {
        "00a3a5c6820d4d958c7a33eb1f99dff0": {
          "model_module": "@jupyter-widgets/controls",
          "model_module_version": "1.5.0",
          "model_name": "DescriptionStyleModel",
          "state": {
            "_model_module": "@jupyter-widgets/controls",
            "_model_module_version": "1.5.0",
            "_model_name": "DescriptionStyleModel",
            "_view_count": null,
            "_view_module": "@jupyter-widgets/base",
            "_view_module_version": "1.2.0",
            "_view_name": "StyleView",
            "description_width": ""
          }
        },
        "35912b3fbecd4d248ca8d029e98d52e7": {
          "model_module": "@jupyter-widgets/controls",
          "model_module_version": "1.5.0",
          "model_name": "ProgressStyleModel",
          "state": {
            "_model_module": "@jupyter-widgets/controls",
            "_model_module_version": "1.5.0",
            "_model_name": "ProgressStyleModel",
            "_view_count": null,
            "_view_module": "@jupyter-widgets/base",
            "_view_module_version": "1.2.0",
            "_view_name": "StyleView",
            "bar_color": null,
            "description_width": ""
          }
        },
        "3b2f6f578a16466dba033e800d461941": {
          "model_module": "@jupyter-widgets/controls",
          "model_module_version": "1.5.0",
          "model_name": "VBoxModel",
          "state": {
            "_dom_classes": [],
            "_model_module": "@jupyter-widgets/controls",
            "_model_module_version": "1.5.0",
            "_model_name": "VBoxModel",
            "_view_count": null,
            "_view_module": "@jupyter-widgets/controls",
            "_view_module_version": "1.5.0",
            "_view_name": "VBoxView",
            "box_style": "",
            "children": [
              "IPY_MODEL_be3d5e89160948f39306329414e1c94a",
              "IPY_MODEL_672ab1653f864f4999fb2c8d71d0fbca"
            ],
            "layout": "IPY_MODEL_d0e98dc7ff8d4a4dbcf402bafaca54df"
          }
        },
        "549559f06c58402d80dcbc82c53b6f6b": {
          "model_module": "@jupyter-widgets/base",
          "model_module_version": "1.2.0",
          "model_name": "LayoutModel",
          "state": {
            "_model_module": "@jupyter-widgets/base",
            "_model_module_version": "1.2.0",
            "_model_name": "LayoutModel",
            "_view_count": null,
            "_view_module": "@jupyter-widgets/base",
            "_view_module_version": "1.2.0",
            "_view_name": "LayoutView",
            "align_content": null,
            "align_items": null,
            "align_self": null,
            "border": null,
            "bottom": null,
            "display": null,
            "flex": null,
            "flex_flow": null,
            "grid_area": null,
            "grid_auto_columns": null,
            "grid_auto_flow": null,
            "grid_auto_rows": null,
            "grid_column": null,
            "grid_gap": null,
            "grid_row": null,
            "grid_template_areas": null,
            "grid_template_columns": null,
            "grid_template_rows": null,
            "height": null,
            "justify_content": null,
            "justify_items": null,
            "left": null,
            "margin": null,
            "max_height": null,
            "max_width": null,
            "min_height": null,
            "min_width": null,
            "object_fit": null,
            "object_position": null,
            "order": null,
            "overflow": null,
            "overflow_x": null,
            "overflow_y": null,
            "padding": null,
            "right": null,
            "top": null,
            "visibility": null,
            "width": null
          }
        },
        "672ab1653f864f4999fb2c8d71d0fbca": {
          "model_module": "@jupyter-widgets/controls",
          "model_module_version": "1.5.0",
          "model_name": "FloatProgressModel",
          "state": {
            "_dom_classes": [],
            "_model_module": "@jupyter-widgets/controls",
            "_model_module_version": "1.5.0",
            "_model_name": "FloatProgressModel",
            "_view_count": null,
            "_view_module": "@jupyter-widgets/controls",
            "_view_module_version": "1.5.0",
            "_view_name": "ProgressView",
            "bar_style": "",
            "description": "",
            "description_tooltip": null,
            "layout": "IPY_MODEL_b5c9f504cc7742e881368fffe3eb9c99",
            "max": 1,
            "min": 0,
            "orientation": "horizontal",
            "style": "IPY_MODEL_35912b3fbecd4d248ca8d029e98d52e7",
            "value": 0.07091212458286986
          }
        },
        "b5c9f504cc7742e881368fffe3eb9c99": {
          "model_module": "@jupyter-widgets/base",
          "model_module_version": "1.2.0",
          "model_name": "LayoutModel",
          "state": {
            "_model_module": "@jupyter-widgets/base",
            "_model_module_version": "1.2.0",
            "_model_name": "LayoutModel",
            "_view_count": null,
            "_view_module": "@jupyter-widgets/base",
            "_view_module_version": "1.2.0",
            "_view_name": "LayoutView",
            "align_content": null,
            "align_items": null,
            "align_self": null,
            "border": null,
            "bottom": null,
            "display": null,
            "flex": null,
            "flex_flow": null,
            "grid_area": null,
            "grid_auto_columns": null,
            "grid_auto_flow": null,
            "grid_auto_rows": null,
            "grid_column": null,
            "grid_gap": null,
            "grid_row": null,
            "grid_template_areas": null,
            "grid_template_columns": null,
            "grid_template_rows": null,
            "height": null,
            "justify_content": null,
            "justify_items": null,
            "left": null,
            "margin": null,
            "max_height": null,
            "max_width": null,
            "min_height": null,
            "min_width": null,
            "object_fit": null,
            "object_position": null,
            "order": null,
            "overflow": null,
            "overflow_x": null,
            "overflow_y": null,
            "padding": null,
            "right": null,
            "top": null,
            "visibility": null,
            "width": null
          }
        },
        "be3d5e89160948f39306329414e1c94a": {
          "model_module": "@jupyter-widgets/controls",
          "model_module_version": "1.5.0",
          "model_name": "LabelModel",
          "state": {
            "_dom_classes": [],
            "_model_module": "@jupyter-widgets/controls",
            "_model_module_version": "1.5.0",
            "_model_name": "LabelModel",
            "_view_count": null,
            "_view_module": "@jupyter-widgets/controls",
            "_view_module_version": "1.5.0",
            "_view_name": "LabelView",
            "description": "",
            "description_tooltip": null,
            "layout": "IPY_MODEL_549559f06c58402d80dcbc82c53b6f6b",
            "placeholder": "​",
            "style": "IPY_MODEL_00a3a5c6820d4d958c7a33eb1f99dff0",
            "value": "0.001 MB of 0.014 MB uploaded (0.000 MB deduped)\r"
          }
        },
        "d0e98dc7ff8d4a4dbcf402bafaca54df": {
          "model_module": "@jupyter-widgets/base",
          "model_module_version": "1.2.0",
          "model_name": "LayoutModel",
          "state": {
            "_model_module": "@jupyter-widgets/base",
            "_model_module_version": "1.2.0",
            "_model_name": "LayoutModel",
            "_view_count": null,
            "_view_module": "@jupyter-widgets/base",
            "_view_module_version": "1.2.0",
            "_view_name": "LayoutView",
            "align_content": null,
            "align_items": null,
            "align_self": null,
            "border": null,
            "bottom": null,
            "display": null,
            "flex": null,
            "flex_flow": null,
            "grid_area": null,
            "grid_auto_columns": null,
            "grid_auto_flow": null,
            "grid_auto_rows": null,
            "grid_column": null,
            "grid_gap": null,
            "grid_row": null,
            "grid_template_areas": null,
            "grid_template_columns": null,
            "grid_template_rows": null,
            "height": null,
            "justify_content": null,
            "justify_items": null,
            "left": null,
            "margin": null,
            "max_height": null,
            "max_width": null,
            "min_height": null,
            "min_width": null,
            "object_fit": null,
            "object_position": null,
            "order": null,
            "overflow": null,
            "overflow_x": null,
            "overflow_y": null,
            "padding": null,
            "right": null,
            "top": null,
            "visibility": null,
            "width": null
          }
        }
      }
    }
  },
  "nbformat": 4,
  "nbformat_minor": 0
}
